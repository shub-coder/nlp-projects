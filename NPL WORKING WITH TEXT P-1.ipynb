{
 "cells": [
  {
   "cell_type": "markdown",
   "id": "rising-conservative",
   "metadata": {},
   "source": [
    "FORMATTED STRING LITERALS"
   ]
  },
  {
   "cell_type": "code",
   "execution_count": 6,
   "id": "lesbian-mathematics",
   "metadata": {},
   "outputs": [
    {
     "name": "stdout",
     "output_type": "stream",
     "text": [
      "my name is Shubhendu\n"
     ]
    }
   ],
   "source": [
    "person = \"Shubhendu\"\n",
    "print(\"my name is {}\".format(person))#OLD METHOD"
   ]
  },
  {
   "cell_type": "code",
   "execution_count": 7,
   "id": "included-newfoundland",
   "metadata": {},
   "outputs": [
    {
     "name": "stdout",
     "output_type": "stream",
     "text": [
      "my name is Shubhendu\n"
     ]
    }
   ],
   "source": [
    "print(f\"my name is {person}\")#NEW METHOD"
   ]
  },
  {
   "cell_type": "markdown",
   "id": "chubby-premium",
   "metadata": {},
   "source": [
    "MINIMUM WIDTH, ALIGNMENT AND PADDING"
   ]
  },
  {
   "cell_type": "code",
   "execution_count": 8,
   "id": "aware-international",
   "metadata": {},
   "outputs": [
    {
     "name": "stdout",
     "output_type": "stream",
     "text": [
      "Singer     SONG                           GOOD OR BAD                             \n",
      "Arijit     Hawayein                       good                                    \n",
      "kumar Sanu Chura ke Dil Mera              good                                    \n",
      "Baadshah   Genda Phool                    Worst Song of the Century               \n"
     ]
    }
   ],
   "source": [
    "library = [('Singer', 'SONG', 'GOOD OR BAD'), ('Arijit', 'Hawayein', 'good'), ('kumar Sanu', 'Chura ke Dil Mera', 'good'), ('Baadshah', 'Genda Phool', 'Worst Song of the Century')]\n",
    "\n",
    "for songs in library:\n",
    "    print(f\"{songs[0]:{10}} {songs[1]:{30}} {songs[2]:{40}}\")"
   ]
  },
  {
   "cell_type": "markdown",
   "id": "nuclear-argentina",
   "metadata": {},
   "source": [
    "FORMAT DATE TIME"
   ]
  },
  {
   "cell_type": "code",
   "execution_count": 9,
   "id": "diverse-cedar",
   "metadata": {},
   "outputs": [
    {
     "name": "stdout",
     "output_type": "stream",
     "text": [
      "March 01, 2021\n"
     ]
    }
   ],
   "source": [
    "from datetime import datetime\n",
    "\n",
    "today = datetime(year=2021, month=3, day=1)\n",
    "\n",
    "print(f'{today:%B %d, %Y}')"
   ]
  },
  {
   "cell_type": "code",
   "execution_count": 10,
   "id": "focused-accordance",
   "metadata": {},
   "outputs": [
    {
     "name": "stderr",
     "output_type": "stream",
     "text": [
      "UsageError: unrecognized arguments: A TEXT FILE\n"
     ]
    }
   ],
   "source": [
    "%%writefile AboutMyself.txt#WRITING A TEXT FILE\n",
    "My name is Shubhendu Mishra and I am a student \n",
    "of Birla Institute of Technology Mesra"
   ]
  },
  {
   "cell_type": "code",
   "execution_count": 12,
   "id": "recent-genesis",
   "metadata": {},
   "outputs": [
    {
     "data": {
      "text/plain": [
       "'C:\\\\ML DL RELATED\\\\ML DL RELATED YML'"
      ]
     },
     "execution_count": 12,
     "metadata": {},
     "output_type": "execute_result"
    }
   ],
   "source": [
    "pwd#LOCATION OF NB"
   ]
  },
  {
   "cell_type": "code",
   "execution_count": 13,
   "id": "united-sender",
   "metadata": {},
   "outputs": [],
   "source": [
    "myfile = open('AboutMyself.txt')"
   ]
  },
  {
   "cell_type": "code",
   "execution_count": 14,
   "id": "compressed-celebration",
   "metadata": {},
   "outputs": [
    {
     "data": {
      "text/plain": [
       "<_io.TextIOWrapper name='AboutMyself.txt' mode='r' encoding='cp1252'>"
      ]
     },
     "execution_count": 14,
     "metadata": {},
     "output_type": "execute_result"
    }
   ],
   "source": [
    "myfile"
   ]
  },
  {
   "cell_type": "code",
   "execution_count": 15,
   "id": "manufactured-cycling",
   "metadata": {},
   "outputs": [
    {
     "data": {
      "text/plain": [
       "'My name is Shubhendu Mishra and I am a student \\nof Birla Institute of Technology Mesra\\nI am currently a third year student of Mathematics and computingI am currently a third year student of Mathematics and computing'"
      ]
     },
     "execution_count": 15,
     "metadata": {},
     "output_type": "execute_result"
    }
   ],
   "source": [
    "myfile.read()#READING OF CONTENTS OF FILE"
   ]
  },
  {
   "cell_type": "code",
   "execution_count": 16,
   "id": "muslim-violence",
   "metadata": {},
   "outputs": [
    {
     "data": {
      "text/plain": [
       "''"
      ]
     },
     "execution_count": 16,
     "metadata": {},
     "output_type": "execute_result"
    }
   ],
   "source": [
    "myfile.read()#SINCE CURSOR IS AT THE END OF THE FILE CONTENT THE OUTPUT OF THIS LINE SHOWS JUST THE QUOTES"
   ]
  },
  {
   "cell_type": "code",
   "execution_count": 17,
   "id": "entertaining-spyware",
   "metadata": {},
   "outputs": [
    {
     "data": {
      "text/plain": [
       "0"
      ]
     },
     "execution_count": 17,
     "metadata": {},
     "output_type": "execute_result"
    }
   ],
   "source": [
    "myfile.seek(0)#TO BRING BACK THE CURSOR TO THE STARTING"
   ]
  },
  {
   "cell_type": "code",
   "execution_count": 18,
   "id": "modern-fiber",
   "metadata": {},
   "outputs": [
    {
     "data": {
      "text/plain": [
       "'My name is Shubhendu Mishra and I am a student \\nof Birla Institute of Technology Mesra\\nI am currently a third year student of Mathematics and computingI am currently a third year student of Mathematics and computing'"
      ]
     },
     "execution_count": 18,
     "metadata": {},
     "output_type": "execute_result"
    }
   ],
   "source": [
    "myfile.read()#AGAIN WE CAN USE THIS COMMAND NOW"
   ]
  },
  {
   "cell_type": "code",
   "execution_count": 19,
   "id": "mighty-extraction",
   "metadata": {},
   "outputs": [
    {
     "data": {
      "text/plain": [
       "0"
      ]
     },
     "execution_count": 19,
     "metadata": {},
     "output_type": "execute_result"
    }
   ],
   "source": [
    "myfile.seek(0)"
   ]
  },
  {
   "cell_type": "code",
   "execution_count": 20,
   "id": "ultimate-strengthening",
   "metadata": {},
   "outputs": [
    {
     "data": {
      "text/plain": [
       "<_io.TextIOWrapper name='AboutMyself.txt' mode='r' encoding='cp1252'>"
      ]
     },
     "execution_count": 20,
     "metadata": {},
     "output_type": "execute_result"
    }
   ],
   "source": [
    "myfile"
   ]
  },
  {
   "cell_type": "code",
   "execution_count": 21,
   "id": "intense-citizen",
   "metadata": {},
   "outputs": [
    {
     "data": {
      "text/plain": [
       "'My name is Shubhendu Mishra and I am a student \\nof Birla Institute of Technology Mesra\\nI am currently a third year student of Mathematics and computingI am currently a third year student of Mathematics and computing'"
      ]
     },
     "execution_count": 21,
     "metadata": {},
     "output_type": "execute_result"
    }
   ],
   "source": [
    "myfile.read()"
   ]
  },
  {
   "cell_type": "code",
   "execution_count": 22,
   "id": "usual-contrary",
   "metadata": {},
   "outputs": [
    {
     "data": {
      "text/plain": [
       "0"
      ]
     },
     "execution_count": 22,
     "metadata": {},
     "output_type": "execute_result"
    }
   ],
   "source": [
    "myfile.seek(0)"
   ]
  },
  {
   "cell_type": "code",
   "execution_count": 23,
   "id": "advanced-deputy",
   "metadata": {},
   "outputs": [
    {
     "data": {
      "text/plain": [
       "['My name is Shubhendu Mishra and I am a student \\n',\n",
       " 'of Birla Institute of Technology Mesra\\n',\n",
       " 'I am currently a third year student of Mathematics and computingI am currently a third year student of Mathematics and computing']"
      ]
     },
     "execution_count": 23,
     "metadata": {},
     "output_type": "execute_result"
    }
   ],
   "source": [
    "lines=myfile.readlines()\n",
    "lines"
   ]
  },
  {
   "cell_type": "code",
   "execution_count": 24,
   "id": "peaceful-crowd",
   "metadata": {},
   "outputs": [
    {
     "name": "stdout",
     "output_type": "stream",
     "text": [
      "My\n",
      "of\n",
      "I\n"
     ]
    }
   ],
   "source": [
    "for line in lines:#THIS GIVES THE FIRST WORD OF DIFFERENT LINES\n",
    "    print(line.split()[0])"
   ]
  },
  {
   "cell_type": "code",
   "execution_count": 25,
   "id": "postal-meaning",
   "metadata": {},
   "outputs": [
    {
     "name": "stdout",
     "output_type": "stream",
     "text": [
      "M\n",
      "o\n",
      "I\n"
     ]
    }
   ],
   "source": [
    "for line in lines:#THIS GIVES FIRST CHARECTER OF DIFFERENT LINES\n",
    "    print(line[0])"
   ]
  },
  {
   "cell_type": "code",
   "execution_count": 26,
   "id": "objective-province",
   "metadata": {},
   "outputs": [],
   "source": [
    "myfile.close()#CLOSE THE FILE"
   ]
  },
  {
   "cell_type": "code",
   "execution_count": 27,
   "id": "smart-cream",
   "metadata": {},
   "outputs": [],
   "source": [
    "myfile=open('AboutMyself.txt', 'a+')#OPEN FILE FOR WRITING IT"
   ]
  },
  {
   "cell_type": "code",
   "execution_count": 28,
   "id": "returning-blair",
   "metadata": {},
   "outputs": [
    {
     "data": {
      "text/plain": [
       "64"
      ]
     },
     "execution_count": 28,
     "metadata": {},
     "output_type": "execute_result"
    }
   ],
   "source": [
    "myfile.write('I am currently a third year student of Mathematics and computing')"
   ]
  },
  {
   "cell_type": "code",
   "execution_count": 29,
   "id": "cardiovascular-customs",
   "metadata": {},
   "outputs": [],
   "source": [
    "myfile.close()"
   ]
  },
  {
   "cell_type": "code",
   "execution_count": 30,
   "id": "coral-actor",
   "metadata": {},
   "outputs": [],
   "source": [
    "myfile=open('AboutMyself.txt')"
   ]
  },
  {
   "cell_type": "code",
   "execution_count": 31,
   "id": "capable-christmas",
   "metadata": {},
   "outputs": [
    {
     "data": {
      "text/plain": [
       "'My name is Shubhendu Mishra and I am a student \\nof Birla Institute of Technology Mesra\\nI am currently a third year student of Mathematics and computingI am currently a third year student of Mathematics and computingI am currently a third year student of Mathematics and computing'"
      ]
     },
     "execution_count": 31,
     "metadata": {},
     "output_type": "execute_result"
    }
   ],
   "source": [
    "myfile.read()"
   ]
  },
  {
   "cell_type": "code",
   "execution_count": 32,
   "id": "norman-bobby",
   "metadata": {},
   "outputs": [
    {
     "data": {
      "text/plain": [
       "0"
      ]
     },
     "execution_count": 32,
     "metadata": {},
     "output_type": "execute_result"
    }
   ],
   "source": [
    "myfile.seek(0)"
   ]
  },
  {
   "cell_type": "code",
   "execution_count": 33,
   "id": "rotary-republic",
   "metadata": {},
   "outputs": [
    {
     "data": {
      "text/plain": [
       "['My name is Shubhendu Mishra and I am a student \\n',\n",
       " 'of Birla Institute of Technology Mesra\\n',\n",
       " 'I am currently a third year student of Mathematics and computingI am currently a third year student of Mathematics and computingI am currently a third year student of Mathematics and computing']"
      ]
     },
     "execution_count": 33,
     "metadata": {},
     "output_type": "execute_result"
    }
   ],
   "source": [
    "line=myfile.readlines()\n",
    "line"
   ]
  },
  {
   "cell_type": "code",
   "execution_count": 34,
   "id": "tight-closing",
   "metadata": {},
   "outputs": [],
   "source": [
    "myfile.close()"
   ]
  },
  {
   "cell_type": "code",
   "execution_count": null,
   "id": "demanding-spank",
   "metadata": {},
   "outputs": [],
   "source": []
  }
 ],
 "metadata": {
  "kernelspec": {
   "display_name": "Python 3",
   "language": "python",
   "name": "python3"
  },
  "language_info": {
   "codemirror_mode": {
    "name": "ipython",
    "version": 3
   },
   "file_extension": ".py",
   "mimetype": "text/x-python",
   "name": "python",
   "nbconvert_exporter": "python",
   "pygments_lexer": "ipython3",
   "version": "3.7.10"
  }
 },
 "nbformat": 4,
 "nbformat_minor": 5
}
