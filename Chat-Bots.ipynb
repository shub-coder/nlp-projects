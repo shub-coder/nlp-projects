{
 "cells": [
  {
   "cell_type": "markdown",
   "metadata": {},
   "source": [
    "CHATBOTS"
   ]
  },
  {
   "cell_type": "code",
   "execution_count": 2,
   "metadata": {},
   "outputs": [],
   "source": [
    "import pickle\n",
    "import numpy as np"
   ]
  },
  {
   "cell_type": "code",
   "execution_count": 3,
   "metadata": {},
   "outputs": [],
   "source": [
    "with open(\"train_qa.txt\", \"rb\") as fp:   # Unpickling\n",
    "    train_data =  pickle.load(fp)"
   ]
  },
  {
   "cell_type": "code",
   "execution_count": 4,
   "metadata": {},
   "outputs": [],
   "source": [
    "with open(\"test_qa.txt\", \"rb\") as fp:   # Unpickling\n",
    "    test_data =  pickle.load(fp)"
   ]
  },
  {
   "cell_type": "markdown",
   "metadata": {},
   "source": [
    "----"
   ]
  },
  {
   "cell_type": "markdown",
   "metadata": {},
   "source": [
    "## Exploring the Format of the Data"
   ]
  },
  {
   "cell_type": "code",
   "execution_count": 5,
   "metadata": {},
   "outputs": [
    {
     "data": {
      "text/plain": [
       "list"
      ]
     },
     "execution_count": 5,
     "metadata": {},
     "output_type": "execute_result"
    }
   ],
   "source": [
    "type(test_data)"
   ]
  },
  {
   "cell_type": "code",
   "execution_count": 6,
   "metadata": {},
   "outputs": [
    {
     "data": {
      "text/plain": [
       "list"
      ]
     },
     "execution_count": 6,
     "metadata": {},
     "output_type": "execute_result"
    }
   ],
   "source": [
    "type(train_data)"
   ]
  },
  {
   "cell_type": "code",
   "execution_count": 7,
   "metadata": {},
   "outputs": [
    {
     "data": {
      "text/plain": [
       "1000"
      ]
     },
     "execution_count": 7,
     "metadata": {},
     "output_type": "execute_result"
    }
   ],
   "source": [
    "len(test_data)"
   ]
  },
  {
   "cell_type": "code",
   "execution_count": 8,
   "metadata": {},
   "outputs": [
    {
     "data": {
      "text/plain": [
       "10000"
      ]
     },
     "execution_count": 8,
     "metadata": {},
     "output_type": "execute_result"
    }
   ],
   "source": [
    "len(train_data)"
   ]
  },
  {
   "cell_type": "code",
   "execution_count": 9,
   "metadata": {},
   "outputs": [
    {
     "data": {
      "text/plain": [
       "(['Mary',\n",
       "  'moved',\n",
       "  'to',\n",
       "  'the',\n",
       "  'bathroom',\n",
       "  '.',\n",
       "  'Sandra',\n",
       "  'journeyed',\n",
       "  'to',\n",
       "  'the',\n",
       "  'bedroom',\n",
       "  '.'],\n",
       " ['Is', 'Sandra', 'in', 'the', 'hallway', '?'],\n",
       " 'no')"
      ]
     },
     "execution_count": 9,
     "metadata": {},
     "output_type": "execute_result"
    }
   ],
   "source": [
    "train_data[0]"
   ]
  },
  {
   "cell_type": "code",
   "execution_count": 10,
   "metadata": {},
   "outputs": [
    {
     "data": {
      "text/plain": [
       "'Mary moved to the bathroom . Sandra journeyed to the bedroom .'"
      ]
     },
     "execution_count": 10,
     "metadata": {},
     "output_type": "execute_result"
    }
   ],
   "source": [
    "' '.join(train_data[0][0])"
   ]
  },
  {
   "cell_type": "code",
   "execution_count": 11,
   "metadata": {},
   "outputs": [
    {
     "data": {
      "text/plain": [
       "'Is Sandra in the hallway ?'"
      ]
     },
     "execution_count": 11,
     "metadata": {},
     "output_type": "execute_result"
    }
   ],
   "source": [
    "' '.join(train_data[0][1])"
   ]
  },
  {
   "cell_type": "code",
   "execution_count": 12,
   "metadata": {},
   "outputs": [
    {
     "data": {
      "text/plain": [
       "'no'"
      ]
     },
     "execution_count": 12,
     "metadata": {},
     "output_type": "execute_result"
    }
   ],
   "source": [
    "train_data[0][2]"
   ]
  },
  {
   "cell_type": "markdown",
   "metadata": {},
   "source": [
    "-----\n",
    "\n",
    "## Setting up Vocabulary of All Words"
   ]
  },
  {
   "cell_type": "code",
   "execution_count": 13,
   "metadata": {},
   "outputs": [],
   "source": [
    "# Create a set that holds the vocab words\n",
    "vocab = set()"
   ]
  },
  {
   "cell_type": "code",
   "execution_count": 14,
   "metadata": {},
   "outputs": [],
   "source": [
    "all_data = test_data + train_data"
   ]
  },
  {
   "cell_type": "code",
   "execution_count": 15,
   "metadata": {},
   "outputs": [],
   "source": [
    "for story, question , answer in all_data:\n",
    "    # In case you don't know what a union of sets is:\n",
    "    # https://www.programiz.com/python-programming/methods/set/union\n",
    "    vocab = vocab.union(set(story))\n",
    "    vocab = vocab.union(set(question))"
   ]
  },
  {
   "cell_type": "code",
   "execution_count": 16,
   "metadata": {},
   "outputs": [],
   "source": [
    "vocab.add('no')\n",
    "vocab.add('yes')"
   ]
  },
  {
   "cell_type": "code",
   "execution_count": 17,
   "metadata": {},
   "outputs": [
    {
     "data": {
      "text/plain": [
       "{'.',\n",
       " '?',\n",
       " 'Daniel',\n",
       " 'Is',\n",
       " 'John',\n",
       " 'Mary',\n",
       " 'Sandra',\n",
       " 'apple',\n",
       " 'back',\n",
       " 'bathroom',\n",
       " 'bedroom',\n",
       " 'discarded',\n",
       " 'down',\n",
       " 'dropped',\n",
       " 'football',\n",
       " 'garden',\n",
       " 'got',\n",
       " 'grabbed',\n",
       " 'hallway',\n",
       " 'in',\n",
       " 'journeyed',\n",
       " 'kitchen',\n",
       " 'left',\n",
       " 'milk',\n",
       " 'moved',\n",
       " 'no',\n",
       " 'office',\n",
       " 'picked',\n",
       " 'put',\n",
       " 'the',\n",
       " 'there',\n",
       " 'to',\n",
       " 'took',\n",
       " 'travelled',\n",
       " 'up',\n",
       " 'went',\n",
       " 'yes'}"
      ]
     },
     "execution_count": 17,
     "metadata": {},
     "output_type": "execute_result"
    }
   ],
   "source": [
    "vocab"
   ]
  },
  {
   "cell_type": "code",
   "execution_count": 18,
   "metadata": {},
   "outputs": [],
   "source": [
    "vocab_len = len(vocab) + 1 #we add an extra space to hold a 0 for Keras's pad_sequences"
   ]
  },
  {
   "cell_type": "code",
   "execution_count": 19,
   "metadata": {},
   "outputs": [],
   "source": [
    "max_story_len = max([len(data[0]) for data in all_data])"
   ]
  },
  {
   "cell_type": "code",
   "execution_count": 20,
   "metadata": {},
   "outputs": [
    {
     "data": {
      "text/plain": [
       "156"
      ]
     },
     "execution_count": 20,
     "metadata": {},
     "output_type": "execute_result"
    }
   ],
   "source": [
    "max_story_len"
   ]
  },
  {
   "cell_type": "code",
   "execution_count": 21,
   "metadata": {},
   "outputs": [],
   "source": [
    "max_question_len = max([len(data[1]) for data in all_data])"
   ]
  },
  {
   "cell_type": "code",
   "execution_count": 22,
   "metadata": {},
   "outputs": [
    {
     "data": {
      "text/plain": [
       "6"
      ]
     },
     "execution_count": 22,
     "metadata": {},
     "output_type": "execute_result"
    }
   ],
   "source": [
    "max_question_len"
   ]
  },
  {
   "cell_type": "markdown",
   "metadata": {},
   "source": [
    "## Vectorizing the Data"
   ]
  },
  {
   "cell_type": "code",
   "execution_count": 23,
   "metadata": {},
   "outputs": [
    {
     "data": {
      "text/plain": [
       "{'.',\n",
       " '?',\n",
       " 'Daniel',\n",
       " 'Is',\n",
       " 'John',\n",
       " 'Mary',\n",
       " 'Sandra',\n",
       " 'apple',\n",
       " 'back',\n",
       " 'bathroom',\n",
       " 'bedroom',\n",
       " 'discarded',\n",
       " 'down',\n",
       " 'dropped',\n",
       " 'football',\n",
       " 'garden',\n",
       " 'got',\n",
       " 'grabbed',\n",
       " 'hallway',\n",
       " 'in',\n",
       " 'journeyed',\n",
       " 'kitchen',\n",
       " 'left',\n",
       " 'milk',\n",
       " 'moved',\n",
       " 'no',\n",
       " 'office',\n",
       " 'picked',\n",
       " 'put',\n",
       " 'the',\n",
       " 'there',\n",
       " 'to',\n",
       " 'took',\n",
       " 'travelled',\n",
       " 'up',\n",
       " 'went',\n",
       " 'yes'}"
      ]
     },
     "execution_count": 23,
     "metadata": {},
     "output_type": "execute_result"
    }
   ],
   "source": [
    "vocab"
   ]
  },
  {
   "cell_type": "code",
   "execution_count": 24,
   "metadata": {},
   "outputs": [],
   "source": [
    "# Reserve 0 for pad_sequences\n",
    "vocab_size = len(vocab) + 1"
   ]
  },
  {
   "cell_type": "markdown",
   "metadata": {},
   "source": [
    "-----------"
   ]
  },
  {
   "cell_type": "code",
   "execution_count": 25,
   "metadata": {},
   "outputs": [
    {
     "name": "stderr",
     "output_type": "stream",
     "text": [
      "Using TensorFlow backend.\n"
     ]
    }
   ],
   "source": [
    "from keras.preprocessing.sequence import pad_sequences\n",
    "from keras.preprocessing.text import Tokenizer"
   ]
  },
  {
   "cell_type": "code",
   "execution_count": 26,
   "metadata": {},
   "outputs": [],
   "source": [
    "# integer encode sequences of words\n",
    "tokenizer = Tokenizer(filters=[])\n",
    "tokenizer.fit_on_texts(vocab)"
   ]
  },
  {
   "cell_type": "code",
   "execution_count": 27,
   "metadata": {},
   "outputs": [
    {
     "data": {
      "text/plain": [
       "{'yes': 1,\n",
       " '?': 2,\n",
       " 'took': 3,\n",
       " 'the': 4,\n",
       " '.': 5,\n",
       " 'left': 6,\n",
       " 'grabbed': 7,\n",
       " 'apple': 8,\n",
       " 'to': 9,\n",
       " 'is': 10,\n",
       " 'office': 11,\n",
       " 'dropped': 12,\n",
       " 'mary': 13,\n",
       " 'discarded': 14,\n",
       " 'down': 15,\n",
       " 'there': 16,\n",
       " 'kitchen': 17,\n",
       " 'no': 18,\n",
       " 'went': 19,\n",
       " 'up': 20,\n",
       " 'football': 21,\n",
       " 'milk': 22,\n",
       " 'moved': 23,\n",
       " 'travelled': 24,\n",
       " 'sandra': 25,\n",
       " 'put': 26,\n",
       " 'bedroom': 27,\n",
       " 'journeyed': 28,\n",
       " 'picked': 29,\n",
       " 'bathroom': 30,\n",
       " 'daniel': 31,\n",
       " 'back': 32,\n",
       " 'got': 33,\n",
       " 'john': 34,\n",
       " 'in': 35,\n",
       " 'hallway': 36,\n",
       " 'garden': 37}"
      ]
     },
     "execution_count": 27,
     "metadata": {},
     "output_type": "execute_result"
    }
   ],
   "source": [
    "tokenizer.word_index"
   ]
  },
  {
   "cell_type": "code",
   "execution_count": 28,
   "metadata": {},
   "outputs": [],
   "source": [
    "train_story_text = []\n",
    "train_question_text = []\n",
    "train_answers = []\n",
    "\n",
    "for story,question,answer in train_data:\n",
    "    train_story_text.append(story)\n",
    "    train_question_text.append(question)"
   ]
  },
  {
   "cell_type": "code",
   "execution_count": 29,
   "metadata": {},
   "outputs": [],
   "source": [
    "train_story_seq = tokenizer.texts_to_sequences(train_story_text)"
   ]
  },
  {
   "cell_type": "code",
   "execution_count": 30,
   "metadata": {},
   "outputs": [
    {
     "data": {
      "text/plain": [
       "10000"
      ]
     },
     "execution_count": 30,
     "metadata": {},
     "output_type": "execute_result"
    }
   ],
   "source": [
    "len(train_story_text)"
   ]
  },
  {
   "cell_type": "code",
   "execution_count": 31,
   "metadata": {},
   "outputs": [
    {
     "data": {
      "text/plain": [
       "10000"
      ]
     },
     "execution_count": 31,
     "metadata": {},
     "output_type": "execute_result"
    }
   ],
   "source": [
    "len(train_story_seq)"
   ]
  },
  {
   "cell_type": "code",
   "execution_count": 32,
   "metadata": {},
   "outputs": [],
   "source": [
    "# word_index = tokenizer.word_index"
   ]
  },
  {
   "cell_type": "markdown",
   "metadata": {},
   "source": [
    "### Functionalize Vectorization"
   ]
  },
  {
   "cell_type": "code",
   "execution_count": 33,
   "metadata": {},
   "outputs": [],
   "source": [
    "def vectorize_stories(data, word_index=tokenizer.word_index, max_story_len=max_story_len,max_question_len=max_question_len):\n",
    "    '''\n",
    "    INPUT: \n",
    "    \n",
    "    data: consisting of Stories,Queries,and Answers\n",
    "    word_index: word index dictionary from tokenizer\n",
    "    max_story_len: the length of the longest story (used for pad_sequences function)\n",
    "    max_question_len: length of the longest question (used for pad_sequences function)\n",
    "\n",
    "\n",
    "    OUTPUT:\n",
    "    \n",
    "    Vectorizes the stories,questions, and answers into padded sequences. We first loop for every story, query , and\n",
    "    answer in the data. Then we convert the raw words to an word index value. Then we append each set to their appropriate\n",
    "    output list. Then once we have converted the words to numbers, we pad the sequences so they are all of equal length.\n",
    "    \n",
    "    Returns this in the form of a tuple (X,Xq,Y) (padded based on max lengths)\n",
    "    '''\n",
    "    \n",
    "    \n",
    "    # X = STORIES\n",
    "    X = []\n",
    "    # Xq = QUERY/QUESTION\n",
    "    Xq = []\n",
    "    # Y = CORRECT ANSWER\n",
    "    Y = []\n",
    "    \n",
    "    \n",
    "    for story, query, answer in data:\n",
    "        \n",
    "        # Grab the word index for every word in story\n",
    "        x = [word_index[word.lower()] for word in story]\n",
    "        # Grab the word index for every word in query\n",
    "        xq = [word_index[word.lower()] for word in query]\n",
    "        \n",
    "        # Grab the Answers (either Yes/No so we don't need to use list comprehension here)\n",
    "        # Index 0 is reserved so we're going to use + 1\n",
    "        y = np.zeros(len(word_index) + 1)\n",
    "        \n",
    "        # Now that y is all zeros and we know its just Yes/No , we can use numpy logic to create this assignment\n",
    "        #\n",
    "        y[word_index[answer]] = 1\n",
    "        \n",
    "        # Append each set of story,query, and answer to their respective holding lists\n",
    "        X.append(x)\n",
    "        Xq.append(xq)\n",
    "        Y.append(y)\n",
    "        \n",
    "    # Finally, pad the sequences based on their max length so the RNN can be trained on uniformly long sequences.\n",
    "        \n",
    "    # RETURN TUPLE FOR UNPACKING\n",
    "    return (pad_sequences(X, maxlen=max_story_len),pad_sequences(Xq, maxlen=max_question_len), np.array(Y))"
   ]
  },
  {
   "cell_type": "code",
   "execution_count": 34,
   "metadata": {},
   "outputs": [],
   "source": [
    "inputs_train, queries_train, answers_train = vectorize_stories(train_data)"
   ]
  },
  {
   "cell_type": "code",
   "execution_count": 35,
   "metadata": {},
   "outputs": [],
   "source": [
    "inputs_test, queries_test, answers_test = vectorize_stories(test_data)"
   ]
  },
  {
   "cell_type": "code",
   "execution_count": 36,
   "metadata": {},
   "outputs": [
    {
     "data": {
      "text/plain": [
       "array([[ 0,  0,  0, ...,  4, 27,  5],\n",
       "       [ 0,  0,  0, ...,  4, 37,  5],\n",
       "       [ 0,  0,  0, ...,  4, 37,  5],\n",
       "       ...,\n",
       "       [ 0,  0,  0, ...,  4,  8,  5],\n",
       "       [ 0,  0,  0, ...,  4, 37,  5],\n",
       "       [ 0,  0,  0, ...,  8, 16,  5]])"
      ]
     },
     "execution_count": 36,
     "metadata": {},
     "output_type": "execute_result"
    }
   ],
   "source": [
    "inputs_test"
   ]
  },
  {
   "cell_type": "code",
   "execution_count": 37,
   "metadata": {},
   "outputs": [
    {
     "data": {
      "text/plain": [
       "array([[10, 34, 35,  4, 17,  2],\n",
       "       [10, 34, 35,  4, 17,  2],\n",
       "       [10, 34, 35,  4, 37,  2],\n",
       "       ...,\n",
       "       [10, 13, 35,  4, 27,  2],\n",
       "       [10, 25, 35,  4, 37,  2],\n",
       "       [10, 13, 35,  4, 37,  2]])"
      ]
     },
     "execution_count": 37,
     "metadata": {},
     "output_type": "execute_result"
    }
   ],
   "source": [
    "queries_test"
   ]
  },
  {
   "cell_type": "code",
   "execution_count": 38,
   "metadata": {},
   "outputs": [
    {
     "data": {
      "text/plain": [
       "array([[0., 0., 0., ..., 0., 0., 0.],\n",
       "       [0., 0., 0., ..., 0., 0., 0.],\n",
       "       [0., 1., 0., ..., 0., 0., 0.],\n",
       "       ...,\n",
       "       [0., 0., 0., ..., 0., 0., 0.],\n",
       "       [0., 1., 0., ..., 0., 0., 0.],\n",
       "       [0., 1., 0., ..., 0., 0., 0.]])"
      ]
     },
     "execution_count": 38,
     "metadata": {},
     "output_type": "execute_result"
    }
   ],
   "source": [
    "answers_test"
   ]
  },
  {
   "cell_type": "code",
   "execution_count": 39,
   "metadata": {},
   "outputs": [
    {
     "data": {
      "text/plain": [
       "array([  0., 497.,   0.,   0.,   0.,   0.,   0.,   0.,   0.,   0.,   0.,\n",
       "         0.,   0.,   0.,   0.,   0.,   0.,   0., 503.,   0.,   0.,   0.,\n",
       "         0.,   0.,   0.,   0.,   0.,   0.,   0.,   0.,   0.,   0.,   0.,\n",
       "         0.,   0.,   0.,   0.,   0.])"
      ]
     },
     "execution_count": 39,
     "metadata": {},
     "output_type": "execute_result"
    }
   ],
   "source": [
    "sum(answers_test)"
   ]
  },
  {
   "cell_type": "code",
   "execution_count": 40,
   "metadata": {},
   "outputs": [
    {
     "data": {
      "text/plain": [
       "1"
      ]
     },
     "execution_count": 40,
     "metadata": {},
     "output_type": "execute_result"
    }
   ],
   "source": [
    "tokenizer.word_index['yes']"
   ]
  },
  {
   "cell_type": "code",
   "execution_count": 41,
   "metadata": {},
   "outputs": [
    {
     "data": {
      "text/plain": [
       "18"
      ]
     },
     "execution_count": 41,
     "metadata": {},
     "output_type": "execute_result"
    }
   ],
   "source": [
    "tokenizer.word_index['no']"
   ]
  },
  {
   "cell_type": "markdown",
   "metadata": {},
   "source": [
    "## Creating the Model"
   ]
  },
  {
   "cell_type": "code",
   "execution_count": 42,
   "metadata": {},
   "outputs": [],
   "source": [
    "from keras.models import Sequential, Model\n",
    "from keras.layers.embeddings import Embedding\n",
    "from keras.layers import Input, Activation, Dense, Permute, Dropout\n",
    "from keras.layers import add, dot, concatenate\n",
    "from keras.layers import LSTM"
   ]
  },
  {
   "cell_type": "markdown",
   "metadata": {},
   "source": [
    "### Placeholders for Inputs\n",
    "\n",
    "Recall we technically have two inputs, stories and questions. So we need to use placeholders. `Input()` is used to instantiate a Keras tensor.\n"
   ]
  },
  {
   "cell_type": "code",
   "execution_count": 43,
   "metadata": {},
   "outputs": [],
   "source": [
    "input_sequence = Input((max_story_len,))\n",
    "question = Input((max_question_len,))"
   ]
  },
  {
   "cell_type": "markdown",
   "metadata": {
    "collapsed": true
   },
   "source": [
    "### Building the Networks\n",
    "\n",
    "To understand why we chose this setup, make sure to read the paper we are using:\n",
    "\n",
    "* Sainbayar Sukhbaatar, Arthur Szlam, Jason Weston, Rob Fergus,\n",
    "  \"End-To-End Memory Networks\",\n",
    "  http://arxiv.org/abs/1503.08895"
   ]
  },
  {
   "cell_type": "markdown",
   "metadata": {},
   "source": [
    "## Encoders\n",
    "\n",
    "### Input Encoder m"
   ]
  },
  {
   "cell_type": "code",
   "execution_count": 44,
   "metadata": {},
   "outputs": [
    {
     "name": "stdout",
     "output_type": "stream",
     "text": [
      "WARNING:tensorflow:From C:\\Users\\shubhendu\\.conda\\envs\\nlp_course\\lib\\site-packages\\tensorflow\\python\\ops\\resource_variable_ops.py:435: colocate_with (from tensorflow.python.framework.ops) is deprecated and will be removed in a future version.\n",
      "Instructions for updating:\n",
      "Colocations handled automatically by placer.\n"
     ]
    }
   ],
   "source": [
    "# Input gets embedded to a sequence of vectors\n",
    "input_encoder_m = Sequential()\n",
    "input_encoder_m.add(Embedding(input_dim=vocab_size,output_dim=64))\n",
    "input_encoder_m.add(Dropout(0.3))\n",
    "\n",
    "# This encoder will output:\n",
    "# (samples, story_maxlen, embedding_dim)"
   ]
  },
  {
   "cell_type": "markdown",
   "metadata": {},
   "source": [
    "### Input Encoder c"
   ]
  },
  {
   "cell_type": "code",
   "execution_count": 45,
   "metadata": {},
   "outputs": [],
   "source": [
    "# embed the input into a sequence of vectors of size query_maxlen\n",
    "input_encoder_c = Sequential()\n",
    "input_encoder_c.add(Embedding(input_dim=vocab_size,output_dim=max_question_len))\n",
    "input_encoder_c.add(Dropout(0.3))\n",
    "# output: (samples, story_maxlen, query_maxlen)"
   ]
  },
  {
   "cell_type": "markdown",
   "metadata": {},
   "source": [
    "### Question Encoder"
   ]
  },
  {
   "cell_type": "code",
   "execution_count": 46,
   "metadata": {},
   "outputs": [],
   "source": [
    "# embed the question into a sequence of vectors\n",
    "question_encoder = Sequential()\n",
    "question_encoder.add(Embedding(input_dim=vocab_size,\n",
    "                               output_dim=64,\n",
    "                               input_length=max_question_len))\n",
    "question_encoder.add(Dropout(0.3))\n",
    "# output: (samples, query_maxlen, embedding_dim)"
   ]
  },
  {
   "cell_type": "markdown",
   "metadata": {},
   "source": [
    "### Encode the Sequences"
   ]
  },
  {
   "cell_type": "code",
   "execution_count": 47,
   "metadata": {},
   "outputs": [],
   "source": [
    "# encode input sequence and questions (which are indices)\n",
    "# to sequences of dense vectors\n",
    "input_encoded_m = input_encoder_m(input_sequence)\n",
    "input_encoded_c = input_encoder_c(input_sequence)\n",
    "question_encoded = question_encoder(question)"
   ]
  },
  {
   "cell_type": "markdown",
   "metadata": {},
   "source": [
    "##### Use dot product to compute the match between first input vector seq and the query"
   ]
  },
  {
   "cell_type": "code",
   "execution_count": 48,
   "metadata": {},
   "outputs": [],
   "source": [
    "# shape: `(samples, story_maxlen, query_maxlen)`\n",
    "match = dot([input_encoded_m, question_encoded], axes=(2, 2))\n",
    "match = Activation('softmax')(match)"
   ]
  },
  {
   "cell_type": "markdown",
   "metadata": {},
   "source": [
    "#### Add this match matrix with the second input vector sequence"
   ]
  },
  {
   "cell_type": "code",
   "execution_count": 49,
   "metadata": {},
   "outputs": [],
   "source": [
    "# add the match matrix with the second input vector sequence\n",
    "response = add([match, input_encoded_c])  # (samples, story_maxlen, query_maxlen)\n",
    "response = Permute((2, 1))(response)  # (samples, query_maxlen, story_maxlen)"
   ]
  },
  {
   "cell_type": "markdown",
   "metadata": {},
   "source": [
    "#### Concatenate"
   ]
  },
  {
   "cell_type": "code",
   "execution_count": 50,
   "metadata": {},
   "outputs": [],
   "source": [
    "# concatenate the match matrix with the question vector sequence\n",
    "answer = concatenate([response, question_encoded])"
   ]
  },
  {
   "cell_type": "code",
   "execution_count": 51,
   "metadata": {},
   "outputs": [
    {
     "data": {
      "text/plain": [
       "<tf.Tensor 'concatenate_1/concat:0' shape=(?, 6, 220) dtype=float32>"
      ]
     },
     "execution_count": 51,
     "metadata": {},
     "output_type": "execute_result"
    }
   ],
   "source": [
    "answer"
   ]
  },
  {
   "cell_type": "code",
   "execution_count": 52,
   "metadata": {},
   "outputs": [],
   "source": [
    "# Reduce with RNN (LSTM)\n",
    "answer = LSTM(32)(answer)  # (samples, 32)"
   ]
  },
  {
   "cell_type": "code",
   "execution_count": 53,
   "metadata": {},
   "outputs": [],
   "source": [
    "# Regularization with Dropout\n",
    "answer = Dropout(0.5)(answer)\n",
    "answer = Dense(vocab_size)(answer)  # (samples, vocab_size)"
   ]
  },
  {
   "cell_type": "code",
   "execution_count": 54,
   "metadata": {},
   "outputs": [],
   "source": [
    "# we output a probability distribution over the vocabulary\n",
    "answer = Activation('softmax')(answer)\n",
    "\n",
    "# build the final model\n",
    "model = Model([input_sequence, question], answer)\n",
    "model.compile(optimizer='rmsprop', loss='categorical_crossentropy',\n",
    "              metrics=['accuracy'])"
   ]
  },
  {
   "cell_type": "code",
   "execution_count": 55,
   "metadata": {},
   "outputs": [
    {
     "name": "stdout",
     "output_type": "stream",
     "text": [
      "Model: \"model_1\"\n",
      "__________________________________________________________________________________________________\n",
      "Layer (type)                    Output Shape         Param #     Connected to                     \n",
      "==================================================================================================\n",
      "input_1 (InputLayer)            (None, 156)          0                                            \n",
      "__________________________________________________________________________________________________\n",
      "input_2 (InputLayer)            (None, 6)            0                                            \n",
      "__________________________________________________________________________________________________\n",
      "sequential_1 (Sequential)       multiple             2432        input_1[0][0]                    \n",
      "__________________________________________________________________________________________________\n",
      "sequential_3 (Sequential)       (None, 6, 64)        2432        input_2[0][0]                    \n",
      "__________________________________________________________________________________________________\n",
      "dot_1 (Dot)                     (None, 156, 6)       0           sequential_1[1][0]               \n",
      "                                                                 sequential_3[1][0]               \n",
      "__________________________________________________________________________________________________\n",
      "activation_1 (Activation)       (None, 156, 6)       0           dot_1[0][0]                      \n",
      "__________________________________________________________________________________________________\n",
      "sequential_2 (Sequential)       multiple             228         input_1[0][0]                    \n",
      "__________________________________________________________________________________________________\n",
      "add_1 (Add)                     (None, 156, 6)       0           activation_1[0][0]               \n",
      "                                                                 sequential_2[1][0]               \n",
      "__________________________________________________________________________________________________\n",
      "permute_1 (Permute)             (None, 6, 156)       0           add_1[0][0]                      \n",
      "__________________________________________________________________________________________________\n",
      "concatenate_1 (Concatenate)     (None, 6, 220)       0           permute_1[0][0]                  \n",
      "                                                                 sequential_3[1][0]               \n",
      "__________________________________________________________________________________________________\n",
      "lstm_1 (LSTM)                   (None, 32)           32384       concatenate_1[0][0]              \n",
      "__________________________________________________________________________________________________\n",
      "dropout_4 (Dropout)             (None, 32)           0           lstm_1[0][0]                     \n",
      "__________________________________________________________________________________________________\n",
      "dense_1 (Dense)                 (None, 38)           1254        dropout_4[0][0]                  \n",
      "__________________________________________________________________________________________________\n",
      "activation_2 (Activation)       (None, 38)           0           dense_1[0][0]                    \n",
      "==================================================================================================\n",
      "Total params: 38,730\n",
      "Trainable params: 38,730\n",
      "Non-trainable params: 0\n",
      "__________________________________________________________________________________________________\n"
     ]
    }
   ],
   "source": [
    "model.summary()"
   ]
  },
  {
   "cell_type": "code",
   "execution_count": 56,
   "metadata": {},
   "outputs": [
    {
     "name": "stdout",
     "output_type": "stream",
     "text": [
      "WARNING:tensorflow:From C:\\Users\\shubhendu\\.conda\\envs\\nlp_course\\lib\\site-packages\\tensorflow\\python\\ops\\math_ops.py:3066: to_int32 (from tensorflow.python.ops.math_ops) is deprecated and will be removed in a future version.\n",
      "Instructions for updating:\n",
      "Use tf.cast instead.\n",
      "WARNING:tensorflow:From C:\\Users\\shubhendu\\.conda\\envs\\nlp_course\\lib\\site-packages\\tensorflow\\python\\ops\\math_grad.py:102: div (from tensorflow.python.ops.math_ops) is deprecated and will be removed in a future version.\n",
      "Instructions for updating:\n",
      "Deprecated in favor of operator or tf.math.divide.\n",
      "Train on 10000 samples, validate on 1000 samples\n",
      "Epoch 1/120\n",
      "10000/10000 [==============================] - 10s 1ms/step - loss: 0.8922 - accuracy: 0.5016 - val_loss: 0.6956 - val_accuracy: 0.5030\n",
      "Epoch 2/120\n",
      "10000/10000 [==============================] - 6s 621us/step - loss: 0.7067 - accuracy: 0.4939 - val_loss: 0.6948 - val_accuracy: 0.4970\n",
      "Epoch 3/120\n",
      "10000/10000 [==============================] - 6s 592us/step - loss: 0.6971 - accuracy: 0.4966 - val_loss: 0.6932 - val_accuracy: 0.5030\n",
      "Epoch 4/120\n",
      "10000/10000 [==============================] - 6s 590us/step - loss: 0.6946 - accuracy: 0.5021 - val_loss: 0.6933 - val_accuracy: 0.4970\n",
      "Epoch 5/120\n",
      "10000/10000 [==============================] - 6s 593us/step - loss: 0.6949 - accuracy: 0.4984 - val_loss: 0.6942 - val_accuracy: 0.4970\n",
      "Epoch 6/120\n",
      "10000/10000 [==============================] - 6s 586us/step - loss: 0.6944 - accuracy: 0.5004 - val_loss: 0.6963 - val_accuracy: 0.4970\n",
      "Epoch 7/120\n",
      "10000/10000 [==============================] - 6s 594us/step - loss: 0.6948 - accuracy: 0.4944 - val_loss: 0.6955 - val_accuracy: 0.4970\n",
      "Epoch 8/120\n",
      "10000/10000 [==============================] - 6s 590us/step - loss: 0.6937 - accuracy: 0.5073 - val_loss: 0.6944 - val_accuracy: 0.4960\n",
      "Epoch 9/120\n",
      "10000/10000 [==============================] - 6s 594us/step - loss: 0.6937 - accuracy: 0.5055 - val_loss: 0.6970 - val_accuracy: 0.4960\n",
      "Epoch 10/120\n",
      "10000/10000 [==============================] - 6s 588us/step - loss: 0.6943 - accuracy: 0.5063 - val_loss: 0.6941 - val_accuracy: 0.4740\n",
      "Epoch 11/120\n",
      "10000/10000 [==============================] - 6s 590us/step - loss: 0.6935 - accuracy: 0.5109 - val_loss: 0.6944 - val_accuracy: 0.4850\n",
      "Epoch 12/120\n",
      "10000/10000 [==============================] - 6s 593us/step - loss: 0.6930 - accuracy: 0.5138 - val_loss: 0.6950 - val_accuracy: 0.4870\n",
      "Epoch 13/120\n",
      "10000/10000 [==============================] - 6s 555us/step - loss: 0.6923 - accuracy: 0.5230 - val_loss: 0.6987 - val_accuracy: 0.4920\n",
      "Epoch 14/120\n",
      "10000/10000 [==============================] - 6s 585us/step - loss: 0.6903 - accuracy: 0.5275 - val_loss: 0.6949 - val_accuracy: 0.5110\n",
      "Epoch 15/120\n",
      "10000/10000 [==============================] - 6s 589us/step - loss: 0.6767 - accuracy: 0.5745 - val_loss: 0.6732 - val_accuracy: 0.5740\n",
      "Epoch 16/120\n",
      "10000/10000 [==============================] - 6s 586us/step - loss: 0.6572 - accuracy: 0.6069 - val_loss: 0.6539 - val_accuracy: 0.6240\n",
      "Epoch 17/120\n",
      "10000/10000 [==============================] - 6s 579us/step - loss: 0.6388 - accuracy: 0.6425 - val_loss: 0.6346 - val_accuracy: 0.6560\n",
      "Epoch 18/120\n",
      "10000/10000 [==============================] - 6s 582us/step - loss: 0.6273 - accuracy: 0.6515 - val_loss: 0.6213 - val_accuracy: 0.6640\n",
      "Epoch 19/120\n",
      "10000/10000 [==============================] - 6s 588us/step - loss: 0.6071 - accuracy: 0.6766 - val_loss: 0.5943 - val_accuracy: 0.6870\n",
      "Epoch 20/120\n",
      "10000/10000 [==============================] - 6s 579us/step - loss: 0.5838 - accuracy: 0.6938 - val_loss: 0.5618 - val_accuracy: 0.7110\n",
      "Epoch 21/120\n",
      "10000/10000 [==============================] - 6s 583us/step - loss: 0.5545 - accuracy: 0.7170 - val_loss: 0.5321 - val_accuracy: 0.7260\n",
      "Epoch 22/120\n",
      "10000/10000 [==============================] - 6s 585us/step - loss: 0.5377 - accuracy: 0.7251 - val_loss: 0.5218 - val_accuracy: 0.7250\n",
      "Epoch 23/120\n",
      "10000/10000 [==============================] - 6s 578us/step - loss: 0.5229 - accuracy: 0.7358 - val_loss: 0.4965 - val_accuracy: 0.7550\n",
      "Epoch 24/120\n",
      "10000/10000 [==============================] - 6s 574us/step - loss: 0.5055 - accuracy: 0.7520 - val_loss: 0.5014 - val_accuracy: 0.7520\n",
      "Epoch 25/120\n",
      "10000/10000 [==============================] - 6s 578us/step - loss: 0.4936 - accuracy: 0.7575 - val_loss: 0.4878 - val_accuracy: 0.7540\n",
      "Epoch 26/120\n",
      "10000/10000 [==============================] - 6s 585us/step - loss: 0.4765 - accuracy: 0.7721 - val_loss: 0.4903 - val_accuracy: 0.7580\n",
      "Epoch 27/120\n",
      "10000/10000 [==============================] - 6s 579us/step - loss: 0.4708 - accuracy: 0.7731 - val_loss: 0.4643 - val_accuracy: 0.7830\n",
      "Epoch 28/120\n",
      "10000/10000 [==============================] - 6s 574us/step - loss: 0.4614 - accuracy: 0.7801 - val_loss: 0.4627 - val_accuracy: 0.7680\n",
      "Epoch 29/120\n",
      "10000/10000 [==============================] - 6s 568us/step - loss: 0.4569 - accuracy: 0.7858 - val_loss: 0.4503 - val_accuracy: 0.7710\n",
      "Epoch 30/120\n",
      "10000/10000 [==============================] - 6s 570us/step - loss: 0.4513 - accuracy: 0.7872 - val_loss: 0.4539 - val_accuracy: 0.7830\n",
      "Epoch 31/120\n",
      "10000/10000 [==============================] - 6s 571us/step - loss: 0.4430 - accuracy: 0.7954 - val_loss: 0.4559 - val_accuracy: 0.7830\n",
      "Epoch 32/120\n",
      "10000/10000 [==============================] - 6s 568us/step - loss: 0.4320 - accuracy: 0.7996 - val_loss: 0.4403 - val_accuracy: 0.7690\n",
      "Epoch 33/120\n",
      "10000/10000 [==============================] - 6s 568us/step - loss: 0.4342 - accuracy: 0.7981 - val_loss: 0.4411 - val_accuracy: 0.7680\n",
      "Epoch 34/120\n",
      "10000/10000 [==============================] - 6s 574us/step - loss: 0.4297 - accuracy: 0.8020 - val_loss: 0.4274 - val_accuracy: 0.7830\n",
      "Epoch 35/120\n",
      "10000/10000 [==============================] - 6s 565us/step - loss: 0.4262 - accuracy: 0.8069 - val_loss: 0.4541 - val_accuracy: 0.7850\n",
      "Epoch 36/120\n",
      "10000/10000 [==============================] - 6s 564us/step - loss: 0.4227 - accuracy: 0.8045 - val_loss: 0.4269 - val_accuracy: 0.7850\n",
      "Epoch 37/120\n",
      "10000/10000 [==============================] - 6s 561us/step - loss: 0.4161 - accuracy: 0.8070 - val_loss: 0.4369 - val_accuracy: 0.7890\n",
      "Epoch 38/120\n",
      "10000/10000 [==============================] - 6s 565us/step - loss: 0.4156 - accuracy: 0.8083 - val_loss: 0.4146 - val_accuracy: 0.7970\n",
      "Epoch 39/120\n",
      "10000/10000 [==============================] - 6s 568us/step - loss: 0.3989 - accuracy: 0.8211 - val_loss: 0.4197 - val_accuracy: 0.7920\n",
      "Epoch 40/120\n",
      "10000/10000 [==============================] - 6s 571us/step - loss: 0.3975 - accuracy: 0.8223 - val_loss: 0.4048 - val_accuracy: 0.7950\n",
      "Epoch 41/120\n",
      "10000/10000 [==============================] - 6s 565us/step - loss: 0.3839 - accuracy: 0.8296 - val_loss: 0.4065 - val_accuracy: 0.8120\n",
      "Epoch 42/120\n",
      "10000/10000 [==============================] - 6s 569us/step - loss: 0.3792 - accuracy: 0.8322 - val_loss: 0.3953 - val_accuracy: 0.8150\n",
      "Epoch 43/120\n",
      "10000/10000 [==============================] - 6s 566us/step - loss: 0.3732 - accuracy: 0.8366 - val_loss: 0.3893 - val_accuracy: 0.8200\n",
      "Epoch 44/120\n",
      "10000/10000 [==============================] - 6s 558us/step - loss: 0.3646 - accuracy: 0.8402 - val_loss: 0.3861 - val_accuracy: 0.8190\n",
      "Epoch 45/120\n",
      "10000/10000 [==============================] - 6s 556us/step - loss: 0.3585 - accuracy: 0.8415 - val_loss: 0.3765 - val_accuracy: 0.8170\n",
      "Epoch 46/120\n",
      "10000/10000 [==============================] - 6s 557us/step - loss: 0.3573 - accuracy: 0.8426 - val_loss: 0.3989 - val_accuracy: 0.8160\n",
      "Epoch 47/120\n",
      "10000/10000 [==============================] - 6s 559us/step - loss: 0.3525 - accuracy: 0.8463 - val_loss: 0.3737 - val_accuracy: 0.8200\n",
      "Epoch 48/120\n",
      "10000/10000 [==============================] - 6s 556us/step - loss: 0.3460 - accuracy: 0.8487 - val_loss: 0.3815 - val_accuracy: 0.8110\n",
      "Epoch 49/120\n",
      "10000/10000 [==============================] - 6s 560us/step - loss: 0.3459 - accuracy: 0.8500 - val_loss: 0.3756 - val_accuracy: 0.8310\n",
      "Epoch 50/120\n",
      "10000/10000 [==============================] - 6s 551us/step - loss: 0.3402 - accuracy: 0.8528 - val_loss: 0.3784 - val_accuracy: 0.8250\n",
      "Epoch 51/120\n",
      "10000/10000 [==============================] - 6s 588us/step - loss: 0.3375 - accuracy: 0.8558 - val_loss: 0.3783 - val_accuracy: 0.8240\n",
      "Epoch 52/120\n",
      "10000/10000 [==============================] - 6s 594us/step - loss: 0.3367 - accuracy: 0.8517 - val_loss: 0.3732 - val_accuracy: 0.8320\n",
      "Epoch 53/120\n",
      "10000/10000 [==============================] - 6s 589us/step - loss: 0.3370 - accuracy: 0.8546 - val_loss: 0.3593 - val_accuracy: 0.8400\n",
      "Epoch 54/120\n",
      "10000/10000 [==============================] - 6s 589us/step - loss: 0.3267 - accuracy: 0.8569 - val_loss: 0.3714 - val_accuracy: 0.8270\n",
      "Epoch 55/120\n",
      "10000/10000 [==============================] - 6s 586us/step - loss: 0.3263 - accuracy: 0.8602 - val_loss: 0.3613 - val_accuracy: 0.8300\n",
      "Epoch 56/120\n",
      "10000/10000 [==============================] - 6s 650us/step - loss: 0.3280 - accuracy: 0.8551 - val_loss: 0.3744 - val_accuracy: 0.8170\n",
      "Epoch 57/120\n",
      "10000/10000 [==============================] - 6s 630us/step - loss: 0.3263 - accuracy: 0.8611 - val_loss: 0.3749 - val_accuracy: 0.8270\n",
      "Epoch 58/120\n",
      "10000/10000 [==============================] - 6s 627us/step - loss: 0.3197 - accuracy: 0.8592 - val_loss: 0.3736 - val_accuracy: 0.8270\n",
      "Epoch 59/120\n",
      "10000/10000 [==============================] - 6s 638us/step - loss: 0.3206 - accuracy: 0.8586 - val_loss: 0.3648 - val_accuracy: 0.8220\n",
      "Epoch 60/120\n",
      "10000/10000 [==============================] - 6s 641us/step - loss: 0.3214 - accuracy: 0.8633 - val_loss: 0.3610 - val_accuracy: 0.8280\n",
      "Epoch 61/120\n",
      "10000/10000 [==============================] - 6s 635us/step - loss: 0.3209 - accuracy: 0.8644 - val_loss: 0.3540 - val_accuracy: 0.8340\n",
      "Epoch 62/120\n",
      "10000/10000 [==============================] - 6s 647us/step - loss: 0.3245 - accuracy: 0.8602 - val_loss: 0.3610 - val_accuracy: 0.8360\n",
      "Epoch 63/120\n",
      "10000/10000 [==============================] - 6s 587us/step - loss: 0.3156 - accuracy: 0.8659 - val_loss: 0.3600 - val_accuracy: 0.8320\n",
      "Epoch 64/120\n",
      "10000/10000 [==============================] - 6s 634us/step - loss: 0.3183 - accuracy: 0.8648 - val_loss: 0.3757 - val_accuracy: 0.8290\n",
      "Epoch 65/120\n",
      "10000/10000 [==============================] - 6s 575us/step - loss: 0.3167 - accuracy: 0.8618 - val_loss: 0.3537 - val_accuracy: 0.8300\n",
      "Epoch 66/120\n",
      "10000/10000 [==============================] - 6s 581us/step - loss: 0.3105 - accuracy: 0.8607 - val_loss: 0.3640 - val_accuracy: 0.8330\n",
      "Epoch 67/120\n",
      "10000/10000 [==============================] - 6s 567us/step - loss: 0.3176 - accuracy: 0.8613 - val_loss: 0.3668 - val_accuracy: 0.8240\n",
      "Epoch 68/120\n",
      "10000/10000 [==============================] - 6s 566us/step - loss: 0.3112 - accuracy: 0.8651 - val_loss: 0.3559 - val_accuracy: 0.8350\n",
      "Epoch 69/120\n",
      "10000/10000 [==============================] - 6s 575us/step - loss: 0.3036 - accuracy: 0.8694 - val_loss: 0.3603 - val_accuracy: 0.8340\n",
      "Epoch 70/120\n",
      "10000/10000 [==============================] - 6s 573us/step - loss: 0.3082 - accuracy: 0.8693 - val_loss: 0.3593 - val_accuracy: 0.8410\n",
      "Epoch 71/120\n",
      "10000/10000 [==============================] - 5s 530us/step - loss: 0.3080 - accuracy: 0.8649 - val_loss: 0.3744 - val_accuracy: 0.8280\n",
      "Epoch 72/120\n",
      "10000/10000 [==============================] - 6s 571us/step - loss: 0.3078 - accuracy: 0.8661 - val_loss: 0.3643 - val_accuracy: 0.8380\n",
      "Epoch 73/120\n",
      "10000/10000 [==============================] - 6s 569us/step - loss: 0.3076 - accuracy: 0.8644 - val_loss: 0.3748 - val_accuracy: 0.8220\n",
      "Epoch 74/120\n",
      "10000/10000 [==============================] - 6s 572us/step - loss: 0.3025 - accuracy: 0.8690 - val_loss: 0.3757 - val_accuracy: 0.8310\n",
      "Epoch 75/120\n",
      "10000/10000 [==============================] - 6s 567us/step - loss: 0.3053 - accuracy: 0.8682 - val_loss: 0.3542 - val_accuracy: 0.8330\n",
      "Epoch 76/120\n",
      "10000/10000 [==============================] - 6s 572us/step - loss: 0.2985 - accuracy: 0.8702 - val_loss: 0.3677 - val_accuracy: 0.8320\n",
      "Epoch 77/120\n",
      "10000/10000 [==============================] - 6s 567us/step - loss: 0.2993 - accuracy: 0.8715 - val_loss: 0.3773 - val_accuracy: 0.8300\n",
      "Epoch 78/120\n",
      "10000/10000 [==============================] - 6s 567us/step - loss: 0.3042 - accuracy: 0.8697 - val_loss: 0.3729 - val_accuracy: 0.8280\n",
      "Epoch 79/120\n",
      "10000/10000 [==============================] - 6s 566us/step - loss: 0.3062 - accuracy: 0.8650 - val_loss: 0.3737 - val_accuracy: 0.8330\n",
      "Epoch 80/120\n",
      "10000/10000 [==============================] - 6s 573us/step - loss: 0.2957 - accuracy: 0.8720 - val_loss: 0.3614 - val_accuracy: 0.8330\n",
      "Epoch 81/120\n",
      "10000/10000 [==============================] - 5s 529us/step - loss: 0.3005 - accuracy: 0.8709 - val_loss: 0.3685 - val_accuracy: 0.8280\n",
      "Epoch 82/120\n",
      "10000/10000 [==============================] - 6s 563us/step - loss: 0.2971 - accuracy: 0.8729 - val_loss: 0.3623 - val_accuracy: 0.8330\n",
      "Epoch 83/120\n",
      "10000/10000 [==============================] - 6s 573us/step - loss: 0.2923 - accuracy: 0.8696 - val_loss: 0.3738 - val_accuracy: 0.8340\n",
      "Epoch 84/120\n",
      "10000/10000 [==============================] - 6s 561us/step - loss: 0.2959 - accuracy: 0.8730 - val_loss: 0.3805 - val_accuracy: 0.8350\n",
      "Epoch 85/120\n",
      "10000/10000 [==============================] - 6s 566us/step - loss: 0.2940 - accuracy: 0.8738 - val_loss: 0.3606 - val_accuracy: 0.8320\n",
      "Epoch 86/120\n",
      "10000/10000 [==============================] - 6s 567us/step - loss: 0.2941 - accuracy: 0.8728 - val_loss: 0.3669 - val_accuracy: 0.8350\n",
      "Epoch 87/120\n",
      "10000/10000 [==============================] - 6s 567us/step - loss: 0.2885 - accuracy: 0.8762 - val_loss: 0.3556 - val_accuracy: 0.8370\n",
      "Epoch 88/120\n",
      "10000/10000 [==============================] - 6s 561us/step - loss: 0.2969 - accuracy: 0.8702 - val_loss: 0.3611 - val_accuracy: 0.8310\n",
      "Epoch 89/120\n",
      "10000/10000 [==============================] - 6s 562us/step - loss: 0.2929 - accuracy: 0.8734 - val_loss: 0.3728 - val_accuracy: 0.8260\n",
      "Epoch 90/120\n",
      "10000/10000 [==============================] - 5s 531us/step - loss: 0.2935 - accuracy: 0.8735 - val_loss: 0.3823 - val_accuracy: 0.8360\n",
      "Epoch 91/120\n",
      "10000/10000 [==============================] - 6s 559us/step - loss: 0.2862 - accuracy: 0.8762 - val_loss: 0.3924 - val_accuracy: 0.8310\n",
      "Epoch 92/120\n",
      "10000/10000 [==============================] - 6s 558us/step - loss: 0.2876 - accuracy: 0.8761 - val_loss: 0.3800 - val_accuracy: 0.8320\n",
      "Epoch 93/120\n",
      "10000/10000 [==============================] - 6s 554us/step - loss: 0.2885 - accuracy: 0.8760 - val_loss: 0.3717 - val_accuracy: 0.8270\n",
      "Epoch 94/120\n",
      "10000/10000 [==============================] - 6s 553us/step - loss: 0.2826 - accuracy: 0.8797 - val_loss: 0.3955 - val_accuracy: 0.8260\n",
      "Epoch 95/120\n",
      "10000/10000 [==============================] - 6s 558us/step - loss: 0.2819 - accuracy: 0.8796 - val_loss: 0.3845 - val_accuracy: 0.8250\n",
      "Epoch 96/120\n",
      "10000/10000 [==============================] - 6s 596us/step - loss: 0.2820 - accuracy: 0.8797 - val_loss: 0.3924 - val_accuracy: 0.8280\n",
      "Epoch 97/120\n",
      "10000/10000 [==============================] - ETA: 0s - loss: 0.2849 - accuracy: 0.87 - 5s 538us/step - loss: 0.2849 - accuracy: 0.8797 - val_loss: 0.3804 - val_accuracy: 0.8270\n",
      "Epoch 98/120\n",
      "10000/10000 [==============================] - 6s 579us/step - loss: 0.2860 - accuracy: 0.8810 - val_loss: 0.3941 - val_accuracy: 0.8270\n",
      "Epoch 99/120\n",
      "10000/10000 [==============================] - 6s 636us/step - loss: 0.2780 - accuracy: 0.8786 - val_loss: 0.3776 - val_accuracy: 0.8290\n",
      "Epoch 100/120\n",
      "10000/10000 [==============================] - 6s 555us/step - loss: 0.2727 - accuracy: 0.8829 - val_loss: 0.3829 - val_accuracy: 0.8340\n",
      "Epoch 101/120\n",
      "10000/10000 [==============================] - 6s 643us/step - loss: 0.2742 - accuracy: 0.8852 - val_loss: 0.3813 - val_accuracy: 0.8350\n",
      "Epoch 102/120\n",
      "10000/10000 [==============================] - 7s 670us/step - loss: 0.2820 - accuracy: 0.8821 - val_loss: 0.3870 - val_accuracy: 0.8260\n",
      "Epoch 103/120\n",
      "10000/10000 [==============================] - 5s 548us/step - loss: 0.2812 - accuracy: 0.8809 - val_loss: 0.3729 - val_accuracy: 0.8280\n",
      "Epoch 104/120\n",
      "10000/10000 [==============================] - 6s 648us/step - loss: 0.2759 - accuracy: 0.8816 - val_loss: 0.3836 - val_accuracy: 0.8260\n",
      "Epoch 105/120\n",
      "10000/10000 [==============================] - 7s 665us/step - loss: 0.2696 - accuracy: 0.8867 - val_loss: 0.4010 - val_accuracy: 0.8240\n",
      "Epoch 106/120\n",
      "10000/10000 [==============================] - 5s 548us/step - loss: 0.2735 - accuracy: 0.8859 - val_loss: 0.3824 - val_accuracy: 0.8280\n",
      "Epoch 107/120\n",
      "10000/10000 [==============================] - 6s 621us/step - loss: 0.2695 - accuracy: 0.8865 - val_loss: 0.4000 - val_accuracy: 0.8220\n",
      "Epoch 108/120\n",
      "10000/10000 [==============================] - 6s 629us/step - loss: 0.2635 - accuracy: 0.8887 - val_loss: 0.3913 - val_accuracy: 0.8290\n",
      "Epoch 109/120\n",
      "10000/10000 [==============================] - 6s 620us/step - loss: 0.2649 - accuracy: 0.8879 - val_loss: 0.3914 - val_accuracy: 0.8270\n",
      "Epoch 110/120\n",
      "10000/10000 [==============================] - 6s 556us/step - loss: 0.2701 - accuracy: 0.8860 - val_loss: 0.3938 - val_accuracy: 0.8250\n",
      "Epoch 111/120\n",
      "10000/10000 [==============================] - 6s 613us/step - loss: 0.2671 - accuracy: 0.8875 - val_loss: 0.4173 - val_accuracy: 0.8310\n",
      "Epoch 112/120\n",
      "10000/10000 [==============================] - 6s 592us/step - loss: 0.2675 - accuracy: 0.8857 - val_loss: 0.4202 - val_accuracy: 0.8200\n",
      "Epoch 113/120\n",
      "10000/10000 [==============================] - 6s 649us/step - loss: 0.2684 - accuracy: 0.8863 - val_loss: 0.3950 - val_accuracy: 0.8270\n",
      "Epoch 114/120\n",
      "10000/10000 [==============================] - 6s 566us/step - loss: 0.2617 - accuracy: 0.8889 - val_loss: 0.4240 - val_accuracy: 0.8200\n",
      "Epoch 115/120\n",
      "10000/10000 [==============================] - 6s 573us/step - loss: 0.2638 - accuracy: 0.8914 - val_loss: 0.4184 - val_accuracy: 0.8230\n",
      "Epoch 116/120\n",
      "10000/10000 [==============================] - 6s 585us/step - loss: 0.2618 - accuracy: 0.8900 - val_loss: 0.4324 - val_accuracy: 0.8210\n",
      "Epoch 117/120\n",
      "10000/10000 [==============================] - 6s 599us/step - loss: 0.2622 - accuracy: 0.8898 - val_loss: 0.4270 - val_accuracy: 0.8180\n",
      "Epoch 118/120\n",
      "10000/10000 [==============================] - 6s 569us/step - loss: 0.2685 - accuracy: 0.8869 - val_loss: 0.4063 - val_accuracy: 0.8200\n",
      "Epoch 119/120\n",
      "10000/10000 [==============================] - 6s 552us/step - loss: 0.2582 - accuracy: 0.8883 - val_loss: 0.4091 - val_accuracy: 0.8140\n",
      "Epoch 120/120\n",
      "10000/10000 [==============================] - 5s 538us/step - loss: 0.2602 - accuracy: 0.8890 - val_loss: 0.4020 - val_accuracy: 0.8210\n"
     ]
    }
   ],
   "source": [
    "# train\n",
    "history = model.fit([inputs_train, queries_train], answers_train,batch_size=32,epochs=120,validation_data=([inputs_test, queries_test], answers_test))"
   ]
  },
  {
   "cell_type": "markdown",
   "metadata": {},
   "source": [
    "### Saving the Model"
   ]
  },
  {
   "cell_type": "code",
   "execution_count": 57,
   "metadata": {},
   "outputs": [],
   "source": [
    "filename = 'chatbot_120_epochs.h5'\n",
    "model.save(filename)"
   ]
  },
  {
   "cell_type": "markdown",
   "metadata": {},
   "source": [
    "## Evaluating the Model\n",
    "\n",
    "### Plotting Out Training History"
   ]
  },
  {
   "cell_type": "code",
   "execution_count": 59,
   "metadata": {},
   "outputs": [
    {
     "name": "stdout",
     "output_type": "stream",
     "text": [
      "dict_keys(['val_loss', 'val_accuracy', 'loss', 'accuracy'])\n"
     ]
    },
    {
     "data": {
      "image/png": "[encoded data removed]",
      "text/plain": [
       "<Figure size 432x288 with 1 Axes>"
      ]
     },
     "metadata": {
      "needs_background": "light"
     },
     "output_type": "display_data"
    }
   ],
   "source": [
    "import matplotlib.pyplot as plt\n",
    "%matplotlib inline\n",
    "print(history.history.keys())\n",
    "# summarize history for accuracy\n",
    "plt.plot(history.history['accuracy'])\n",
    "plt.plot(history.history['val_accuracy'])\n",
    "plt.title('model accuracy')\n",
    "plt.ylabel('accuracy')\n",
    "plt.xlabel('epoch')\n",
    "plt.legend(['train', 'test'], loc='upper left')\n",
    "plt.show()"
   ]
  },
  {
   "cell_type": "markdown",
   "metadata": {},
   "source": [
    "### Evaluating on Given Test Set"
   ]
  },
  {
   "cell_type": "code",
   "execution_count": 60,
   "metadata": {},
   "outputs": [],
   "source": [
    "model.load_weights(filename)\n",
    "pred_results = model.predict(([inputs_test, queries_test]))"
   ]
  },
  {
   "cell_type": "code",
   "execution_count": 61,
   "metadata": {},
   "outputs": [
    {
     "data": {
      "text/plain": [
       "['Mary',\n",
       " 'got',\n",
       " 'the',\n",
       " 'milk',\n",
       " 'there',\n",
       " '.',\n",
       " 'John',\n",
       " 'moved',\n",
       " 'to',\n",
       " 'the',\n",
       " 'bedroom',\n",
       " '.']"
      ]
     },
     "execution_count": 61,
     "metadata": {},
     "output_type": "execute_result"
    }
   ],
   "source": [
    "test_data[0][0]"
   ]
  },
  {
   "cell_type": "code",
   "execution_count": 62,
   "metadata": {},
   "outputs": [
    {
     "name": "stdout",
     "output_type": "stream",
     "text": [
      "Mary got the milk there . John moved to the bedroom .\n"
     ]
    }
   ],
   "source": [
    "story =' '.join(word for word in test_data[0][0])\n",
    "print(story)"
   ]
  },
  {
   "cell_type": "code",
   "execution_count": 63,
   "metadata": {},
   "outputs": [
    {
     "name": "stdout",
     "output_type": "stream",
     "text": [
      "Is John in the kitchen ?\n"
     ]
    }
   ],
   "source": [
    "query = ' '.join(word for word in test_data[0][1])\n",
    "print(query)"
   ]
  },
  {
   "cell_type": "code",
   "execution_count": 64,
   "metadata": {},
   "outputs": [
    {
     "name": "stdout",
     "output_type": "stream",
     "text": [
      "True Test Answer from Data is: no\n"
     ]
    }
   ],
   "source": [
    "print(\"True Test Answer from Data is:\",test_data[0][2])"
   ]
  },
  {
   "cell_type": "code",
   "execution_count": 65,
   "metadata": {},
   "outputs": [
    {
     "name": "stdout",
     "output_type": "stream",
     "text": [
      "Predicted answer is:  no\n",
      "Probability of certainty was:  0.9999815\n"
     ]
    }
   ],
   "source": [
    "#Generate prediction from model\n",
    "val_max = np.argmax(pred_results[0])\n",
    "\n",
    "for key, val in tokenizer.word_index.items():\n",
    "    if val == val_max:\n",
    "        k = key\n",
    "\n",
    "print(\"Predicted answer is: \", k)\n",
    "print(\"Probability of certainty was: \", pred_results[0][val_max])"
   ]
  },
  {
   "cell_type": "markdown",
   "metadata": {},
   "source": [
    "## Writing Your Own Stories and Questions\n",
    "\n",
    "Remember you can only use words from the existing vocab"
   ]
  },
  {
   "cell_type": "code",
   "execution_count": 66,
   "metadata": {},
   "outputs": [
    {
     "data": {
      "text/plain": [
       "{'.',\n",
       " '?',\n",
       " 'Daniel',\n",
       " 'Is',\n",
       " 'John',\n",
       " 'Mary',\n",
       " 'Sandra',\n",
       " 'apple',\n",
       " 'back',\n",
       " 'bathroom',\n",
       " 'bedroom',\n",
       " 'discarded',\n",
       " 'down',\n",
       " 'dropped',\n",
       " 'football',\n",
       " 'garden',\n",
       " 'got',\n",
       " 'grabbed',\n",
       " 'hallway',\n",
       " 'in',\n",
       " 'journeyed',\n",
       " 'kitchen',\n",
       " 'left',\n",
       " 'milk',\n",
       " 'moved',\n",
       " 'no',\n",
       " 'office',\n",
       " 'picked',\n",
       " 'put',\n",
       " 'the',\n",
       " 'there',\n",
       " 'to',\n",
       " 'took',\n",
       " 'travelled',\n",
       " 'up',\n",
       " 'went',\n",
       " 'yes'}"
      ]
     },
     "execution_count": 66,
     "metadata": {},
     "output_type": "execute_result"
    }
   ],
   "source": [
    "vocab"
   ]
  },
  {
   "cell_type": "code",
   "execution_count": 67,
   "metadata": {},
   "outputs": [
    {
     "data": {
      "text/plain": [
       "['John',\n",
       " 'left',\n",
       " 'the',\n",
       " 'kitchen',\n",
       " '.',\n",
       " 'Sandra',\n",
       " 'dropped',\n",
       " 'the',\n",
       " 'football',\n",
       " 'in',\n",
       " 'the',\n",
       " 'garden',\n",
       " '.']"
      ]
     },
     "execution_count": 67,
     "metadata": {},
     "output_type": "execute_result"
    }
   ],
   "source": [
    "# Note the whitespace of the periods\n",
    "my_story = \"John left the kitchen . Sandra dropped the football in the garden .\"\n",
    "my_story.split()"
   ]
  },
  {
   "cell_type": "code",
   "execution_count": 68,
   "metadata": {},
   "outputs": [],
   "source": [
    "my_question = \"Is the football in the garden ?\""
   ]
  },
  {
   "cell_type": "code",
   "execution_count": 69,
   "metadata": {},
   "outputs": [
    {
     "data": {
      "text/plain": [
       "['Is', 'the', 'football', 'in', 'the', 'garden', '?']"
      ]
     },
     "execution_count": 69,
     "metadata": {},
     "output_type": "execute_result"
    }
   ],
   "source": [
    "my_question.split()"
   ]
  },
  {
   "cell_type": "code",
   "execution_count": 70,
   "metadata": {},
   "outputs": [],
   "source": [
    "mydata = [(my_story.split(),my_question.split(),'yes')]"
   ]
  },
  {
   "cell_type": "code",
   "execution_count": 71,
   "metadata": {},
   "outputs": [],
   "source": [
    "my_story,my_ques,my_ans = vectorize_stories(mydata)"
   ]
  },
  {
   "cell_type": "code",
   "execution_count": 72,
   "metadata": {},
   "outputs": [],
   "source": [
    "pred_results = model.predict(([ my_story, my_ques]))"
   ]
  },
  {
   "cell_type": "code",
   "execution_count": 73,
   "metadata": {},
   "outputs": [
    {
     "name": "stdout",
     "output_type": "stream",
     "text": [
      "Predicted answer is:  yes\n",
      "Probability of certainty was:  0.96905434\n"
     ]
    }
   ],
   "source": [
    "#Generate prediction from model\n",
    "val_max = np.argmax(pred_results[0])\n",
    "\n",
    "for key, val in tokenizer.word_index.items():\n",
    "    if val == val_max:\n",
    "        k = key\n",
    "\n",
    "print(\"Predicted answer is: \", k)\n",
    "print(\"Probability of certainty was: \", pred_results[0][val_max])"
   ]
  },
  {
   "cell_type": "markdown",
   "metadata": {},
   "source": [
    "# Great Job!"
   ]
  }
 ],
 "metadata": {
  "kernelspec": {
   "display_name": "Python 3",
   "language": "python",
   "name": "python3"
  },
  "language_info": {
   "codemirror_mode": {
    "name": "ipython",
    "version": 3
   },
   "file_extension": ".py",
   "mimetype": "text/x-python",
   "name": "python",
   "nbconvert_exporter": "python",
   "pygments_lexer": "ipython3",
   "version": "3.7.10"
  }
 },
 "nbformat": 4,
 "nbformat_minor": 2
}
