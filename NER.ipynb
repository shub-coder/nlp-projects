{
  "nbformat": 4,
  "nbformat_minor": 0,
  "metadata": {
    "colab": {
      "name": "NER.ipynb",
      "provenance": []
    },
    "kernelspec": {
      "name": "python3",
      "display_name": "Python 3"
    }
  },
  "cells": [
    {
      "cell_type": "code",
      "metadata": {
        "id": "GaMNaIHJITge"
      },
      "source": [
        "import spacy"
      ],
      "execution_count": 1,
      "outputs": []
    },
    {
      "cell_type": "code",
      "metadata": {
        "id": "7oOEJDOQKQy5"
      },
      "source": [
        "nlp = spacy.load('en_core_web_sm')"
      ],
      "execution_count": 2,
      "outputs": []
    },
    {
      "cell_type": "code",
      "metadata": {
        "id": "0PI2qE7hKX1g"
      },
      "source": [
        "doc = nlp(u'it\\'s been a year since i have seen my college. i am missing my college life very badly')"
      ],
      "execution_count": 3,
      "outputs": []
    },
    {
      "cell_type": "code",
      "metadata": {
        "colab": {
          "base_uri": "https://localhost:8080/"
        },
        "id": "f1bmkdtLKvcp",
        "outputId": "deb15fd0-3933-4e2c-b6fd-ae315026c5cf"
      },
      "source": [
        "for token in doc:\r\n",
        "  print(token)"
      ],
      "execution_count": 4,
      "outputs": [
        {
          "output_type": "stream",
          "text": [
            "it\n",
            "'s\n",
            "been\n",
            "a\n",
            "year\n",
            "since\n",
            "i\n",
            "have\n",
            "seen\n",
            "my\n",
            "college\n",
            ".\n",
            "i\n",
            "am\n",
            "missing\n",
            "my\n",
            "college\n",
            "life\n",
            "very\n",
            "badly\n"
          ],
          "name": "stdout"
        }
      ]
    },
    {
      "cell_type": "code",
      "metadata": {
        "colab": {
          "base_uri": "https://localhost:8080/"
        },
        "id": "Anxy08VtK8HL",
        "outputId": "50a559d9-d426-49e2-b0f8-e8c9f60b3e47"
      },
      "source": [
        "print(doc[4].tag) #THIS WILL GIVE THE HASH VALUE OF THE TOKEN"
      ],
      "execution_count": 65,
      "outputs": [
        {
          "output_type": "stream",
          "text": [
            "15794550382381185553\n"
          ],
          "name": "stdout"
        }
      ]
    },
    {
      "cell_type": "code",
      "metadata": {
        "colab": {
          "base_uri": "https://localhost:8080/"
        },
        "id": "Tpduw3P5LGIW",
        "outputId": "8edc05b9-53ac-4ec0-e2da-b7b120e219f9"
      },
      "source": [
        "print(doc[4].tag_)"
      ],
      "execution_count": 66,
      "outputs": [
        {
          "output_type": "stream",
          "text": [
            "NNP\n"
          ],
          "name": "stdout"
        }
      ]
    },
    {
      "cell_type": "code",
      "metadata": {
        "colab": {
          "base_uri": "https://localhost:8080/"
        },
        "id": "tEwvbkwnLJdc",
        "outputId": "cbcd4e35-adb2-49a1-defd-5158206d9869"
      },
      "source": [
        "print(doc[4].pos_)"
      ],
      "execution_count": 67,
      "outputs": [
        {
          "output_type": "stream",
          "text": [
            "PROPN\n"
          ],
          "name": "stdout"
        }
      ]
    },
    {
      "cell_type": "code",
      "metadata": {
        "colab": {
          "base_uri": "https://localhost:8080/"
        },
        "id": "5f6GgDErLRNN",
        "outputId": "f5ab4b81-1dea-4c56-897c-a05ac0d94192"
      },
      "source": [
        "for token in doc:\r\n",
        "  print(f\"{token} \\t {token.pos_} \\t {token.tag_} \\t {spacy.explain(token.tag_)}\")"
      ],
      "execution_count": 8,
      "outputs": [
        {
          "output_type": "stream",
          "text": [
            "it \t PRON \t PRP \t pronoun, personal\n",
            "'s \t AUX \t VBZ \t verb, 3rd person singular present\n",
            "been \t AUX \t VBN \t verb, past participle\n",
            "a \t DET \t DT \t determiner\n",
            "year \t NOUN \t NN \t noun, singular or mass\n",
            "since \t SCONJ \t IN \t conjunction, subordinating or preposition\n",
            "i \t PRON \t PRP \t pronoun, personal\n",
            "have \t AUX \t VBP \t verb, non-3rd person singular present\n",
            "seen \t VERB \t VBN \t verb, past participle\n",
            "my \t DET \t PRP$ \t pronoun, possessive\n",
            "college \t NOUN \t NN \t noun, singular or mass\n",
            ". \t PUNCT \t . \t punctuation mark, sentence closer\n",
            "i \t PRON \t PRP \t pronoun, personal\n",
            "am \t AUX \t VBP \t verb, non-3rd person singular present\n",
            "missing \t VERB \t VBG \t verb, gerund or present participle\n",
            "my \t DET \t PRP$ \t pronoun, possessive\n",
            "college \t NOUN \t NN \t noun, singular or mass\n",
            "life \t NOUN \t NN \t noun, singular or mass\n",
            "very \t ADV \t RB \t adverb\n",
            "badly \t ADV \t RB \t adverb\n"
          ],
          "name": "stdout"
        }
      ]
    },
    {
      "cell_type": "markdown",
      "metadata": {
        "id": "PKEkVo6gQVdl"
      },
      "source": [
        "NOW WE WILL SEE HOW SPACY RECOGNISES TWO FORMS OF THE SAME WORD. 'READING' WILL BE RECOGNISED AS A PRESENT TENSE VERB WHEREAS READ WILL BE RECOGNISED AS PAST TENSE VERB"
      ]
    },
    {
      "cell_type": "code",
      "metadata": {
        "colab": {
          "base_uri": "https://localhost:8080/"
        },
        "id": "ra15AY9OMNtw",
        "outputId": "5ebc79c0-1e77-4ba0-bff4-1c3c5522e5be"
      },
      "source": [
        "doc2 = nlp(u\"I am reading a book on NLP\")\r\n",
        "for token in doc2:\r\n",
        "  print(token)"
      ],
      "execution_count": 9,
      "outputs": [
        {
          "output_type": "stream",
          "text": [
            "I\n",
            "am\n",
            "reading\n",
            "a\n",
            "book\n",
            "on\n",
            "NLP\n"
          ],
          "name": "stdout"
        }
      ]
    },
    {
      "cell_type": "code",
      "metadata": {
        "id": "gp_MUOl5eJiR"
      },
      "source": [
        "word = doc2[2]"
      ],
      "execution_count": 10,
      "outputs": []
    },
    {
      "cell_type": "code",
      "metadata": {
        "colab": {
          "base_uri": "https://localhost:8080/"
        },
        "id": "Cv9PttbxeR3d",
        "outputId": "a1c51ee4-aea1-4429-8902-6f6381085416"
      },
      "source": [
        "token = word\r\n",
        "print(f\"{token} \\t {token.pos_} \\t {token.tag_} \\t {spacy.explain(token.tag_)}\") #SPACY.EXPLAIN IS USED TO EXPLAIN THE TAG "
      ],
      "execution_count": 11,
      "outputs": [
        {
          "output_type": "stream",
          "text": [
            "reading \t VERB \t VBG \t verb, gerund or present participle\n"
          ],
          "name": "stdout"
        }
      ]
    },
    {
      "cell_type": "code",
      "metadata": {
        "colab": {
          "base_uri": "https://localhost:8080/"
        },
        "id": "ZMFIO8JPeZjj",
        "outputId": "1b59fadc-7aae-45b0-9618-2c97066de59f"
      },
      "source": [
        "doc3 = nlp(u\"I read a book on NLP\")\r\n",
        "for token in doc3:\r\n",
        "  print(token)\r\n"
      ],
      "execution_count": 12,
      "outputs": [
        {
          "output_type": "stream",
          "text": [
            "I\n",
            "read\n",
            "a\n",
            "book\n",
            "on\n",
            "NLP\n"
          ],
          "name": "stdout"
        }
      ]
    },
    {
      "cell_type": "code",
      "metadata": {
        "id": "5SpjY1QUgKX6"
      },
      "source": [
        "word1 = doc3[1]"
      ],
      "execution_count": 13,
      "outputs": []
    },
    {
      "cell_type": "code",
      "metadata": {
        "colab": {
          "base_uri": "https://localhost:8080/"
        },
        "id": "85t7lDu2gN27",
        "outputId": "dbe598e2-f628-40ef-a543-e3b1662bb3eb"
      },
      "source": [
        "token1 = word1\r\n",
        "print(f\"{token1} \\t {token1.pos_} \\t {token1.tag_} \\t {spacy.explain(token1.tag_)}\")"
      ],
      "execution_count": 14,
      "outputs": [
        {
          "output_type": "stream",
          "text": [
            "read \t VERB \t VBD \t verb, past tense\n"
          ],
          "name": "stdout"
        }
      ]
    },
    {
      "cell_type": "code",
      "metadata": {
        "id": "nl_drzgbgQwg"
      },
      "source": [
        "doc4 = nlp(u\"it\\'s been a year since i have seen my college. i am missing my college life very badly\")"
      ],
      "execution_count": 15,
      "outputs": []
    },
    {
      "cell_type": "code",
      "metadata": {
        "id": "EKslWWI-krDd"
      },
      "source": [
        "POS_counts = doc.count_by(spacy.attrs.POS)"
      ],
      "execution_count": 16,
      "outputs": []
    },
    {
      "cell_type": "code",
      "metadata": {
        "colab": {
          "base_uri": "https://localhost:8080/"
        },
        "id": "Li4dN1fDk6cW",
        "outputId": "0c21a07a-d9fe-4117-ea5d-25baea46ba93"
      },
      "source": [
        "POS_counts"
      ],
      "execution_count": 17,
      "outputs": [
        {
          "output_type": "execute_result",
          "data": {
            "text/plain": [
              "{86: 2, 87: 4, 90: 3, 92: 4, 95: 3, 97: 1, 98: 1, 100: 2}"
            ]
          },
          "metadata": {
            "tags": []
          },
          "execution_count": 17
        }
      ]
    },
    {
      "cell_type": "code",
      "metadata": {
        "colab": {
          "base_uri": "https://localhost:8080/",
          "height": 35
        },
        "id": "lTdvnbcek9Cj",
        "outputId": "34baba9d-2c0c-4eb2-c30b-1ee5c0b78176"
      },
      "source": [
        "doc.vocab[86].text"
      ],
      "execution_count": 18,
      "outputs": [
        {
          "output_type": "execute_result",
          "data": {
            "application/vnd.google.colaboratory.intrinsic+json": {
              "type": "string"
            },
            "text/plain": [
              "'ADV'"
            ]
          },
          "metadata": {
            "tags": []
          },
          "execution_count": 18
        }
      ]
    },
    {
      "cell_type": "code",
      "metadata": {
        "colab": {
          "base_uri": "https://localhost:8080/",
          "height": 35
        },
        "id": "mBQuhfhflDZS",
        "outputId": "f3ccb45e-8c8e-4a41-f487-7e4f293f6483"
      },
      "source": [
        "doc4[2].pos_"
      ],
      "execution_count": 19,
      "outputs": [
        {
          "output_type": "execute_result",
          "data": {
            "application/vnd.google.colaboratory.intrinsic+json": {
              "type": "string"
            },
            "text/plain": [
              "'AUX'"
            ]
          },
          "metadata": {
            "tags": []
          },
          "execution_count": 19
        }
      ]
    },
    {
      "cell_type": "code",
      "metadata": {
        "colab": {
          "base_uri": "https://localhost:8080/"
        },
        "id": "op2fSENrlM83",
        "outputId": "5975e2b2-bd05-42b5-831f-8aac20b710b4"
      },
      "source": [
        "for k,v in sorted(POS_counts.items()):    #TO COUNT THE NO OF POS APPEARING IN THE TEXT \r\n",
        "  print(f\"{k}. {doc.vocab[k].text} {v}\")"
      ],
      "execution_count": 20,
      "outputs": [
        {
          "output_type": "stream",
          "text": [
            "86. ADV 2\n",
            "87. AUX 4\n",
            "90. DET 3\n",
            "92. NOUN 4\n",
            "95. PRON 3\n",
            "97. PUNCT 1\n",
            "98. SCONJ 1\n",
            "100. VERB 2\n"
          ],
          "name": "stdout"
        }
      ]
    },
    {
      "cell_type": "code",
      "metadata": {
        "colab": {
          "base_uri": "https://localhost:8080/"
        },
        "id": "P38-jFJol2dx",
        "outputId": "012d8ab3-5de0-43fc-b716-10c24014c5d6"
      },
      "source": [
        "DEP_counts = doc.count_by(spacy.attrs.DEP)\r\n",
        "\r\n",
        "for k,v in sorted(DEP_counts.items()):\r\n",
        "  print(f\"{k}. {doc.vocab[k].text} {v}\")"
      ],
      "execution_count": 21,
      "outputs": [
        {
          "output_type": "stream",
          "text": [
            "399. advcl 1\n",
            "400. advmod 2\n",
            "404. attr 1\n",
            "405. aux 2\n",
            "406. auxpass 1\n",
            "415. det 1\n",
            "416. dobj 2\n",
            "423. mark 1\n",
            "429. nsubj 2\n",
            "430. nsubjpass 1\n",
            "440. poss 2\n",
            "445. punct 1\n",
            "7037928807040764755. compound 1\n",
            "8206900633647566924. ROOT 2\n"
          ],
          "name": "stdout"
        }
      ]
    },
    {
      "cell_type": "code",
      "metadata": {
        "id": "dsfViy7Rm2k_"
      },
      "source": [
        "from spacy import displacy #DISPLACY IS A VIZUALISING TOOL FROM SPACY"
      ],
      "execution_count": 22,
      "outputs": []
    },
    {
      "cell_type": "code",
      "metadata": {
        "id": "REXy7pszq64X"
      },
      "source": [
        "doc5 = nlp(u\"I scream, you scream, we all scream for ice cream\")"
      ],
      "execution_count": 23,
      "outputs": []
    },
    {
      "cell_type": "code",
      "metadata": {
        "colab": {
          "base_uri": "https://localhost:8080/"
        },
        "id": "gbOx98MErVtV",
        "outputId": "175131f7-7994-4753-86b5-d3a5c2879086"
      },
      "source": [
        "spacy.displacy.serve(doc5,style='dep',page=True,port=5000) "
      ],
      "execution_count": 24,
      "outputs": [
        {
          "output_type": "stream",
          "text": [
            "\n",
            "Using the 'dep' visualizer\n",
            "Serving on http://0.0.0.0:5000 ...\n",
            "\n",
            "Shutting down server on port 5000.\n"
          ],
          "name": "stdout"
        }
      ]
    },
    {
      "cell_type": "markdown",
      "metadata": {
        "id": "GsmyEWPGTyY6"
      },
      "source": [
        "#NAMED ENTITY RECOGNITION\r\n",
        "TO IDENTIFY THE NAMED ENTITIES PRESENT IN THE DOCUMENT.\r\n",
        "THESE CAN BE NAME OF A PERSON, ORGANIZATION, CARS, PRODUCTS AND MANY MORE..."
      ]
    },
    {
      "cell_type": "code",
      "metadata": {
        "id": "foyKIg5ispwE"
      },
      "source": [
        "def show_ents(doc):\r\n",
        "  if doc.ents:\r\n",
        "    for ent in doc.ents:\r\n",
        "      print(ent.text + ' - ' +ent.label_ + ' - ' + str(spacy.explain(ent.label_)))\r\n",
        "  else:\r\n",
        "    print('No entities found')    \r\n"
      ],
      "execution_count": 25,
      "outputs": []
    },
    {
      "cell_type": "code",
      "metadata": {
        "id": "_gWjrBFlypKx"
      },
      "source": [
        "doc = nlp(u'Hi How are you?')"
      ],
      "execution_count": 26,
      "outputs": []
    },
    {
      "cell_type": "code",
      "metadata": {
        "colab": {
          "base_uri": "https://localhost:8080/"
        },
        "id": "VIib6IHQyuTk",
        "outputId": "8ebef5f9-8a54-4b2d-df58-ab17bddbb6cb"
      },
      "source": [
        "show_ents(doc)  #NO NAMED ENTITY"
      ],
      "execution_count": 27,
      "outputs": [
        {
          "output_type": "stream",
          "text": [
            "No entities found\n"
          ],
          "name": "stdout"
        }
      ]
    },
    {
      "cell_type": "code",
      "metadata": {
        "id": "kxWaIpyuyxIN"
      },
      "source": [
        "doc = nlp(u'I am going to Ranchi next month as Birla Institute of Technology, Mesra is going to reopen')"
      ],
      "execution_count": 28,
      "outputs": []
    },
    {
      "cell_type": "code",
      "metadata": {
        "colab": {
          "base_uri": "https://localhost:8080/"
        },
        "id": "LaQ5eJPSy-fg",
        "outputId": "f715d3b0-d548-452c-ede4-5938144e62ae"
      },
      "source": [
        "show_ents(doc) #AS WE CAN SEE HERE ALL THE NAMED ENTITIES ARE CORRECTLY CLASSIFIED"
      ],
      "execution_count": 68,
      "outputs": [
        {
          "output_type": "stream",
          "text": [
            "Tesla - PRODUCT - Objects, vehicles, foods, etc. (not services)\n",
            "mercedes - ORG - Companies, agencies, institutions, etc.\n",
            "Audi Q4 - PERSON - People, including fictional\n"
          ],
          "name": "stdout"
        }
      ]
    },
    {
      "cell_type": "code",
      "metadata": {
        "id": "YyygxFdZzAOl"
      },
      "source": [
        "doc = nlp(u'I will need to have Rupees 5000 to register in the flagship event') #'MONEY' ENTITY"
      ],
      "execution_count": 30,
      "outputs": []
    },
    {
      "cell_type": "code",
      "metadata": {
        "colab": {
          "base_uri": "https://localhost:8080/"
        },
        "id": "ggp3od0xzYQO",
        "outputId": "276e6822-d8ef-435d-f0cf-923d789cab67"
      },
      "source": [
        "show_ents(doc)"
      ],
      "execution_count": 31,
      "outputs": [
        {
          "output_type": "stream",
          "text": [
            "5000 - CARDINAL - Numerals that do not fall under another type\n"
          ],
          "name": "stdout"
        }
      ]
    },
    {
      "cell_type": "code",
      "metadata": {
        "id": "-YrJmCJWzZlZ"
      },
      "source": [
        "doc = nlp(u'I like Tesla and mercedes maybach but Audi Q4 is good as well!!')"
      ],
      "execution_count": 32,
      "outputs": []
    },
    {
      "cell_type": "code",
      "metadata": {
        "colab": {
          "base_uri": "https://localhost:8080/"
        },
        "id": "L-vkujmgzt9K",
        "outputId": "7ff14716-037e-4e88-ee04-ecdb063321d6"
      },
      "source": [
        "show_ents(doc)"
      ],
      "execution_count": 33,
      "outputs": [
        {
          "output_type": "stream",
          "text": [
            "Tesla - PRODUCT - Objects, vehicles, foods, etc. (not services)\n",
            "mercedes - ORG - Companies, agencies, institutions, etc.\n",
            "Audi Q4 - PERSON - People, including fictional\n"
          ],
          "name": "stdout"
        }
      ]
    },
    {
      "cell_type": "code",
      "metadata": {
        "id": "_M464URGzwxd"
      },
      "source": [
        "from spacy.tokens import Span #SPAN IS SLICE OF THE DOCUMENT. FROM SPAN WE CAN ANALYSE A WORD OR A SEQUENCE OF WORDS FROM THE DOCUMENT"
      ],
      "execution_count": 34,
      "outputs": []
    },
    {
      "cell_type": "markdown",
      "metadata": {
        "id": "d37nm1-YVN_C"
      },
      "source": [
        "SUPPOSE WE WANT TO ADD THE NAMED ENTITY IN THE VOCAB HOW CAN WE DO THIS?\r\n",
        "HERE 'TESLA' IS NOT INCLUDED AS THE ORGANIZATION NAME IN THE VOCAB AND WE ARE GOING TO ADD IT AS AN ENTITY UNDER 'ORGANIZATION'"
      ]
    },
    {
      "cell_type": "code",
      "metadata": {
        "id": "uDcJsBwR2xMK"
      },
      "source": [
        "doc6 = nlp(u'Tesla to build a factory of worth $6 million')"
      ],
      "execution_count": 35,
      "outputs": []
    },
    {
      "cell_type": "code",
      "metadata": {
        "id": "neYfCEGR1bJ-"
      },
      "source": [
        "ORG = doc6.vocab.strings[u\"ORG\"]"
      ],
      "execution_count": 36,
      "outputs": []
    },
    {
      "cell_type": "code",
      "metadata": {
        "colab": {
          "base_uri": "https://localhost:8080/"
        },
        "id": "vgcw8q3O1kIW",
        "outputId": "a90498c2-75e7-4bfd-b110-48616b4b175a"
      },
      "source": [
        "ORG"
      ],
      "execution_count": 37,
      "outputs": [
        {
          "output_type": "execute_result",
          "data": {
            "text/plain": [
              "383"
            ]
          },
          "metadata": {
            "tags": []
          },
          "execution_count": 37
        }
      ]
    },
    {
      "cell_type": "code",
      "metadata": {
        "id": "CXn8-0H-1liY"
      },
      "source": [
        "new_entity = Span(doc6,0,1,label=ORG) #HERE WE CREATED A NEW ENTITYAND LABELLED IT AS ORG"
      ],
      "execution_count": 38,
      "outputs": []
    },
    {
      "cell_type": "code",
      "metadata": {
        "id": "MSAX4qml11dP"
      },
      "source": [
        "doc6.ents = list(doc6.ents) + [new_entity]"
      ],
      "execution_count": 39,
      "outputs": []
    },
    {
      "cell_type": "code",
      "metadata": {
        "colab": {
          "base_uri": "https://localhost:8080/"
        },
        "id": "VPKzuuAE18VN",
        "outputId": "20cdd681-bb59-43f2-f2c3-69a12e7b16b8"
      },
      "source": [
        "show_ents(doc6) #SO NOW HERE WE ARE ABLE TO SEE 'TESLA' AS THE ORG NAME"
      ],
      "execution_count": 69,
      "outputs": [
        {
          "output_type": "stream",
          "text": [
            "Tesla - ORG - Companies, agencies, institutions, etc.\n",
            "$6 million - MONEY - Monetary values, including unit\n"
          ],
          "name": "stdout"
        }
      ]
    },
    {
      "cell_type": "code",
      "metadata": {
        "id": "eYWXr5Rd3Fa0"
      },
      "source": [
        "doc7 = nlp(u\"Our company has launched a new vaccum cleaner in the market today.\"\r\n",
        "          u\"The launched vaccum-cleaner is the best product available\")"
      ],
      "execution_count": 41,
      "outputs": []
    },
    {
      "cell_type": "code",
      "metadata": {
        "colab": {
          "base_uri": "https://localhost:8080/"
        },
        "id": "M1MT0T96Y9uu",
        "outputId": "a154d29a-a324-4e9e-a43b-670af0d00fcf"
      },
      "source": [
        "show_ents(doc7)"
      ],
      "execution_count": 42,
      "outputs": [
        {
          "output_type": "stream",
          "text": [
            "today - DATE - Absolute or relative dates or periods\n"
          ],
          "name": "stdout"
        }
      ]
    },
    {
      "cell_type": "code",
      "metadata": {
        "id": "RBcQ2onxZA-H"
      },
      "source": [
        "from spacy.matcher import PhraseMatcher  #PHRASE MATCHER IS USED WHEN WE WANT TO MATCH OR COMPARE MULTIPLE WORDS"
      ],
      "execution_count": 43,
      "outputs": []
    },
    {
      "cell_type": "code",
      "metadata": {
        "id": "195RfjtsZK-S"
      },
      "source": [
        "matcher = PhraseMatcher(nlp.vocab)"
      ],
      "execution_count": 44,
      "outputs": []
    },
    {
      "cell_type": "code",
      "metadata": {
        "id": "18PKqbqpZSG7"
      },
      "source": [
        "phrase_list = ['vaccum cleaner', 'vaccum-cleaner']"
      ],
      "execution_count": 45,
      "outputs": []
    },
    {
      "cell_type": "code",
      "metadata": {
        "id": "W-TEQvleZZZe"
      },
      "source": [
        "phrase_pattern = [nlp(text) for text in phrase_list]"
      ],
      "execution_count": 46,
      "outputs": []
    },
    {
      "cell_type": "code",
      "metadata": {
        "id": "JGmVQnu9ZkPH"
      },
      "source": [
        "matcher.add('newproduct', None, *phrase_pattern)"
      ],
      "execution_count": 47,
      "outputs": []
    },
    {
      "cell_type": "code",
      "metadata": {
        "id": "nOYy4vM2aKJp"
      },
      "source": [
        "found_matches =  matcher(doc7)"
      ],
      "execution_count": 48,
      "outputs": []
    },
    {
      "cell_type": "code",
      "metadata": {
        "colab": {
          "base_uri": "https://localhost:8080/"
        },
        "id": "LvP5HIhAgVlu",
        "outputId": "07d7ae11-ddd8-452a-d5e4-171b64376ba6"
      },
      "source": [
        "found_matches"
      ],
      "execution_count": 49,
      "outputs": [
        {
          "output_type": "execute_result",
          "data": {
            "text/plain": [
              "[(2689272359382549672, 6, 8), (2689272359382549672, 15, 18)]"
            ]
          },
          "metadata": {
            "tags": []
          },
          "execution_count": 49
        }
      ]
    },
    {
      "cell_type": "code",
      "metadata": {
        "id": "vinGwOLchFvd"
      },
      "source": [
        "from spacy.tokens import Span"
      ],
      "execution_count": 50,
      "outputs": []
    },
    {
      "cell_type": "code",
      "metadata": {
        "id": "h1RZUbP2gYTj"
      },
      "source": [
        "PROD = doc7.vocab.strings[u\"PRODUCT\"]"
      ],
      "execution_count": 51,
      "outputs": []
    },
    {
      "cell_type": "code",
      "metadata": {
        "id": "Tr59_foVhBle"
      },
      "source": [
        "new_ents=[Span(doc7,match[1],match[2],label=PROD) for match in found_matches]"
      ],
      "execution_count": 52,
      "outputs": []
    },
    {
      "cell_type": "code",
      "metadata": {
        "id": "Ma_5ceywhRWB"
      },
      "source": [
        "doc7.ents = list(doc7.ents) + new_ents"
      ],
      "execution_count": 53,
      "outputs": []
    },
    {
      "cell_type": "code",
      "metadata": {
        "colab": {
          "base_uri": "https://localhost:8080/"
        },
        "id": "XkaE1hk_iFt-",
        "outputId": "86c48d56-49ab-43b8-bf06-73a29bd5cc09"
      },
      "source": [
        "show_ents(doc7)"
      ],
      "execution_count": 54,
      "outputs": [
        {
          "output_type": "stream",
          "text": [
            "vaccum cleaner - PRODUCT - Objects, vehicles, foods, etc. (not services)\n",
            "today - DATE - Absolute or relative dates or periods\n",
            "vaccum-cleaner - PRODUCT - Objects, vehicles, foods, etc. (not services)\n"
          ],
          "name": "stdout"
        }
      ]
    },
    {
      "cell_type": "code",
      "metadata": {
        "id": "giWKeNfEiH-1"
      },
      "source": [
        "doc8 = nlp(u\"Getting admission in a private medical college will cost you will need  $25 lakh Rupees and same in the government college will cost you around 5 lakh dollars\")"
      ],
      "execution_count": 62,
      "outputs": []
    },
    {
      "cell_type": "code",
      "metadata": {
        "colab": {
          "base_uri": "https://localhost:8080/"
        },
        "id": "NFyag2OsPQvK",
        "outputId": "4d281636-19da-4469-d151-ac59da352213"
      },
      "source": [
        "len([ent for ent in doc8.ents if ent.label_ == 'MONEY']) "
      ],
      "execution_count": 64,
      "outputs": [
        {
          "output_type": "execute_result",
          "data": {
            "text/plain": [
              "2"
            ]
          },
          "metadata": {
            "tags": []
          },
          "execution_count": 64
        }
      ]
    },
    {
      "cell_type": "code",
      "metadata": {
        "id": "NSrFnfdNPfFV"
      },
      "source": [
        ""
      ],
      "execution_count": null,
      "outputs": []
    }
  ]
}