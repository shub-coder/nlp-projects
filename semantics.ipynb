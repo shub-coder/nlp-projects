{
  "nbformat": 4,
  "nbformat_minor": 0,
  "metadata": {
    "colab": {
      "name": "semantics.ipynb",
      "provenance": []
    },
    "kernelspec": {
      "name": "python3",
      "display_name": "Python 3"
    },
    "language_info": {
      "name": "python"
    }
  },
  "cells": [
    {
      "cell_type": "code",
      "metadata": {
        "colab": {
          "base_uri": "https://localhost:8080/"
        },
        "id": "NGcyaYab_9rs",
        "outputId": "2f0df045-9fe5-4ed8-eb17-82787bf1dea1"
      },
      "source": [
        "!python -m spacy download en_core_web_md"
      ],
      "execution_count": 42,
      "outputs": [
        {
          "output_type": "stream",
          "text": [
            "Requirement already satisfied: en_core_web_md==2.2.5 from https://github.com/explosion/spacy-models/releases/download/en_core_web_md-2.2.5/en_core_web_md-2.2.5.tar.gz#egg=en_core_web_md==2.2.5 in /usr/local/lib/python3.7/dist-packages (2.2.5)\n",
            "Requirement already satisfied: spacy>=2.2.2 in /usr/local/lib/python3.7/dist-packages (from en_core_web_md==2.2.5) (2.2.4)\n",
            "Requirement already satisfied: thinc==7.4.0 in /usr/local/lib/python3.7/dist-packages (from spacy>=2.2.2->en_core_web_md==2.2.5) (7.4.0)\n",
            "Requirement already satisfied: wasabi<1.1.0,>=0.4.0 in /usr/local/lib/python3.7/dist-packages (from spacy>=2.2.2->en_core_web_md==2.2.5) (0.8.2)\n",
            "Requirement already satisfied: setuptools in /usr/local/lib/python3.7/dist-packages (from spacy>=2.2.2->en_core_web_md==2.2.5) (54.1.2)\n",
            "Requirement already satisfied: blis<0.5.0,>=0.4.0 in /usr/local/lib/python3.7/dist-packages (from spacy>=2.2.2->en_core_web_md==2.2.5) (0.4.1)\n",
            "Requirement already satisfied: cymem<2.1.0,>=2.0.2 in /usr/local/lib/python3.7/dist-packages (from spacy>=2.2.2->en_core_web_md==2.2.5) (2.0.5)\n",
            "Requirement already satisfied: plac<1.2.0,>=0.9.6 in /usr/local/lib/python3.7/dist-packages (from spacy>=2.2.2->en_core_web_md==2.2.5) (1.1.3)\n",
            "Requirement already satisfied: numpy>=1.15.0 in /usr/local/lib/python3.7/dist-packages (from spacy>=2.2.2->en_core_web_md==2.2.5) (1.19.5)\n",
            "Requirement already satisfied: tqdm<5.0.0,>=4.38.0 in /usr/local/lib/python3.7/dist-packages (from spacy>=2.2.2->en_core_web_md==2.2.5) (4.41.1)\n",
            "Requirement already satisfied: preshed<3.1.0,>=3.0.2 in /usr/local/lib/python3.7/dist-packages (from spacy>=2.2.2->en_core_web_md==2.2.5) (3.0.5)\n",
            "Requirement already satisfied: catalogue<1.1.0,>=0.0.7 in /usr/local/lib/python3.7/dist-packages (from spacy>=2.2.2->en_core_web_md==2.2.5) (1.0.0)\n",
            "Requirement already satisfied: requests<3.0.0,>=2.13.0 in /usr/local/lib/python3.7/dist-packages (from spacy>=2.2.2->en_core_web_md==2.2.5) (2.23.0)\n",
            "Requirement already satisfied: murmurhash<1.1.0,>=0.28.0 in /usr/local/lib/python3.7/dist-packages (from spacy>=2.2.2->en_core_web_md==2.2.5) (1.0.5)\n",
            "Requirement already satisfied: srsly<1.1.0,>=1.0.2 in /usr/local/lib/python3.7/dist-packages (from spacy>=2.2.2->en_core_web_md==2.2.5) (1.0.5)\n",
            "Requirement already satisfied: importlib-metadata>=0.20; python_version < \"3.8\" in /usr/local/lib/python3.7/dist-packages (from catalogue<1.1.0,>=0.0.7->spacy>=2.2.2->en_core_web_md==2.2.5) (3.7.2)\n",
            "Requirement already satisfied: idna<3,>=2.5 in /usr/local/lib/python3.7/dist-packages (from requests<3.0.0,>=2.13.0->spacy>=2.2.2->en_core_web_md==2.2.5) (2.10)\n",
            "Requirement already satisfied: chardet<4,>=3.0.2 in /usr/local/lib/python3.7/dist-packages (from requests<3.0.0,>=2.13.0->spacy>=2.2.2->en_core_web_md==2.2.5) (3.0.4)\n",
            "Requirement already satisfied: urllib3!=1.25.0,!=1.25.1,<1.26,>=1.21.1 in /usr/local/lib/python3.7/dist-packages (from requests<3.0.0,>=2.13.0->spacy>=2.2.2->en_core_web_md==2.2.5) (1.24.3)\n",
            "Requirement already satisfied: certifi>=2017.4.17 in /usr/local/lib/python3.7/dist-packages (from requests<3.0.0,>=2.13.0->spacy>=2.2.2->en_core_web_md==2.2.5) (2020.12.5)\n",
            "Requirement already satisfied: typing-extensions>=3.6.4; python_version < \"3.8\" in /usr/local/lib/python3.7/dist-packages (from importlib-metadata>=0.20; python_version < \"3.8\"->catalogue<1.1.0,>=0.0.7->spacy>=2.2.2->en_core_web_md==2.2.5) (3.7.4.3)\n",
            "Requirement already satisfied: zipp>=0.5 in /usr/local/lib/python3.7/dist-packages (from importlib-metadata>=0.20; python_version < \"3.8\"->catalogue<1.1.0,>=0.0.7->spacy>=2.2.2->en_core_web_md==2.2.5) (3.4.1)\n",
            "\u001b[38;5;2m✔ Download and installation successful\u001b[0m\n",
            "You can now load the model via spacy.load('en_core_web_md')\n"
          ],
          "name": "stdout"
        }
      ]
    },
    {
      "cell_type": "code",
      "metadata": {
        "id": "HocLUdKHCMw0"
      },
      "source": [
        "import spacy\n",
        "nlp = spacy.load('en_core_web_md')"
      ],
      "execution_count": 43,
      "outputs": []
    },
    {
      "cell_type": "code",
      "metadata": {
        "colab": {
          "base_uri": "https://localhost:8080/"
        },
        "id": "CzZ6TDz8Ct3o",
        "outputId": "b12998e4-b0a0-42cd-d6a2-3b7ff8a3f530"
      },
      "source": [
        "print(nlp(u'fox').vector)\n",
        "print(nlp(u'fox').vector.shape)"
      ],
      "execution_count": 44,
      "outputs": [
        {
          "output_type": "stream",
          "text": [
            "[-0.34868   -0.07772    0.17775   -0.094953  -0.45289    0.23779\n",
            "  0.20944    0.037886   0.035064   0.89901   -0.51795   -0.54758\n",
            " -0.67311   -0.13165   -0.58542    0.31203   -0.094121   0.14005\n",
            "  0.028915  -0.24229   -0.091525   0.13321    0.11476   -0.54555\n",
            " -0.046149  -0.022279  -0.99487    0.24005   -0.1137    -0.11776\n",
            " -0.4784     0.27898    0.65996   -0.082358   0.075643  -0.30838\n",
            "  0.13452   -0.12287   -0.24341   -0.010298   0.25843    0.44442\n",
            "  0.011145   0.20056    0.28124    0.050357  -0.33507   -0.29284\n",
            "  0.35044   -0.050556  -0.48251    0.052938  -0.12378   -0.2964\n",
            " -0.15172    0.0087851  0.19233    0.64878   -0.096522   0.20181\n",
            " -0.16605    0.28087    0.2585    -0.028176   0.11437   -0.43112\n",
            "  0.19221   -0.21355   -0.033098  -0.83378   -0.12442   -0.3241\n",
            " -0.022392  -0.082784  -0.066018  -0.14459   -0.41392    0.04848\n",
            "  0.29837    0.10689   -0.60307    0.033302   0.1529     0.3421\n",
            "  0.33557   -0.07224    1.3675     0.6044     0.40528    0.13122\n",
            " -0.011324   0.43728   -0.15763   -1.0269     0.54088   -0.1535\n",
            " -0.38018   -0.12377   -0.10793   -0.19122    0.21735    0.22176\n",
            "  0.073568   0.30276    0.26564   -0.70143    0.22941   -0.2926\n",
            " -0.43729   -0.024135  -0.30115    0.19147    0.16713   -0.3195\n",
            "  0.16277    0.41773    0.020406   0.24295    0.29243    0.11927\n",
            "  0.039907  -0.12856    0.45805   -0.50595   -0.72506    0.088897\n",
            "  0.031567   0.39707   -0.35778   -0.26682    0.095472  -0.17037\n",
            " -0.082793  -0.14266    0.063067   0.086827  -0.93395   -0.52873\n",
            "  0.29302   -0.43777   -2.8341    -0.47995    0.24548    0.029527\n",
            "  0.50536   -0.05237    0.31139   -0.19852   -0.2261    -0.2075\n",
            "  0.11036   -0.043471  -0.054806  -0.21729    0.055049   0.041897\n",
            " -0.14537    0.2051    -0.025562   0.054771   0.28823   -0.7787\n",
            " -0.58538    0.14925    0.15124   -0.032083  -0.26977   -0.20836\n",
            " -0.46723   -0.46036    0.18654    0.34602   -0.55667    0.3371\n",
            " -0.15858    0.15056    0.64466    0.29246    0.14538    0.52279\n",
            "  0.058665  -0.31835    0.31297    0.16788    0.048295   0.29213\n",
            " -0.20035   -0.043421   0.46042    0.0046442  0.23503    0.21977\n",
            "  0.21247   -0.19878   -0.033284   0.38708    0.038526  -0.039912\n",
            "  0.57572   -0.22854   -0.42888    0.26821   -0.1924    -0.07312\n",
            "  0.20966   -0.078163   0.069814  -0.22164   -0.15926   -0.17285\n",
            " -0.21186    0.56876    0.30348    0.59871   -0.026358  -0.058107\n",
            " -0.43726    0.39063   -0.27837    0.49228    0.31087    0.1184\n",
            "  0.017003  -0.0029474 -0.62971    0.44576    0.85235    0.39069\n",
            "  0.3479     0.59996   -0.37988   -0.17482   -0.19149    0.021786\n",
            "  0.15557    0.0514     0.20849   -0.18974    0.31005    0.32696\n",
            " -0.32108   -0.52357    0.18885   -0.39218    0.12952   -0.14361\n",
            "  0.28993    0.56664   -0.41659   -0.26664    0.19747    0.10038\n",
            " -0.01663    0.13101    0.1538    -0.23352    0.11274    0.25675\n",
            "  0.31912   -0.26737    0.5207     0.15285    0.19642   -0.17643\n",
            "  0.43369   -0.49205    0.044667   0.195     -0.43139    0.16756\n",
            " -0.89645    0.55101    0.0042033  0.32836    0.34358    0.18559\n",
            " -0.14644    0.15699   -0.50779    0.071018   0.15687    0.23015\n",
            "  0.087828   0.27005    0.26641    0.29114   -0.13286   -0.25416\n",
            " -0.095441  -0.17404   -0.28305    0.27024   -0.6548     0.1053\n",
            " -0.068738  -0.53475    0.061783   0.12361   -0.5537    -0.54479  ]\n",
            "(300,)\n"
          ],
          "name": "stdout"
        }
      ]
    },
    {
      "cell_type": "code",
      "metadata": {
        "colab": {
          "base_uri": "https://localhost:8080/"
        },
        "id": "BmohXvAzNKgq",
        "outputId": "7ada86a5-0058-4c7a-9fb2-213937c8b748"
      },
      "source": [
        "print(nlp(u'This is the best gift for me').vector)\n",
        "print(nlp(u'This is the best gift for me').vector.shape)"
      ],
      "execution_count": 45,
      "outputs": [
        {
          "output_type": "stream",
          "text": [
            "[-1.29620865e-01  2.56397158e-01 -8.30156729e-02 -3.09244301e-02\n",
            "  1.67697430e-01 -1.80253401e-01  9.68991965e-02 -1.44774154e-01\n",
            "  5.90957180e-02  2.34008574e+00 -3.39920700e-01  1.73332572e-01\n",
            " -5.65657206e-02 -1.18784741e-01 -3.25331390e-02 -2.14781776e-01\n",
            " -1.35769919e-01  1.23412144e+00 -5.38857374e-03 -3.51756602e-03\n",
            " -7.30224252e-02 -1.83908567e-01 -1.11886010e-01  1.58946426e-03\n",
            " -3.14329974e-02  1.85312718e-01 -4.61405702e-02 -2.86989976e-02\n",
            " -1.01194702e-01  1.53564215e-02  6.69575576e-03  1.28941998e-01\n",
            " -2.89628636e-02  1.69909850e-01  4.57237139e-02 -4.64659519e-02\n",
            " -2.00997852e-02 -2.11814657e-01  3.32731046e-02 -1.80987164e-01\n",
            " -1.86170004e-02  2.51498133e-01 -4.77637090e-02 -1.87928289e-01\n",
            "  1.31643295e-01  1.51401147e-01 -1.98004320e-01  1.21512637e-03\n",
            " -5.33557162e-02  4.86575738e-02 -5.54501452e-02  3.15911397e-02\n",
            "  6.09087162e-02 -1.81219000e-02  1.41515285e-01  3.90486121e-02\n",
            " -5.75646274e-02 -1.54058589e-02 -7.64192864e-02 -6.98010027e-02\n",
            " -4.64566723e-02 -1.60920426e-01 -1.93076015e-01  2.60655701e-01\n",
            "  1.72450140e-01 -1.68748543e-01 -5.52244261e-02  1.07980430e-01\n",
            " -9.78907198e-02 -6.74671382e-02  7.05547184e-02  8.74231458e-02\n",
            "  8.48287195e-02 -5.26395664e-02  1.10793278e-01  1.60307497e-01\n",
            "  1.48783848e-01 -1.65029287e-01 -1.13400422e-01  3.26037586e-01\n",
            " -8.99745245e-03  2.56724715e-01 -9.79354307e-02  1.16312206e-01\n",
            "  1.42761141e-01 -3.08767140e-01 -2.85514444e-01  3.04095745e-02\n",
            "  2.75008142e-01 -1.46251842e-01 -1.65678576e-01  1.12524278e-01\n",
            " -5.53112589e-02  1.62854716e-01  2.86967102e-02  1.42290145e-01\n",
            " -6.04939982e-02 -2.04001144e-01  1.45835564e-01  4.72334214e-02\n",
            "  3.54524255e-02 -1.47723868e-01 -1.67918414e-01 -5.82275726e-02\n",
            "  1.55269578e-01 -4.70751554e-01  2.05516428e-01  1.53084993e-01\n",
            "  3.80621441e-02 -1.78437129e-01  1.23110570e-01 -1.62144870e-01\n",
            "  4.83147092e-02  1.08857243e-03 -4.31528687e-03  4.80748639e-02\n",
            " -1.66058287e-01  2.11438566e-01  6.01674281e-02  3.26991417e-02\n",
            "  1.37769297e-01 -8.27687159e-02 -9.57690272e-03  6.65095076e-02\n",
            "  6.01445697e-02  1.27461469e-02 -1.88174516e-01 -1.93116650e-01\n",
            "  9.42064151e-02 -1.01465732e-02 -5.34812883e-02 -2.05109283e-01\n",
            " -1.57570973e-01 -1.59863561e-01 -4.85705696e-02  1.82898454e-02\n",
            " -3.28755863e-02  7.24039897e-02  5.29139563e-02 -1.35637864e-01\n",
            " -1.54523849e+00  1.33343428e-01  1.85749292e-01  7.16525763e-02\n",
            " -9.25379321e-02 -2.06756994e-01  7.00920001e-02  4.34739925e-02\n",
            "  1.01497129e-01  8.18194300e-02 -1.26654297e-01  4.10791375e-02\n",
            "  4.68201414e-02 -1.76509425e-01  2.96027511e-02 -7.70761371e-02\n",
            " -1.31269842e-01 -5.27947135e-02 -1.66902855e-01 -1.70967132e-01\n",
            "  2.11478733e-02  1.51904568e-01 -4.27277163e-02 -8.43001455e-02\n",
            " -1.38740633e-02 -3.01735967e-01  1.47117853e-01 -2.15596557e-02\n",
            "  2.13315442e-01 -4.04851773e-04 -1.75495706e-02 -1.78545676e-02\n",
            "  3.10819000e-01 -9.40268561e-02 -1.55096456e-01  6.98358566e-02\n",
            " -3.38889994e-02 -4.71220016e-02 -2.48108599e-02  1.90081850e-01\n",
            "  3.59232835e-02 -1.70912281e-01 -2.35142885e-03 -4.56232764e-02\n",
            "  6.91498592e-02 -1.71411142e-01 -1.82027131e-01 -9.64105725e-02\n",
            "  1.86416712e-02  3.48518603e-02 -2.06160143e-01 -7.94218630e-02\n",
            " -2.60267138e-01  2.06181351e-02  1.79255173e-01  1.33475721e-01\n",
            "  6.80950005e-03 -7.47764260e-02  2.08115295e-01  2.23131016e-01\n",
            " -1.68612413e-02 -9.35920253e-02 -2.86561728e-01  8.34956989e-02\n",
            "  2.68663555e-01  1.28811717e-01  1.93744287e-01  1.47278562e-01\n",
            "  5.58192804e-02  1.30652711e-01 -1.24384426e-01  1.36062931e-02\n",
            " -7.11181611e-02 -2.66896874e-01  3.84765677e-02  2.53369123e-01\n",
            " -6.41102865e-02 -7.72575662e-02 -2.24795714e-01  2.73369998e-02\n",
            " -1.30313143e-01 -5.94661459e-02 -8.37262869e-02  3.54062878e-02\n",
            " -4.53271493e-02 -1.84508711e-01  3.41257155e-02  2.44544283e-01\n",
            " -6.27741218e-02 -8.21999158e-04 -1.56516001e-01  5.64204268e-02\n",
            "  5.50397113e-02  3.34352776e-02 -2.06617728e-01 -2.02254936e-01\n",
            "  4.81607839e-02 -1.22169279e-01 -2.02241436e-01  1.42665580e-01\n",
            "  7.79869929e-02  1.34021997e-01 -3.17520015e-02  1.60603732e-01\n",
            "  2.67856151e-01 -1.38432726e-01 -1.12240858e-01 -1.17855288e-01\n",
            " -1.39286712e-01 -3.89502831e-02  5.04518673e-02 -4.63450029e-02\n",
            " -8.05771425e-02 -4.64415774e-02  5.74762821e-02  3.34907442e-01\n",
            "  2.62425870e-01 -7.29514286e-02  3.33755761e-02  6.99412897e-02\n",
            "  8.87131318e-02  1.02796279e-01 -8.41914024e-03 -3.57657075e-02\n",
            "  7.60607198e-02 -5.43349944e-02  9.15655717e-02  1.90330580e-01\n",
            "  3.85898292e-01 -3.45226973e-02  4.24610116e-02  4.41438593e-02\n",
            " -1.97807118e-01 -9.49569866e-02 -4.03731279e-02  2.99542416e-02\n",
            "  2.98289973e-02  1.40492573e-01  1.68925002e-01  1.26737282e-01\n",
            "  4.93145697e-02  6.24227151e-02  4.74209152e-02 -1.29410848e-01\n",
            " -1.17429132e-02 -1.37557864e-01  2.02201992e-01 -1.54404432e-01\n",
            "  9.43689942e-02 -5.44414259e-02 -1.98351011e-01  1.90890003e-02\n",
            "  7.80505687e-02 -8.84744301e-02  2.06264272e-01 -1.61241144e-01\n",
            "  1.50798559e-02  1.20714307e-03 -1.23514906e-01  1.96497336e-01]\n",
            "(300,)\n"
          ],
          "name": "stdout"
        }
      ]
    },
    {
      "cell_type": "markdown",
      "metadata": {
        "id": "CBtlezRwN1QY"
      },
      "source": [
        "TO COMAPRE WORDS AND FIND SIMILARITY BETWEEN THEM"
      ]
    },
    {
      "cell_type": "code",
      "metadata": {
        "id": "KQ82PsKQNmnI"
      },
      "source": [
        "tokens = nlp(u'lion pet cat')"
      ],
      "execution_count": 46,
      "outputs": []
    },
    {
      "cell_type": "code",
      "metadata": {
        "colab": {
          "base_uri": "https://localhost:8080/"
        },
        "id": "wjiUdaBGOCs_",
        "outputId": "ca25a8f3-dd29-4188-b841-a8e8a13ea6ba"
      },
      "source": [
        "for token1 in tokens:\n",
        "  for token2 in tokens:\n",
        "    print(token1.text,token2.text,token1.similarity(token2))"
      ],
      "execution_count": 47,
      "outputs": [
        {
          "output_type": "stream",
          "text": [
            "lion lion 1.0\n",
            "lion pet 0.39923766\n",
            "lion cat 0.5265438\n",
            "pet lion 0.39923766\n",
            "pet pet 1.0\n",
            "pet cat 0.7505457\n",
            "cat lion 0.5265438\n",
            "cat pet 0.7505457\n",
            "cat cat 1.0\n"
          ],
          "name": "stdout"
        }
      ]
    },
    {
      "cell_type": "code",
      "metadata": {
        "id": "Svvo0wArOaud"
      },
      "source": [
        "tokens1 = nlp(u'like love hate')  "
      ],
      "execution_count": 48,
      "outputs": []
    },
    {
      "cell_type": "code",
      "metadata": {
        "colab": {
          "base_uri": "https://localhost:8080/"
        },
        "id": "rbeJYAgGPw_m",
        "outputId": "38403a7b-9ca8-4db2-fd41-04af79c97659"
      },
      "source": [
        "for token3 in tokens1:\n",
        "  for token4 in tokens1:\n",
        "    print(token3.text, token4.text, token3.similarity(token4))"
      ],
      "execution_count": 49,
      "outputs": [
        {
          "output_type": "stream",
          "text": [
            "like like 1.0\n",
            "like love 0.657904\n",
            "like hate 0.65746516\n",
            "love like 0.657904\n",
            "love love 1.0\n",
            "love hate 0.63930994\n",
            "hate like 0.65746516\n",
            "hate love 0.63930994\n",
            "hate hate 1.0\n"
          ],
          "name": "stdout"
        }
      ]
    },
    {
      "cell_type": "code",
      "metadata": {
        "colab": {
          "base_uri": "https://localhost:8080/"
        },
        "id": "XBNKyPHSP97k",
        "outputId": "2353fdb5-ee9d-4f5c-85d0-ea26eef4909f"
      },
      "source": [
        "nlp.vocab.vectors.shape"
      ],
      "execution_count": 50,
      "outputs": [
        {
          "output_type": "execute_result",
          "data": {
            "text/plain": [
              "(20000, 300)"
            ]
          },
          "metadata": {
            "tags": []
          },
          "execution_count": 50
        }
      ]
    },
    {
      "cell_type": "code",
      "metadata": {
        "colab": {
          "base_uri": "https://localhost:8080/"
        },
        "id": "tVP6Ir2fpC7D",
        "outputId": "a85217d0-3cb3-4ca4-c24f-9658bf231e0b"
      },
      "source": [
        "f = nlp(u'gazab').vector\n",
        "f.shape"
      ],
      "execution_count": 65,
      "outputs": [
        {
          "output_type": "execute_result",
          "data": {
            "text/plain": [
              "(300,)"
            ]
          },
          "metadata": {
            "tags": []
          },
          "execution_count": 65
        }
      ]
    },
    {
      "cell_type": "code",
      "metadata": {
        "id": "l7-DDYMQQA9y"
      },
      "source": [
        "tokens2 = nlp(u\"I am college student my name is Shubhendu\")"
      ],
      "execution_count": 51,
      "outputs": []
    },
    {
      "cell_type": "code",
      "metadata": {
        "colab": {
          "base_uri": "https://localhost:8080/"
        },
        "id": "XZKmdnl8QjVF",
        "outputId": "548ab3f4-d982-488d-f0ea-c9932c66896f"
      },
      "source": [
        "for token6 in tokens2:\n",
        "  print(token6, token6.has_vector, token6.vector_norm, token6.is_oov)"
      ],
      "execution_count": 52,
      "outputs": [
        {
          "output_type": "stream",
          "text": [
            "I True 6.4231944 False\n",
            "am True 6.8401594 False\n",
            "college True 7.0694895 False\n",
            "student True 6.9315486 False\n",
            "my True 5.837562 False\n",
            "name True 5.8601036 False\n",
            "is True 4.890306 False\n",
            "Shubhendu False 0.0 True\n"
          ],
          "name": "stdout"
        }
      ]
    },
    {
      "cell_type": "code",
      "metadata": {
        "id": "NSiirnumQynB"
      },
      "source": [
        "from scipy import spatial\n",
        "cosine_similarity = lambda vec1,vec2: 1-spatial.distance.cosine(vec1,vec2)"
      ],
      "execution_count": 62,
      "outputs": []
    },
    {
      "cell_type": "code",
      "metadata": {
        "id": "fp6oPXpBTl7T"
      },
      "source": [
        "teacher = nlp.vocab['teacher'].vector\n",
        "man = nlp.vocab['man'].vector\n",
        "woman = nlp.vocab['woman'].vector"
      ],
      "execution_count": 72,
      "outputs": []
    },
    {
      "cell_type": "code",
      "metadata": {
        "id": "FQDVYYI3T0TT"
      },
      "source": [
        "new_vector = teacher-man+woman"
      ],
      "execution_count": 73,
      "outputs": []
    },
    {
      "cell_type": "code",
      "metadata": {
        "id": "DlX2Rx6_li-k"
      },
      "source": [
        "computed_similarities = []\n",
        "\n",
        "for word in nlp.vocab:\n",
        "  if word.has_vector:\n",
        "    if word.is_lower:\n",
        "      if word.is_alpha:\n",
        "        similarity = cosine_similarity(new_vector,word.vector)\n",
        "        computed_similarities.append((word,similarity))"
      ],
      "execution_count": 74,
      "outputs": []
    },
    {
      "cell_type": "code",
      "metadata": {
        "id": "2qrQBwYKmeo0"
      },
      "source": [
        "computed_similarities = sorted(computed_similarities,key=lambda item:-item[1])"
      ],
      "execution_count": 75,
      "outputs": []
    },
    {
      "cell_type": "code",
      "metadata": {
        "colab": {
          "base_uri": "https://localhost:8080/"
        },
        "id": "ofybOyBGm_5A",
        "outputId": "fa47d739-f75c-40ab-d0b1-dafae3e59992"
      },
      "source": [
        "print([t[0].text for t in computed_similarities[:50]])"
      ],
      "execution_count": 76,
      "outputs": [
        {
          "output_type": "stream",
          "text": [
            "['librarian', 'pupil', 'headmaster', 'headteacher', 'educator', 'schoolteacher', 'teacher', 'principals', 'paraprofessionals', 'schoolteachers', 'headteachers', 'teachers', 'educators', 'headmasters', 'studen', 'student', 'school', 'midwife', 'anesthetist', 'prn', 'anaesthesiologist', 'nurse', 'woma', 'woman', 'businesswoman', 'teaching', 'instructer', 'instructor', 'instuctor', 'mother', 'classrooms', 'schoolroom', 'classroom', 'schoolwide', 'prek', 'kindergarden', 'homeschool', 'kindergartens', 'fieldtrip', 'kindegarten', 'prekindergarten', 'preschool', 'montessori', 'kindergarten', 'homeroom', 'kindy', 'afterschool', 'districtwide', 'tutoring', 'tutored']\n"
          ],
          "name": "stdout"
        }
      ]
    },
    {
      "cell_type": "code",
      "metadata": {
        "id": "8AIIcoFJnJQF"
      },
      "source": [
        ""
      ],
      "execution_count": null,
      "outputs": []
    }
  ]
}