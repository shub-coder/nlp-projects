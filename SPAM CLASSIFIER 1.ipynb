{
  "nbformat": 4,
  "nbformat_minor": 0,
  "metadata": {
    "colab": {
      "name": "Untitled12.ipynb",
      "provenance": []
    },
    "kernelspec": {
      "name": "python3",
      "display_name": "Python 3"
    }
  },
  "cells": [
    {
      "cell_type": "markdown",
      "metadata": {
        "id": "ZgugG_cYuRFk"
      },
      "source": [
        "#TEXT CLASSIFICATION\r\n",
        "IN THIS PROJECT WE WILL TRY TO CLASSIFY THE TEXT MESSAGES AS SPAM OR HAM(LEGITIMATE). IN THIS WE WILL USE THE FEATURES - LENGTH AND PUNCTUATIONS OF THE MESSAGES AND TRAIN THE MACHINE LEARNING MODEL. "
      ]
    },
    {
      "cell_type": "code",
      "metadata": {
        "id": "4WYhCyKCMoxn"
      },
      "source": [
        "import numpy as np\r\n",
        "import pandas as pd\r\n",
        "import matplotlib.pyplot as plt"
      ],
      "execution_count": 1,
      "outputs": []
    },
    {
      "cell_type": "code",
      "metadata": {
        "id": "P_KQgiXZMx_m"
      },
      "source": [
        "df = pd.read_csv('/content/smsspamcollection.tsv', sep = '\\t')"
      ],
      "execution_count": 2,
      "outputs": []
    },
    {
      "cell_type": "code",
      "metadata": {
        "colab": {
          "base_uri": "https://localhost:8080/",
          "height": 195
        },
        "id": "k7ryDiYyihx2",
        "outputId": "1e634aae-1a38-4a72-f679-e09bd7bcaa89"
      },
      "source": [
        "df.head()"
      ],
      "execution_count": 3,
      "outputs": [
        {
          "output_type": "execute_result",
          "data": {
            "text/html": [
              "<div>\n",
              "<style scoped>\n",
              "    .dataframe tbody tr th:only-of-type {\n",
              "        vertical-align: middle;\n",
              "    }\n",
              "\n",
              "    .dataframe tbody tr th {\n",
              "        vertical-align: top;\n",
              "    }\n",
              "\n",
              "    .dataframe thead th {\n",
              "        text-align: right;\n",
              "    }\n",
              "</style>\n",
              "<table border=\"1\" class=\"dataframe\">\n",
              "  <thead>\n",
              "    <tr style=\"text-align: right;\">\n",
              "      <th></th>\n",
              "      <th>label</th>\n",
              "      <th>message</th>\n",
              "      <th>length</th>\n",
              "      <th>punct</th>\n",
              "    </tr>\n",
              "  </thead>\n",
              "  <tbody>\n",
              "    <tr>\n",
              "      <th>0</th>\n",
              "      <td>ham</td>\n",
              "      <td>Go until jurong point, crazy.. Available only ...</td>\n",
              "      <td>111</td>\n",
              "      <td>9</td>\n",
              "    </tr>\n",
              "    <tr>\n",
              "      <th>1</th>\n",
              "      <td>ham</td>\n",
              "      <td>Ok lar... Joking wif u oni...</td>\n",
              "      <td>29</td>\n",
              "      <td>6</td>\n",
              "    </tr>\n",
              "    <tr>\n",
              "      <th>2</th>\n",
              "      <td>spam</td>\n",
              "      <td>Free entry in 2 a wkly comp to win FA Cup fina...</td>\n",
              "      <td>155</td>\n",
              "      <td>6</td>\n",
              "    </tr>\n",
              "    <tr>\n",
              "      <th>3</th>\n",
              "      <td>ham</td>\n",
              "      <td>U dun say so early hor... U c already then say...</td>\n",
              "      <td>49</td>\n",
              "      <td>6</td>\n",
              "    </tr>\n",
              "    <tr>\n",
              "      <th>4</th>\n",
              "      <td>ham</td>\n",
              "      <td>Nah I don't think he goes to usf, he lives aro...</td>\n",
              "      <td>61</td>\n",
              "      <td>2</td>\n",
              "    </tr>\n",
              "  </tbody>\n",
              "</table>\n",
              "</div>"
            ],
            "text/plain": [
              "  label                                            message  length  punct\n",
              "0   ham  Go until jurong point, crazy.. Available only ...     111      9\n",
              "1   ham                      Ok lar... Joking wif u oni...      29      6\n",
              "2  spam  Free entry in 2 a wkly comp to win FA Cup fina...     155      6\n",
              "3   ham  U dun say so early hor... U c already then say...      49      6\n",
              "4   ham  Nah I don't think he goes to usf, he lives aro...      61      2"
            ]
          },
          "metadata": {
            "tags": []
          },
          "execution_count": 3
        }
      ]
    },
    {
      "cell_type": "code",
      "metadata": {
        "colab": {
          "base_uri": "https://localhost:8080/"
        },
        "id": "RMUo3f4kjJNU",
        "outputId": "e722f39e-a484-42de-a01d-6b569f3c5472"
      },
      "source": [
        "len(df) #NO OF ROWS"
      ],
      "execution_count": 4,
      "outputs": [
        {
          "output_type": "execute_result",
          "data": {
            "text/plain": [
              "5572"
            ]
          },
          "metadata": {
            "tags": []
          },
          "execution_count": 4
        }
      ]
    },
    {
      "cell_type": "code",
      "metadata": {
        "colab": {
          "base_uri": "https://localhost:8080/"
        },
        "id": "3K0RHp22jf6I",
        "outputId": "4688fbf9-69d5-4594-c6c3-bad77baefbdb"
      },
      "source": [
        "df.isnull().sum() #CHECK FOR NULL VALUES"
      ],
      "execution_count": 5,
      "outputs": [
        {
          "output_type": "execute_result",
          "data": {
            "text/plain": [
              "label      0\n",
              "message    0\n",
              "length     0\n",
              "punct      0\n",
              "dtype: int64"
            ]
          },
          "metadata": {
            "tags": []
          },
          "execution_count": 5
        }
      ]
    },
    {
      "cell_type": "code",
      "metadata": {
        "colab": {
          "base_uri": "https://localhost:8080/"
        },
        "id": "v-bs47-jjvru",
        "outputId": "1537ff96-b4a1-41d2-bcaa-cd62c55680be"
      },
      "source": [
        "df['label'].unique()"
      ],
      "execution_count": 7,
      "outputs": [
        {
          "output_type": "execute_result",
          "data": {
            "text/plain": [
              "array(['ham', 'spam'], dtype=object)"
            ]
          },
          "metadata": {
            "tags": []
          },
          "execution_count": 7
        }
      ]
    },
    {
      "cell_type": "code",
      "metadata": {
        "colab": {
          "base_uri": "https://localhost:8080/"
        },
        "id": "ZxYu5xIRkGd4",
        "outputId": "b7189e1c-2380-401c-b7bf-410d7e4f03d7"
      },
      "source": [
        "df['label'].value_counts() #COUNT OF DIFFERENT TYPES OF MESSAGES"
      ],
      "execution_count": 8,
      "outputs": [
        {
          "output_type": "execute_result",
          "data": {
            "text/plain": [
              "ham     4825\n",
              "spam     747\n",
              "Name: label, dtype: int64"
            ]
          },
          "metadata": {
            "tags": []
          },
          "execution_count": 8
        }
      ]
    },
    {
      "cell_type": "code",
      "metadata": {
        "colab": {
          "base_uri": "https://localhost:8080/"
        },
        "id": "tbm7PNdwkOzl",
        "outputId": "d8469dbd-c96a-4728-e653-40c27b0950fa"
      },
      "source": [
        "df['length'].describe()"
      ],
      "execution_count": 9,
      "outputs": [
        {
          "output_type": "execute_result",
          "data": {
            "text/plain": [
              "count    5572.000000\n",
              "mean       80.489950\n",
              "std        59.942907\n",
              "min         2.000000\n",
              "25%        36.000000\n",
              "50%        62.000000\n",
              "75%       122.000000\n",
              "max       910.000000\n",
              "Name: length, dtype: float64"
            ]
          },
          "metadata": {
            "tags": []
          },
          "execution_count": 9
        }
      ]
    },
    {
      "cell_type": "code",
      "metadata": {
        "colab": {
          "base_uri": "https://localhost:8080/",
          "height": 269
        },
        "id": "lJKeSZ1xkepK",
        "outputId": "84b4be95-4d34-465b-e706-82eab30fa8e1"
      },
      "source": [
        "plt.xscale('log') #VISUALIZING SPAM AND HAM\r\n",
        "bins = 1.15**(np.arange(0,50))\r\n",
        "plt.hist(df[df['label'] == 'ham']['length'],bins=bins, alpha=0.8)\r\n",
        "plt.hist(df[df['label'] == 'spam']['length'],bins=bins, alpha=0.8)\r\n",
        "plt.legend(('ham', 'spam'))\r\n",
        "plt.show()"
      ],
      "execution_count": 11,
      "outputs": [
        {
          "output_type": "display_data",
          "data": {
            "image/png": "[encoded data removed]",
            "text/plain": [
              "<Figure size 432x288 with 1 Axes>"
            ]
          },
          "metadata": {
            "tags": [],
            "needs_background": "light"
          }
        }
      ]
    },
    {
      "cell_type": "markdown",
      "metadata": {
        "id": "nMW0lR-QvKMn"
      },
      "source": [
        "FROM THE ABOVE TWO HISTORAMS WE CAN INFER THAT MORE NUMBER OF HAM ARE SHORTER AS COMPARED TO SPAM MESSAGES, AND IT IS QUITE OBVIOUS AS SPAM MESSAGES CONTAINS IRRELEVANT TEXTS WHICH MAKES THEM LONGER. \r\n",
        "EVEN FROM THE GRAPH WE CANNOT CLEARLY CLASSIFY  "
      ]
    },
    {
      "cell_type": "code",
      "metadata": {
        "colab": {
          "base_uri": "https://localhost:8080/"
        },
        "id": "IJ5Jrc1ql6Iu",
        "outputId": "895371e4-5c48-44c6-f1d4-6b58bb336000"
      },
      "source": [
        "df['punct'].describe()"
      ],
      "execution_count": 12,
      "outputs": [
        {
          "output_type": "execute_result",
          "data": {
            "text/plain": [
              "count    5572.000000\n",
              "mean        4.177495\n",
              "std         4.623919\n",
              "min         0.000000\n",
              "25%         2.000000\n",
              "50%         3.000000\n",
              "75%         6.000000\n",
              "max       133.000000\n",
              "Name: punct, dtype: float64"
            ]
          },
          "metadata": {
            "tags": []
          },
          "execution_count": 12
        }
      ]
    },
    {
      "cell_type": "code",
      "metadata": {
        "colab": {
          "base_uri": "https://localhost:8080/",
          "height": 269
        },
        "id": "ep7KtsOXnl_G",
        "outputId": "f0712dbf-b5b0-4cb2-a1be-dc0ca9a1dce2"
      },
      "source": [
        "plt.xscale('log')\r\n",
        "bins = 1.5**(np.arange(0,15))\r\n",
        "plt.hist(df[df['label']=='ham']['punct'],bins=bins,alpha=0.8)\r\n",
        "plt.hist(df[df['label']=='spam']['punct'],bins=bins,alpha=0.8)\r\n",
        "plt.legend(('ham','spam'))\r\n",
        "plt.show()"
      ],
      "execution_count": 13,
      "outputs": [
        {
          "output_type": "display_data",
          "data": {
            "image/png": "[encoded data removed]",
            "text/plain": [
              "<Figure size 432x288 with 1 Axes>"
            ]
          },
          "metadata": {
            "tags": [],
            "needs_background": "light"
          }
        }
      ]
    },
    {
      "cell_type": "code",
      "metadata": {
        "id": "OcEoWCsmnpl_"
      },
      "source": [
        "# Create Feature and Label sets\r\n",
        "X = df[['length','punct']]  # note the double set of brackets\r\n",
        "y = df['label']"
      ],
      "execution_count": 14,
      "outputs": []
    },
    {
      "cell_type": "code",
      "metadata": {
        "colab": {
          "base_uri": "https://localhost:8080/"
        },
        "id": "AipN8MBYo0a7",
        "outputId": "c30d93d1-9cce-4ca5-a698-42e5c83c322d"
      },
      "source": [
        "from sklearn.model_selection import train_test_split #SPLITTING UP OF TRAIN AND TEST DATA\r\n",
        "\r\n",
        "X_train, X_test, y_train, y_test = train_test_split(X, y, test_size=0.33, random_state=42)\r\n",
        "\r\n",
        "print('Training Data Shape:', X_train.shape)\r\n",
        "print('Testing Data Shape: ', X_test.shape)"
      ],
      "execution_count": 30,
      "outputs": [
        {
          "output_type": "stream",
          "text": [
            "Training Data Shape: (3733, 2)\n",
            "Testing Data Shape:  (1839, 2)\n"
          ],
          "name": "stdout"
        }
      ]
    },
    {
      "cell_type": "code",
      "metadata": {
        "colab": {
          "base_uri": "https://localhost:8080/"
        },
        "id": "j8lCFsUZo4wo",
        "outputId": "9b8bc417-1131-4e2a-9012-7edc0ea37cad"
      },
      "source": [
        "from sklearn.linear_model import LogisticRegression #LOGISTIC REGRESSION MODEL\r\n",
        "lr_model = LogisticRegression(solver = 'lbfgs')\r\n",
        "lr_model.fit(X_train,y_train)\r\n"
      ],
      "execution_count": 16,
      "outputs": [
        {
          "output_type": "execute_result",
          "data": {
            "text/plain": [
              "LogisticRegression(C=1.0, class_weight=None, dual=False, fit_intercept=True,\n",
              "                   intercept_scaling=1, l1_ratio=None, max_iter=100,\n",
              "                   multi_class='auto', n_jobs=None, penalty='l2',\n",
              "                   random_state=None, solver='lbfgs', tol=0.0001, verbose=0,\n",
              "                   warm_start=False)"
            ]
          },
          "metadata": {
            "tags": []
          },
          "execution_count": 16
        }
      ]
    },
    {
      "cell_type": "code",
      "metadata": {
        "colab": {
          "base_uri": "https://localhost:8080/"
        },
        "id": "F6fwuOfjp5Od",
        "outputId": "b07e8803-5059-4f4f-f10b-2b1b9d5c2370"
      },
      "source": [
        " from sklearn import metrics\r\n",
        " predictions = lr_model.predict(X_test)\r\n",
        " predictions"
      ],
      "execution_count": 17,
      "outputs": [
        {
          "output_type": "execute_result",
          "data": {
            "text/plain": [
              "array(['ham', 'ham', 'ham', ..., 'ham', 'ham', 'ham'], dtype=object)"
            ]
          },
          "metadata": {
            "tags": []
          },
          "execution_count": 17
        }
      ]
    },
    {
      "cell_type": "code",
      "metadata": {
        "colab": {
          "base_uri": "https://localhost:8080/"
        },
        "id": "0rUq61v-qSNg",
        "outputId": "798f6b01-95c3-47e4-e103-d1613f4f9b99"
      },
      "source": [
        "y_test"
      ],
      "execution_count": 18,
      "outputs": [
        {
          "output_type": "execute_result",
          "data": {
            "text/plain": [
              "3245    ham\n",
              "944     ham\n",
              "1044    ham\n",
              "2484    ham\n",
              "812     ham\n",
              "       ... \n",
              "4944    ham\n",
              "3313    ham\n",
              "3652    ham\n",
              "14      ham\n",
              "4758    ham\n",
              "Name: label, Length: 1839, dtype: object"
            ]
          },
          "metadata": {
            "tags": []
          },
          "execution_count": 18
        }
      ]
    },
    {
      "cell_type": "markdown",
      "metadata": {
        "id": "hBT_H8eGwYlr"
      },
      "source": [
        "#EVALUATION"
      ]
    },
    {
      "cell_type": "code",
      "metadata": {
        "colab": {
          "base_uri": "https://localhost:8080/",
          "height": 106
        },
        "id": "eVCfEEyJqVRh",
        "outputId": "337b7b80-88b9-40c3-9b53-e93871501c64"
      },
      "source": [
        "df = pd.DataFrame(metrics.confusion_matrix(y_test,predictions), index=['ham','spam'], columns=['ham','spam'])\r\n",
        "df"
      ],
      "execution_count": 21,
      "outputs": [
        {
          "output_type": "execute_result",
          "data": {
            "text/html": [
              "<div>\n",
              "<style scoped>\n",
              "    .dataframe tbody tr th:only-of-type {\n",
              "        vertical-align: middle;\n",
              "    }\n",
              "\n",
              "    .dataframe tbody tr th {\n",
              "        vertical-align: top;\n",
              "    }\n",
              "\n",
              "    .dataframe thead th {\n",
              "        text-align: right;\n",
              "    }\n",
              "</style>\n",
              "<table border=\"1\" class=\"dataframe\">\n",
              "  <thead>\n",
              "    <tr style=\"text-align: right;\">\n",
              "      <th></th>\n",
              "      <th>ham</th>\n",
              "      <th>spam</th>\n",
              "    </tr>\n",
              "  </thead>\n",
              "  <tbody>\n",
              "    <tr>\n",
              "      <th>ham</th>\n",
              "      <td>1547</td>\n",
              "      <td>46</td>\n",
              "    </tr>\n",
              "    <tr>\n",
              "      <th>spam</th>\n",
              "      <td>241</td>\n",
              "      <td>5</td>\n",
              "    </tr>\n",
              "  </tbody>\n",
              "</table>\n",
              "</div>"
            ],
            "text/plain": [
              "       ham  spam\n",
              "ham   1547    46\n",
              "spam   241     5"
            ]
          },
          "metadata": {
            "tags": []
          },
          "execution_count": 21
        }
      ]
    },
    {
      "cell_type": "markdown",
      "metadata": {
        "id": "ZbDeyPCDwbX7"
      },
      "source": [
        "THE MODEL IS NOT PERFORMING WELL ON THE SPAM MESSAGES AS 241 SPAM MESSAGES ARE CLASSIFIED AS HAM"
      ]
    },
    {
      "cell_type": "code",
      "metadata": {
        "colab": {
          "base_uri": "https://localhost:8080/"
        },
        "id": "e1bFW8mcqaeH",
        "outputId": "c50ce391-3fff-45c1-b4d1-4986cee68058"
      },
      "source": [
        "print(metrics.classification_report(y_test,predictions)) "
      ],
      "execution_count": 22,
      "outputs": [
        {
          "output_type": "stream",
          "text": [
            "              precision    recall  f1-score   support\n",
            "\n",
            "         ham       0.87      0.97      0.92      1593\n",
            "        spam       0.10      0.02      0.03       246\n",
            "\n",
            "    accuracy                           0.84      1839\n",
            "   macro avg       0.48      0.50      0.47      1839\n",
            "weighted avg       0.76      0.84      0.80      1839\n",
            "\n"
          ],
          "name": "stdout"
        }
      ]
    },
    {
      "cell_type": "code",
      "metadata": {
        "colab": {
          "base_uri": "https://localhost:8080/"
        },
        "id": "oICCWWBFrDHD",
        "outputId": "9a9af788-c9e9-4388-b493-c7b3a653abc8"
      },
      "source": [
        "metrics.accuracy_score(y_test,predictions)"
      ],
      "execution_count": 24,
      "outputs": [
        {
          "output_type": "execute_result",
          "data": {
            "text/plain": [
              "0.843936922240348"
            ]
          },
          "metadata": {
            "tags": []
          },
          "execution_count": 24
        }
      ]
    },
    {
      "cell_type": "code",
      "metadata": {
        "colab": {
          "base_uri": "https://localhost:8080/"
        },
        "id": "DU4eKkcArkWk",
        "outputId": "ea3e6a3a-6d15-462a-cd21-3781eb0d6ff5"
      },
      "source": [
        "from sklearn.naive_bayes import MultinomialNB #NAIVE BAYES CLASSIFIER\r\n",
        "nb_model = MultinomialNB()\r\n",
        "nb_model.fit(X_train,y_train)\r\n",
        "predictions = nb_model.predict(X_test)\r\n",
        "print(metrics.confusion_matrix(y_test,predictions))"
      ],
      "execution_count": 26,
      "outputs": [
        {
          "output_type": "stream",
          "text": [
            "[[1583   10]\n",
            " [ 246    0]]\n"
          ],
          "name": "stdout"
        }
      ]
    },
    {
      "cell_type": "code",
      "metadata": {
        "colab": {
          "base_uri": "https://localhost:8080/"
        },
        "id": "fNTDyst1sI9D",
        "outputId": "e1143d4a-0216-4b63-8fbe-5c3795bfeaad"
      },
      "source": [
        "print(metrics.classification_report(y_test,predictions))"
      ],
      "execution_count": 27,
      "outputs": [
        {
          "output_type": "stream",
          "text": [
            "              precision    recall  f1-score   support\n",
            "\n",
            "         ham       0.87      0.99      0.93      1593\n",
            "        spam       0.00      0.00      0.00       246\n",
            "\n",
            "    accuracy                           0.86      1839\n",
            "   macro avg       0.43      0.50      0.46      1839\n",
            "weighted avg       0.75      0.86      0.80      1839\n",
            "\n"
          ],
          "name": "stdout"
        }
      ]
    },
    {
      "cell_type": "code",
      "metadata": {
        "colab": {
          "base_uri": "https://localhost:8080/"
        },
        "id": "Hs3jmOj3sYhX",
        "outputId": "8c8968de-4436-4c55-a337-9fe7abc45eaa"
      },
      "source": [
        "from sklearn.svm import SVC\r\n",
        "svc_model = SVC(gamma = 'auto')\r\n",
        "svc_model.fit(X_train,y_train)\r\n",
        "predictions = svc_model.predict(X_test)\r\n",
        "print(metrics.confusion_matrix(y_test,predictions))"
      ],
      "execution_count": 28,
      "outputs": [
        {
          "output_type": "stream",
          "text": [
            "[[1515   78]\n",
            " [ 131  115]]\n"
          ],
          "name": "stdout"
        }
      ]
    },
    {
      "cell_type": "code",
      "metadata": {
        "colab": {
          "base_uri": "https://localhost:8080/"
        },
        "id": "VJc5POE8tJ3A",
        "outputId": "8cb73cbc-b0bb-43f6-f802-28ca6b8aefaf"
      },
      "source": [
        "print(metrics.classification_report(y_test,predictions))"
      ],
      "execution_count": 29,
      "outputs": [
        {
          "output_type": "stream",
          "text": [
            "              precision    recall  f1-score   support\n",
            "\n",
            "         ham       0.92      0.95      0.94      1593\n",
            "        spam       0.60      0.47      0.52       246\n",
            "\n",
            "    accuracy                           0.89      1839\n",
            "   macro avg       0.76      0.71      0.73      1839\n",
            "weighted avg       0.88      0.89      0.88      1839\n",
            "\n"
          ],
          "name": "stdout"
        }
      ]
    },
    {
      "cell_type": "code",
      "metadata": {
        "id": "8iqK5ghztQ0a"
      },
      "source": [
        ""
      ],
      "execution_count": null,
      "outputs": []
    }
  ]
}