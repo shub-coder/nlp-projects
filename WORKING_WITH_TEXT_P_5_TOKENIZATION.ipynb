{
  "nbformat": 4,
  "nbformat_minor": 0,
  "metadata": {
    "colab": {
      "name": "WORKING WITH TEXT P-5: TOKENIZATION.ipynb",
      "provenance": []
    },
    "kernelspec": {
      "name": "python3",
      "display_name": "Python 3"
    }
  },
  "cells": [
    {
      "cell_type": "markdown",
      "metadata": {
        "id": "SO9GwUX6ifUb"
      },
      "source": [
        "##TOKENIZATION\r\n",
        "IT IS THE SPLITTING UP OF A GIVEN LARGE PIECE OF TEXT INTO SMALL WORDS OR TOKENS. HERE EACH WORD IS CONSIDERED AS A TOKEN EVEN A PUNCTUATION MARK IS CONSIDERED AS A TOKEN AS WELL."
      ]
    },
    {
      "cell_type": "code",
      "metadata": {
        "id": "wFX_qO9-i2H8"
      },
      "source": [
        "import spacy\r\n"
      ],
      "execution_count": 1,
      "outputs": []
    },
    {
      "cell_type": "code",
      "metadata": {
        "id": "eepjZr34i7Qf"
      },
      "source": [
        "nlp = spacy.load('en_core_web_sm')"
      ],
      "execution_count": 2,
      "outputs": []
    },
    {
      "cell_type": "code",
      "metadata": {
        "id": "a82jPNLmjo6Q"
      },
      "source": [
        "string =' \"GOD HELPS THOSE WHO HELP THEMSELVES!! This quote should not be overlooked by people in today\\'s world...\" ' "
      ],
      "execution_count": 12,
      "outputs": []
    },
    {
      "cell_type": "code",
      "metadata": {
        "colab": {
          "base_uri": "https://localhost:8080/"
        },
        "id": "t4pasbkJkiTc",
        "outputId": "4700af63-30ef-42ce-aab2-5d8d9e14fbdf"
      },
      "source": [
        "print(string)"
      ],
      "execution_count": 13,
      "outputs": [
        {
          "output_type": "stream",
          "text": [
            " \"GOD HELPS THOSE WHO HELP THEMSELVES!! This quote should not be overlooked by people in today's world...\" \n"
          ],
          "name": "stdout"
        }
      ]
    },
    {
      "cell_type": "code",
      "metadata": {
        "id": "5Vt56GPckkH4"
      },
      "source": [
        "doc = nlp(string)"
      ],
      "execution_count": 14,
      "outputs": []
    },
    {
      "cell_type": "code",
      "metadata": {
        "colab": {
          "base_uri": "https://localhost:8080/"
        },
        "id": "hdgX0VzykuJn",
        "outputId": "1428cb38-99e4-47ee-8256-bbe4d3d6b201"
      },
      "source": [
        "for token in doc: # HERE WE ARE ABLE TO GRAB THE PUNCTUATION MARKS AS WELL. SPACY VERY WELL UNDERSTANDS THE APOSTROHES ALSO AND DOSE'NT SPLIT IT FROM THE WORD\r\n",
        "  print(token.text)"
      ],
      "execution_count": 15,
      "outputs": [
        {
          "output_type": "stream",
          "text": [
            " \n",
            "\"\n",
            "GOD\n",
            "HELPS\n",
            "THOSE\n",
            "WHO\n",
            "HELP\n",
            "THEMSELVES\n",
            "!\n",
            "!\n",
            "This\n",
            "quote\n",
            "should\n",
            "not\n",
            "be\n",
            "overlooked\n",
            "by\n",
            "people\n",
            "in\n",
            "today\n",
            "'s\n",
            "world\n",
            "...\n",
            "\"\n"
          ],
          "name": "stdout"
        }
      ]
    },
    {
      "cell_type": "code",
      "metadata": {
        "id": "iyRZi_40kyCB"
      },
      "source": [
        "doc2 = nlp(u'For any query you can contact thanos-mail, thanos.mail@site.com')"
      ],
      "execution_count": 16,
      "outputs": []
    },
    {
      "cell_type": "code",
      "metadata": {
        "colab": {
          "base_uri": "https://localhost:8080/"
        },
        "id": "F8-iqtBTmKOM",
        "outputId": "0a6ed127-0a7c-4f9c-cc53-eb384371bacf"
      },
      "source": [
        "for t in doc2: #HERE SPACY IS SMART ENOUGH TO UNDERSTAND THE MAIL AND DOES NOT SPLIT UP PUNCTUATION MARKS FROM IT.\r\n",
        "  print(t)"
      ],
      "execution_count": 18,
      "outputs": [
        {
          "output_type": "stream",
          "text": [
            "For\n",
            "any\n",
            "query\n",
            "you\n",
            "can\n",
            "contact\n",
            "thanos\n",
            "-\n",
            "mail\n",
            ",\n",
            "thanos.mail@site.com\n"
          ],
          "name": "stdout"
        }
      ]
    },
    {
      "cell_type": "code",
      "metadata": {
        "colab": {
          "base_uri": "https://localhost:8080/"
        },
        "id": "VvBjt-8gmNty",
        "outputId": "116f3cdd-894f-4fff-9a6e-423e22f12c55"
      },
      "source": [
        "len(doc2)"
      ],
      "execution_count": 19,
      "outputs": [
        {
          "output_type": "execute_result",
          "data": {
            "text/plain": [
              "11"
            ]
          },
          "metadata": {
            "tags": []
          },
          "execution_count": 19
        }
      ]
    },
    {
      "cell_type": "code",
      "metadata": {
        "colab": {
          "base_uri": "https://localhost:8080/"
        },
        "id": "2Trw7nNinHve",
        "outputId": "fbaf2a49-14ea-4008-dab6-50d46aaf258e"
      },
      "source": [
        "len(doc.vocab) #THIS MEANS THAT AT THE TIME OF LOADING THE LANGUAGE LIBRARY WE HAD 506 TOKENS"
      ],
      "execution_count": 22,
      "outputs": [
        {
          "output_type": "execute_result",
          "data": {
            "text/plain": [
              "506"
            ]
          },
          "metadata": {
            "tags": []
          },
          "execution_count": 22
        }
      ]
    },
    {
      "cell_type": "code",
      "metadata": {
        "id": "l5E930i5ns6D"
      },
      "source": [
        "doc3 = nlp(u'Tesla is going to set up it\\'s first factory in India In Bangalore')"
      ],
      "execution_count": 23,
      "outputs": []
    },
    {
      "cell_type": "code",
      "metadata": {
        "colab": {
          "base_uri": "https://localhost:8080/"
        },
        "id": "sb3nqeRxqV7y",
        "outputId": "6abdf390-0db4-4f1f-87aa-4e1f2386002d"
      },
      "source": [
        "for entity in doc3.ents:\r\n",
        "  print(entity)\r\n",
        "  print(entity.label_)\r\n",
        "  print(str(spacy.explain(entity.label_)))\r\n",
        "  print('\\n')"
      ],
      "execution_count": 29,
      "outputs": [
        {
          "output_type": "stream",
          "text": [
            "Tesla\n",
            "ORG\n",
            "Companies, agencies, institutions, etc.\n",
            "\n",
            "\n",
            "first\n",
            "ORDINAL\n",
            "\"first\", \"second\", etc.\n",
            "\n",
            "\n",
            "India\n",
            "GPE\n",
            "Countries, cities, states\n",
            "\n",
            "\n",
            "Bangalore\n",
            "GPE\n",
            "Countries, cities, states\n",
            "\n",
            "\n"
          ],
          "name": "stdout"
        }
      ]
    },
    {
      "cell_type": "markdown",
      "metadata": {
        "id": "zSYN5-Mis8UC"
      },
      "source": [
        "#NOUN CHUNKS\r\n",
        "THESE ARE PHRASES THAT HAVE NOUN AS THEIR HEAD. IN SIMPLER WORDS IT IS A NOUN PLUS WORDS THAT DESCRIBE THE NOUN "
      ]
    },
    {
      "cell_type": "code",
      "metadata": {
        "id": "_1UaXfc3tQKK"
      },
      "source": [
        "doc4 = nlp(u'Autonomous cars shift insurance liability towards manufacturers.')"
      ],
      "execution_count": 33,
      "outputs": []
    },
    {
      "cell_type": "code",
      "metadata": {
        "colab": {
          "base_uri": "https://localhost:8080/"
        },
        "id": "3ALUJPTgtesG",
        "outputId": "f9732c40-bae0-4d22-e835-766bf0d82d8d"
      },
      "source": [
        "for chunk in doc4.noun_chunks:\r\n",
        "  print(chunk)"
      ],
      "execution_count": 34,
      "outputs": [
        {
          "output_type": "stream",
          "text": [
            "Autonomous cars\n",
            "insurance liability\n",
            "manufacturers\n"
          ],
          "name": "stdout"
        }
      ]
    },
    {
      "cell_type": "markdown",
      "metadata": {
        "id": "jv4xli62vWXs"
      },
      "source": [
        "##TOKENS VISUALIZATION\r\n",
        "DISPLACY LIBRARY IS THE BUILT IN VISUALIZER.IT CAN RUN INSIDE THE JUPYTER NOTEBOOK OR IT CAN CREATE A LITTLE SERVER AND GIVE THE RESULTS DIRECTLY FROM THE BROWSER."
      ]
    },
    {
      "cell_type": "code",
      "metadata": {
        "id": "W6WRez9LwDDV"
      },
      "source": [
        "from spacy import displacy"
      ],
      "execution_count": 35,
      "outputs": []
    },
    {
      "cell_type": "code",
      "metadata": {
        "id": "6DE6u7jqwT4i"
      },
      "source": [
        "doc5 = nlp(u'Tesla is going to invest RS. 50000000 to set up a factory in India')"
      ],
      "execution_count": 36,
      "outputs": []
    },
    {
      "cell_type": "code",
      "metadata": {
        "colab": {
          "base_uri": "https://localhost:8080/"
        },
        "id": "JNzQL62Fx03D",
        "outputId": "16c576ad-f145-4f2e-f11b-d1e5e5338c51"
      },
      "source": [
        "displacy.serve(doc, style='dep', options = {'distance':110})"
      ],
      "execution_count": null,
      "outputs": [
        {
          "output_type": "stream",
          "text": [
            "\n",
            "Using the 'dep' visualizer\n",
            "Serving on http://0.0.0.0:5000 ...\n",
            "\n"
          ],
          "name": "stdout"
        }
      ]
    },
    {
      "cell_type": "code",
      "metadata": {
        "id": "VTYLNrfqyYkp"
      },
      "source": [
        ""
      ],
      "execution_count": null,
      "outputs": []
    }
  ]
}