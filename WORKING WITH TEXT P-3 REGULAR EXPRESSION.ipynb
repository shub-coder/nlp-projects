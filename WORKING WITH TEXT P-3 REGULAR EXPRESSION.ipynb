{
 "cells": [
  {
   "cell_type": "code",
   "execution_count": 80,
   "id": "electoral-roman",
   "metadata": {},
   "outputs": [],
   "source": [
    "import re   #REGULAR EXPRESSION LIBRARY"
   ]
  },
  {
   "cell_type": "code",
   "execution_count": 81,
   "id": "intellectual-premises",
   "metadata": {},
   "outputs": [],
   "source": [
    "text = 'This is new India!'"
   ]
  },
  {
   "cell_type": "code",
   "execution_count": 82,
   "id": "visible-wallace",
   "metadata": {},
   "outputs": [
    {
     "data": {
      "text/plain": [
       "True"
      ]
     },
     "execution_count": 82,
     "metadata": {},
     "output_type": "execute_result"
    }
   ],
   "source": [
    "'India' in text"
   ]
  },
  {
   "cell_type": "code",
   "execution_count": 83,
   "id": "overhead-maple",
   "metadata": {},
   "outputs": [],
   "source": [
    "pattern = 'India'"
   ]
  },
  {
   "cell_type": "code",
   "execution_count": 84,
   "id": "lonely-cancellation",
   "metadata": {},
   "outputs": [],
   "source": [
    "match=re.search(pattern,text) #SEARCH METHOD MATCHES PATTERN FROM THE GIVEN TEXT "
   ]
  },
  {
   "cell_type": "code",
   "execution_count": 85,
   "id": "acute-villa",
   "metadata": {},
   "outputs": [
    {
     "data": {
      "text/plain": [
       "(12, 17)"
      ]
     },
     "execution_count": 85,
     "metadata": {},
     "output_type": "execute_result"
    }
   ],
   "source": [
    "match.span() #SPAN METHOD FINDS THE STARTING AND END INDEX OF THE MATCHING PATTERN"
   ]
  },
  {
   "cell_type": "code",
   "execution_count": 86,
   "id": "atmospheric-exemption",
   "metadata": {},
   "outputs": [
    {
     "data": {
      "text/plain": [
       "12"
      ]
     },
     "execution_count": 86,
     "metadata": {},
     "output_type": "execute_result"
    }
   ],
   "source": [
    "match.start()"
   ]
  },
  {
   "cell_type": "code",
   "execution_count": 87,
   "id": "given-height",
   "metadata": {},
   "outputs": [
    {
     "data": {
      "text/plain": [
       "17"
      ]
     },
     "execution_count": 87,
     "metadata": {},
     "output_type": "execute_result"
    }
   ],
   "source": [
    "match.end()"
   ]
  },
  {
   "cell_type": "code",
   "execution_count": 88,
   "id": "controlling-newton",
   "metadata": {},
   "outputs": [],
   "source": [
    "text1='Good morning to one and all present here. I welcome all the Data scientists to this summit on Data Science. '"
   ]
  },
  {
   "cell_type": "code",
   "execution_count": 89,
   "id": "ceramic-humidity",
   "metadata": {},
   "outputs": [],
   "source": [
    "pattern = 'Data'"
   ]
  },
  {
   "cell_type": "code",
   "execution_count": 90,
   "id": "accepting-making",
   "metadata": {},
   "outputs": [],
   "source": [
    "match1=re.search(pattern,text1)"
   ]
  },
  {
   "cell_type": "code",
   "execution_count": 91,
   "id": "lonely-mentor",
   "metadata": {},
   "outputs": [
    {
     "data": {
      "text/plain": [
       "(60, 64)"
      ]
     },
     "execution_count": 91,
     "metadata": {},
     "output_type": "execute_result"
    }
   ],
   "source": [
    "match1.span()"
   ]
  },
  {
   "cell_type": "code",
   "execution_count": 92,
   "id": "traditional-zoning",
   "metadata": {},
   "outputs": [],
   "source": [
    "match2 = re.findall(\"Data\", text1)"
   ]
  },
  {
   "cell_type": "code",
   "execution_count": 93,
   "id": "located-short",
   "metadata": {},
   "outputs": [
    {
     "data": {
      "text/plain": [
       "['Data', 'Data']"
      ]
     },
     "execution_count": 93,
     "metadata": {},
     "output_type": "execute_result"
    }
   ],
   "source": [
    "match2"
   ]
  },
  {
   "cell_type": "code",
   "execution_count": 94,
   "id": "worthy-silicon",
   "metadata": {},
   "outputs": [
    {
     "name": "stdout",
     "output_type": "stream",
     "text": [
      "(60, 64)\n",
      "(94, 98)\n"
     ]
    }
   ],
   "source": [
    "for matches in re.finditer(\"Data\",text1): #IF WE HAVE MULTIPLE SIMILAR PATTERNS WE CAN ITERATE TO FIND OUT THE STARTAND END INDEX OF ALL THE PATTERNS\n",
    "    print(matches.span())"
   ]
  },
  {
   "cell_type": "raw",
   "id": "accredited-blues",
   "metadata": {},
   "source": [
    "IDENTIFIERS FOR CHARACTER PATTERN"
   ]
  },
  {
   "cell_type": "code",
   "execution_count": 95,
   "id": "higher-patent",
   "metadata": {},
   "outputs": [],
   "source": [
    "text3='You can contact me on 888-999-5525'"
   ]
  },
  {
   "cell_type": "code",
   "execution_count": 96,
   "id": "excellent-surprise",
   "metadata": {},
   "outputs": [],
   "source": [
    "pattern = r'\\d\\d\\d-\\d\\d\\d-\\d\\d\\d\\d'"
   ]
  },
  {
   "cell_type": "code",
   "execution_count": 97,
   "id": "diverse-amendment",
   "metadata": {},
   "outputs": [],
   "source": [
    "phone_number=re.search(pattern,text3)"
   ]
  },
  {
   "cell_type": "code",
   "execution_count": 98,
   "id": "continent-receiver",
   "metadata": {},
   "outputs": [
    {
     "data": {
      "text/plain": [
       "<re.Match object; span=(22, 34), match='888-999-5525'>"
      ]
     },
     "execution_count": 98,
     "metadata": {},
     "output_type": "execute_result"
    }
   ],
   "source": [
    "phone_number"
   ]
  },
  {
   "cell_type": "code",
   "execution_count": 99,
   "id": "guided-secretary",
   "metadata": {},
   "outputs": [
    {
     "data": {
      "text/plain": [
       "(22, 34)"
      ]
     },
     "execution_count": 99,
     "metadata": {},
     "output_type": "execute_result"
    }
   ],
   "source": [
    "phone_number.span()"
   ]
  },
  {
   "cell_type": "code",
   "execution_count": 100,
   "id": "ecological-nudist",
   "metadata": {},
   "outputs": [
    {
     "data": {
      "text/plain": [
       "'888-999-5525'"
      ]
     },
     "execution_count": 100,
     "metadata": {},
     "output_type": "execute_result"
    }
   ],
   "source": [
    "phone_number.group()"
   ]
  },
  {
   "cell_type": "code",
   "execution_count": 101,
   "id": "downtown-sleeping",
   "metadata": {},
   "outputs": [],
   "source": [
    "pattern = r'\\d{3}-\\d{3}-\\d{4}'"
   ]
  },
  {
   "cell_type": "code",
   "execution_count": 102,
   "id": "handmade-watershed",
   "metadata": {},
   "outputs": [],
   "source": [
    "phone=re.search(pattern,text3)"
   ]
  },
  {
   "cell_type": "code",
   "execution_count": 103,
   "id": "compatible-feeling",
   "metadata": {},
   "outputs": [
    {
     "data": {
      "text/plain": [
       "(22, 34)"
      ]
     },
     "execution_count": 103,
     "metadata": {},
     "output_type": "execute_result"
    }
   ],
   "source": [
    "phone.span()"
   ]
  },
  {
   "cell_type": "code",
   "execution_count": 104,
   "id": "secondary-onion",
   "metadata": {},
   "outputs": [],
   "source": [
    "pattern=re.compile(r'(\\d{3})-(\\d{3})-(\\d{4})')"
   ]
  },
  {
   "cell_type": "code",
   "execution_count": 105,
   "id": "distant-browser",
   "metadata": {},
   "outputs": [],
   "source": [
    "phone=re.search(pattern,text3)"
   ]
  },
  {
   "cell_type": "code",
   "execution_count": 59,
   "id": "grave-soccer",
   "metadata": {},
   "outputs": [
    {
     "data": {
      "text/plain": [
       "<re.Match object; span=(22, 34), match='888-999-5525'>"
      ]
     },
     "execution_count": 59,
     "metadata": {},
     "output_type": "execute_result"
    }
   ],
   "source": [
    "phone"
   ]
  },
  {
   "cell_type": "code",
   "execution_count": 106,
   "id": "public-installation",
   "metadata": {},
   "outputs": [
    {
     "data": {
      "text/plain": [
       "'888-999-5525'"
      ]
     },
     "execution_count": 106,
     "metadata": {},
     "output_type": "execute_result"
    }
   ],
   "source": [
    "phone.group() #GROUP METHOD GIVES THE ACTUAL PATTERN FROM THE TEXT"
   ]
  },
  {
   "cell_type": "code",
   "execution_count": 107,
   "id": "worthy-factor",
   "metadata": {},
   "outputs": [
    {
     "data": {
      "text/plain": [
       "'888'"
      ]
     },
     "execution_count": 107,
     "metadata": {},
     "output_type": "execute_result"
    }
   ],
   "source": [
    "phone.group(1)"
   ]
  },
  {
   "cell_type": "markdown",
   "id": "developmental-configuration",
   "metadata": {},
   "source": [
    "OR OPERATOR"
   ]
  },
  {
   "cell_type": "code",
   "execution_count": 108,
   "id": "accessory-nightmare",
   "metadata": {},
   "outputs": [
    {
     "data": {
      "text/plain": [
       "['Hello', 'Hi']"
      ]
     },
     "execution_count": 108,
     "metadata": {},
     "output_type": "execute_result"
    }
   ],
   "source": [
    "re.findall(\"Hello|Hi\",\"You can say Hello or Hi both can be used\") #FINDALL METHOD CAN BE USED TO FIND OUT MULTIPLE PATTERNS"
   ]
  },
  {
   "cell_type": "code",
   "execution_count": 109,
   "id": "informed-fundamentals",
   "metadata": {},
   "outputs": [
    {
     "data": {
      "text/plain": [
       "<re.Match object; span=(12, 17), match='Hello'>"
      ]
     },
     "execution_count": 109,
     "metadata": {},
     "output_type": "execute_result"
    }
   ],
   "source": [
    "re.search(\"Hello|Hi\",\"You can say Hello or Hi both can be used\")"
   ]
  },
  {
   "cell_type": "code",
   "execution_count": 110,
   "id": "resident-romania",
   "metadata": {},
   "outputs": [
    {
     "data": {
      "text/plain": [
       "['cat', 'sat', 'hat']"
      ]
     },
     "execution_count": 110,
     "metadata": {},
     "output_type": "execute_result"
    }
   ],
   "source": [
    "re.findall(r\".at\",\"The cat sat on the hat\")"
   ]
  },
  {
   "cell_type": "markdown",
   "id": "biblical-soldier",
   "metadata": {},
   "source": [
    "WILDCARD OPERATOR"
   ]
  },
  {
   "cell_type": "code",
   "execution_count": 112,
   "id": "sought-david",
   "metadata": {},
   "outputs": [
    {
     "data": {
      "text/plain": [
       "<re.Match object; span=(4, 7), match='cat'>"
      ]
     },
     "execution_count": 112,
     "metadata": {},
     "output_type": "execute_result"
    }
   ],
   "source": [
    "re.search(r\".at\",\"The cat sat on the hat\")"
   ]
  },
  {
   "cell_type": "code",
   "execution_count": 113,
   "id": "consecutive-soldier",
   "metadata": {},
   "outputs": [
    {
     "data": {
      "text/plain": [
       "['2']"
      ]
     },
     "execution_count": 113,
     "metadata": {},
     "output_type": "execute_result"
    }
   ],
   "source": [
    "re.findall(r'\\d$','This ends with a number 2')"
   ]
  },
  {
   "cell_type": "code",
   "execution_count": 114,
   "id": "handmade-aspect",
   "metadata": {},
   "outputs": [
    {
     "data": {
      "text/plain": [
       "['1']"
      ]
     },
     "execution_count": 114,
     "metadata": {},
     "output_type": "execute_result"
    }
   ],
   "source": [
    "re.findall(r'^\\d','1 is the loneliest number.')"
   ]
  },
  {
   "cell_type": "markdown",
   "id": "handed-transcription",
   "metadata": {},
   "source": [
    "EXCLUSION OPERATOR"
   ]
  },
  {
   "cell_type": "code",
   "execution_count": 115,
   "id": "quiet-humanity",
   "metadata": {},
   "outputs": [],
   "source": [
    "phrase = \"there are 3 numbers 34 inside 5 this sentence.\""
   ]
  },
  {
   "cell_type": "code",
   "execution_count": 116,
   "id": "cordless-original",
   "metadata": {},
   "outputs": [
    {
     "data": {
      "text/plain": [
       "['t',\n",
       " 'h',\n",
       " 'e',\n",
       " 'r',\n",
       " 'e',\n",
       " ' ',\n",
       " 'a',\n",
       " 'r',\n",
       " 'e',\n",
       " ' ',\n",
       " ' ',\n",
       " 'n',\n",
       " 'u',\n",
       " 'm',\n",
       " 'b',\n",
       " 'e',\n",
       " 'r',\n",
       " 's',\n",
       " ' ',\n",
       " ' ',\n",
       " 'i',\n",
       " 'n',\n",
       " 's',\n",
       " 'i',\n",
       " 'd',\n",
       " 'e',\n",
       " ' ',\n",
       " ' ',\n",
       " 't',\n",
       " 'h',\n",
       " 'i',\n",
       " 's',\n",
       " ' ',\n",
       " 's',\n",
       " 'e',\n",
       " 'n',\n",
       " 't',\n",
       " 'e',\n",
       " 'n',\n",
       " 'c',\n",
       " 'e',\n",
       " '.']"
      ]
     },
     "execution_count": 116,
     "metadata": {},
     "output_type": "execute_result"
    }
   ],
   "source": [
    "re.findall(r'[^\\d]',phrase)"
   ]
  },
  {
   "cell_type": "code",
   "execution_count": 117,
   "id": "canadian-intellectual",
   "metadata": {},
   "outputs": [
    {
     "data": {
      "text/plain": [
       "['there are ', ' numbers ', ' inside ', ' this sentence.']"
      ]
     },
     "execution_count": 117,
     "metadata": {},
     "output_type": "execute_result"
    }
   ],
   "source": [
    "re.findall(r'[^\\d]+',phrase)"
   ]
  },
  {
   "cell_type": "code",
   "execution_count": 73,
   "id": "classified-circuit",
   "metadata": {},
   "outputs": [],
   "source": [
    "clean = ' '.join(re.findall('[^!.? ]+',phrase))"
   ]
  },
  {
   "cell_type": "code",
   "execution_count": 74,
   "id": "armed-conclusion",
   "metadata": {},
   "outputs": [
    {
     "data": {
      "text/plain": [
       "'there are 3 numbers 34 inside 5 this sentence'"
      ]
     },
     "execution_count": 74,
     "metadata": {},
     "output_type": "execute_result"
    }
   ],
   "source": [
    "clean"
   ]
  },
  {
   "cell_type": "code",
   "execution_count": 75,
   "id": "respiratory-extent",
   "metadata": {},
   "outputs": [],
   "source": [
    "text = 'Only find the hypen-words in this sentence. But you do not know how long-ish they are'"
   ]
  },
  {
   "cell_type": "code",
   "execution_count": 76,
   "id": "dutch-utility",
   "metadata": {},
   "outputs": [
    {
     "data": {
      "text/plain": [
       "['hypen-words', 'long-ish']"
      ]
     },
     "execution_count": 76,
     "metadata": {},
     "output_type": "execute_result"
    }
   ],
   "source": [
    "re.findall(r'[\\w]+-[\\w]+',text)"
   ]
  },
  {
   "cell_type": "code",
   "execution_count": 77,
   "id": "sharing-services",
   "metadata": {},
   "outputs": [],
   "source": [
    "# Find words that start with cat and end with one of these options: 'fish','nap', or 'claw'\n",
    "text = 'Hello, would you like some catfish?'\n",
    "texttwo = \"Hello, would you like to take a catnap?\"\n",
    "textthree = \"Hello, have you seen this caterpillar?\""
   ]
  },
  {
   "cell_type": "code",
   "execution_count": 78,
   "id": "completed-musical",
   "metadata": {},
   "outputs": [
    {
     "data": {
      "text/plain": [
       "<re.Match object; span=(27, 34), match='catfish'>"
      ]
     },
     "execution_count": 78,
     "metadata": {},
     "output_type": "execute_result"
    }
   ],
   "source": [
    "re.search(r'cat(fish|nap|claw)',text)"
   ]
  },
  {
   "cell_type": "code",
   "execution_count": 79,
   "id": "august-farming",
   "metadata": {},
   "outputs": [
    {
     "data": {
      "text/plain": [
       "<re.Match object; span=(32, 38), match='catnap'>"
      ]
     },
     "execution_count": 79,
     "metadata": {},
     "output_type": "execute_result"
    }
   ],
   "source": [
    "re.search(r'cat(fish|nap|claw)',texttwo)"
   ]
  },
  {
   "cell_type": "code",
   "execution_count": null,
   "id": "northern-effort",
   "metadata": {},
   "outputs": [],
   "source": []
  }
 ],
 "metadata": {
  "kernelspec": {
   "display_name": "Python 3",
   "language": "python",
   "name": "python3"
  },
  "language_info": {
   "codemirror_mode": {
    "name": "ipython",
    "version": 3
   },
   "file_extension": ".py",
   "mimetype": "text/x-python",
   "name": "python",
   "nbconvert_exporter": "python",
   "pygments_lexer": "ipython3",
   "version": "3.7.10"
  }
 },
 "nbformat": 4,
 "nbformat_minor": 5
}
