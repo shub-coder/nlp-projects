{
  "nbformat": 4,
  "nbformat_minor": 0,
  "metadata": {
    "colab": {
      "name": "NLP WORKING WITH TEXT P-4: SPACY LIBRARY.ipynb",
      "provenance": []
    },
    "kernelspec": {
      "name": "python3",
      "display_name": "Python 3"
    }
  },
  "cells": [
    {
      "cell_type": "code",
      "metadata": {
        "id": "CrKnZEyG-cEo"
      },
      "source": [
        "import spacy #LOADING OF SPACY LIBRARY"
      ],
      "execution_count": 1,
      "outputs": []
    },
    {
      "cell_type": "code",
      "metadata": {
        "id": "iZdEJZP0-fso"
      },
      "source": [
        "nlp = spacy.load('en_core_web_sm')# LOAD CORE ENGLISH LANGUAGE BY CREATING NLP OBJECT AND USING LOAD()"
      ],
      "execution_count": 2,
      "outputs": []
    },
    {
      "cell_type": "code",
      "metadata": {
        "id": "1fM0Pwbj-ufZ"
      },
      "source": [
        "doc = nlp(u'Tesla is looking for gaining of about $6 million by investing in spaceX mission')#CREATE A DOC OBJECT AND LOAD THE TEXT. 'U' STANDS FOR UNICODE"
      ],
      "execution_count": 3,
      "outputs": []
    },
    {
      "cell_type": "code",
      "metadata": {
        "colab": {
          "base_uri": "https://localhost:8080/"
        },
        "id": "HOs1EeBO_f0l",
        "outputId": "4223d0e7-812c-4c90-b3c1-902a50387916"
      },
      "source": [
        "for token in doc:                        #IN NLP TEXT IS BROKEN DOWN INTO TOKENS. POS GIVES THE TOKENS AS NOUN, VERB ETC.. POS STANDS FOR PARTS OF SPEECH TAGGING\r\n",
        "  print(token, token.pos_, token.dep_)"
      ],
      "execution_count": 4,
      "outputs": [
        {
          "output_type": "stream",
          "text": [
            "Tesla PROPN nsubj\n",
            "is AUX aux\n",
            "looking VERB ROOT\n",
            "for ADP prep\n",
            "gaining VERB pobj\n",
            "of ADP prep\n",
            "about ADV quantmod\n",
            "$ SYM quantmod\n",
            "6 NUM compound\n",
            "million NUM pobj\n",
            "by ADP prep\n",
            "investing VERB pcomp\n",
            "in ADP prep\n",
            "spaceX PROPN compound\n",
            "mission NOUN pobj\n"
          ],
          "name": "stdout"
        }
      ]
    },
    {
      "cell_type": "code",
      "metadata": {
        "colab": {
          "base_uri": "https://localhost:8080/"
        },
        "id": "MdEcJCqE_69c",
        "outputId": "fd1db867-2841-416a-f641-1a7a608c1ee1"
      },
      "source": [
        "nlp.pipeline# IT BREAKS DOWN TEXT AND THEN PERFORMS SERIES OF OPERATIONS OF TAGGING, PARSING AND DESCRIBING THE DATA"
      ],
      "execution_count": 5,
      "outputs": [
        {
          "output_type": "execute_result",
          "data": {
            "text/plain": [
              "[('tagger', <spacy.pipeline.pipes.Tagger at 0x7fa0e2ae96d0>),\n",
              " ('parser', <spacy.pipeline.pipes.DependencyParser at 0x7fa0e2cac9f0>),\n",
              " ('ner', <spacy.pipeline.pipes.EntityRecognizer at 0x7fa0e2cacad0>)]"
            ]
          },
          "metadata": {
            "tags": []
          },
          "execution_count": 5
        }
      ]
    },
    {
      "cell_type": "code",
      "metadata": {
        "colab": {
          "base_uri": "https://localhost:8080/"
        },
        "id": "1LOyjrYzExKr",
        "outputId": "b4717f06-a49e-45ec-c0b8-07ab56486b17"
      },
      "source": [
        "nlp.pipe_names"
      ],
      "execution_count": 6,
      "outputs": [
        {
          "output_type": "execute_result",
          "data": {
            "text/plain": [
              "['tagger', 'parser', 'ner']"
            ]
          },
          "metadata": {
            "tags": []
          },
          "execution_count": 6
        }
      ]
    },
    {
      "cell_type": "code",
      "metadata": {
        "id": "ehKBuRorE4cJ"
      },
      "source": [
        ""
      ],
      "execution_count": 6,
      "outputs": []
    },
    {
      "cell_type": "markdown",
      "metadata": {
        "id": "xtql7LfnGn2H"
      },
      "source": [
        "##TOKENIZATION"
      ]
    },
    {
      "cell_type": "code",
      "metadata": {
        "id": "j58Ka6zeGquq"
      },
      "source": [
        "doc2 = nlp(u\"My college isn't opening this month      amid rising covid cases in the country!!\")"
      ],
      "execution_count": 8,
      "outputs": []
    },
    {
      "cell_type": "markdown",
      "metadata": {
        "id": "AMdOSu7JY4hB"
      },
      "source": [
        "##PARTS OF SPEECH TAGGING AND SYNTACTIC DEPENDENCIES.\r\n"
      ]
    },
    {
      "cell_type": "code",
      "metadata": {
        "colab": {
          "base_uri": "https://localhost:8080/"
        },
        "id": "UfA92Ip0G7Uj",
        "outputId": "430a2ab8-c4d3-474f-c6b1-bd13507ed5b9"
      },
      "source": [
        "for token in doc2:            #THE EXTENDED SPACE IS ALSO CONSIDERED AS A TOKEN\r\n",
        "  print(token,token.pos_,token.dep_, token.is_alpha)"
      ],
      "execution_count": 18,
      "outputs": [
        {
          "output_type": "stream",
          "text": [
            "My DET poss True\n",
            "college NOUN nsubj True\n",
            "is AUX aux True\n",
            "n't PART neg False\n",
            "opening VERB ROOT True\n",
            "this DET det True\n",
            "month NOUN npadvmod True\n",
            "      SPACE  False\n",
            "amid ADP prep True\n",
            "rising VERB amod True\n",
            "covid ADJ amod True\n",
            "cases NOUN pobj True\n",
            "in ADP prep True\n",
            "the DET det True\n",
            "country NOUN pobj True\n",
            "! PUNCT punct False\n",
            "! PUNCT punct False\n"
          ],
          "name": "stdout"
        }
      ]
    },
    {
      "cell_type": "code",
      "metadata": {
        "colab": {
          "base_uri": "https://localhost:8080/"
        },
        "id": "GM4tiggqRxV4",
        "outputId": "ae8bc11c-500b-4863-a43e-dc9d64f83bee"
      },
      "source": [
        "doc2[0]"
      ],
      "execution_count": 12,
      "outputs": [
        {
          "output_type": "execute_result",
          "data": {
            "text/plain": [
              "My"
            ]
          },
          "metadata": {
            "tags": []
          },
          "execution_count": 12
        }
      ]
    },
    {
      "cell_type": "code",
      "metadata": {
        "colab": {
          "base_uri": "https://localhost:8080/"
        },
        "id": "j0oRRjdaW8zu",
        "outputId": "b89ef664-ca39-4101-e2ca-c6d86524f26c"
      },
      "source": [
        "doc2.has_extension(\"POS\")"
      ],
      "execution_count": 22,
      "outputs": [
        {
          "output_type": "execute_result",
          "data": {
            "text/plain": [
              "False"
            ]
          },
          "metadata": {
            "tags": []
          },
          "execution_count": 22
        }
      ]
    },
    {
      "cell_type": "code",
      "metadata": {
        "colab": {
          "base_uri": "https://localhost:8080/"
        },
        "id": "NhI7r8eWc21O",
        "outputId": "b697eced-e030-4b07-8858-951447afc1ee"
      },
      "source": [
        "doc[2].is_alpha"
      ],
      "execution_count": 28,
      "outputs": [
        {
          "output_type": "execute_result",
          "data": {
            "text/plain": [
              "True"
            ]
          },
          "metadata": {
            "tags": []
          },
          "execution_count": 28
        }
      ]
    },
    {
      "cell_type": "markdown",
      "metadata": {
        "id": "OD9MWmkzeNTN"
      },
      "source": [
        "##spanning\r\n",
        "\r\n",
        "Large Doc objects can be hard to work with at times. A span is a slice of Doc object"
      ]
    },
    {
      "cell_type": "code",
      "metadata": {
        "id": "9lPQ3Zy9dPAJ"
      },
      "source": [
        "doc3 = nlp(u'Although commmonly attributed to John Lennon from his song \"Beautiful Boy\", \\\r\n",
        "the phrase \"Life is what happens to us while we are making other plans\" was written by \\\r\n",
        "cartoonist Allen Saunders and published in Reader\\'s Digest in 1957, when Lennon was 17.')"
      ],
      "execution_count": 32,
      "outputs": []
    },
    {
      "cell_type": "code",
      "metadata": {
        "colab": {
          "base_uri": "https://localhost:8080/"
        },
        "id": "oLCfLiKwdYLB",
        "outputId": "5326fa57-b38d-496b-a493-b4a1c24606f6"
      },
      "source": [
        "life_quote = doc3[16:30]\r\n",
        "print(life_quote)"
      ],
      "execution_count": 33,
      "outputs": [
        {
          "output_type": "stream",
          "text": [
            "\"Life is what happens to us while we are making other plans\"\n"
          ],
          "name": "stdout"
        }
      ]
    },
    {
      "cell_type": "code",
      "metadata": {
        "colab": {
          "base_uri": "https://localhost:8080/"
        },
        "id": "gv9bvuWydckx",
        "outputId": "1e92818f-31fe-48e3-fdc7-0af6446df2a5"
      },
      "source": [
        "type(life_quote)"
      ],
      "execution_count": 34,
      "outputs": [
        {
          "output_type": "execute_result",
          "data": {
            "text/plain": [
              "spacy.tokens.span.Span"
            ]
          },
          "metadata": {
            "tags": []
          },
          "execution_count": 34
        }
      ]
    },
    {
      "cell_type": "code",
      "metadata": {
        "id": "ts3GhjnNdfU3"
      },
      "source": [
        ""
      ],
      "execution_count": null,
      "outputs": []
    },
    {
      "cell_type": "markdown",
      "metadata": {
        "id": "2yPrh6dneZdy"
      },
      "source": [
        "##SENTENCE TOKENIZATION\r\n",
        "Certain tokens inside a Doc object may also receive a \"start of sentence\" tag. While this doesn't immediately build a list of sentences, these tags enable the generation of sentence segments through Doc.sents"
      ]
    },
    {
      "cell_type": "code",
      "metadata": {
        "id": "o1qBwl68ejso"
      },
      "source": [
        "doc4 = nlp(u'This is the first sentence. This is another sentence. This is the last sentence.')"
      ],
      "execution_count": 35,
      "outputs": []
    },
    {
      "cell_type": "code",
      "metadata": {
        "colab": {
          "base_uri": "https://localhost:8080/"
        },
        "id": "s8r2KPEre00w",
        "outputId": "ca81dd01-7211-426e-bbf6-9ea2de80a95d"
      },
      "source": [
        "for sentence in doc4.sents:   #USING DOC.SENTS SPACY AUTOMATICALLY RECOGNIZES THAT AFTER FULL STOP AND A SPACE NEW SENTENCE STARTS\r\n",
        "    print(sentence)"
      ],
      "execution_count": 42,
      "outputs": [
        {
          "output_type": "stream",
          "text": [
            "This is the first sentence.\n",
            "This is another sentence.\n",
            "This is the last sentence.\n"
          ],
          "name": "stdout"
        }
      ]
    },
    {
      "cell_type": "code",
      "metadata": {
        "colab": {
          "base_uri": "https://localhost:8080/"
        },
        "id": "T6RV-Z9Oe5aY",
        "outputId": "25ce96c5-1f2f-4ec5-f342-eb341a5a2951"
      },
      "source": [
        "doc4[6].is_sent_start #CHECKING FOR START AND END OF THE TOKEN"
      ],
      "execution_count": 43,
      "outputs": [
        {
          "output_type": "execute_result",
          "data": {
            "text/plain": [
              "True"
            ]
          },
          "metadata": {
            "tags": []
          },
          "execution_count": 43
        }
      ]
    },
    {
      "cell_type": "code",
      "metadata": {
        "id": "mGxpRCw6e8gn"
      },
      "source": [
        "doc4[7].is_sent_start"
      ],
      "execution_count": 41,
      "outputs": []
    },
    {
      "cell_type": "code",
      "metadata": {
        "id": "bMKtMx0jfDKt"
      },
      "source": [
        ""
      ],
      "execution_count": null,
      "outputs": []
    }
  ]
}