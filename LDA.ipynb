{
  "nbformat": 4,
  "nbformat_minor": 0,
  "metadata": {
    "colab": {
      "name": "LDA.ipynb",
      "provenance": []
    },
    "kernelspec": {
      "name": "python3",
      "display_name": "Python 3"
    },
    "language_info": {
      "name": "python"
    }
  },
  "cells": [
    {
      "cell_type": "code",
      "metadata": {
        "id": "DF50w3jZuyko"
      },
      "source": [
        "import numpy as np\n",
        "import pandas as pd"
      ],
      "execution_count": 1,
      "outputs": []
    },
    {
      "cell_type": "code",
      "metadata": {
        "id": "wWmYg2LD9Izo"
      },
      "source": [
        "npr =  pd.read_csv('/content/npr.csv')"
      ],
      "execution_count": 2,
      "outputs": []
    },
    {
      "cell_type": "code",
      "metadata": {
        "colab": {
          "base_uri": "https://localhost:8080/",
          "height": 195
        },
        "id": "WGLqOiV2ophZ",
        "outputId": "6d8e7b73-1ff9-4e92-82f2-601859e69cbe"
      },
      "source": [
        "npr.head()"
      ],
      "execution_count": 3,
      "outputs": [
        {
          "output_type": "execute_result",
          "data": {
            "text/html": [
              "<div>\n",
              "<style scoped>\n",
              "    .dataframe tbody tr th:only-of-type {\n",
              "        vertical-align: middle;\n",
              "    }\n",
              "\n",
              "    .dataframe tbody tr th {\n",
              "        vertical-align: top;\n",
              "    }\n",
              "\n",
              "    .dataframe thead th {\n",
              "        text-align: right;\n",
              "    }\n",
              "</style>\n",
              "<table border=\"1\" class=\"dataframe\">\n",
              "  <thead>\n",
              "    <tr style=\"text-align: right;\">\n",
              "      <th></th>\n",
              "      <th>Article</th>\n",
              "    </tr>\n",
              "  </thead>\n",
              "  <tbody>\n",
              "    <tr>\n",
              "      <th>0</th>\n",
              "      <td>In the Washington of 2016, even when the polic...</td>\n",
              "    </tr>\n",
              "    <tr>\n",
              "      <th>1</th>\n",
              "      <td>Donald Trump has used Twitter  —   his prefe...</td>\n",
              "    </tr>\n",
              "    <tr>\n",
              "      <th>2</th>\n",
              "      <td>Donald Trump is unabashedly praising Russian...</td>\n",
              "    </tr>\n",
              "    <tr>\n",
              "      <th>3</th>\n",
              "      <td>Updated at 2:50 p. m. ET, Russian President Vl...</td>\n",
              "    </tr>\n",
              "    <tr>\n",
              "      <th>4</th>\n",
              "      <td>From photography, illustration and video, to d...</td>\n",
              "    </tr>\n",
              "  </tbody>\n",
              "</table>\n",
              "</div>"
            ],
            "text/plain": [
              "                                             Article\n",
              "0  In the Washington of 2016, even when the polic...\n",
              "1    Donald Trump has used Twitter  —   his prefe...\n",
              "2    Donald Trump is unabashedly praising Russian...\n",
              "3  Updated at 2:50 p. m. ET, Russian President Vl...\n",
              "4  From photography, illustration and video, to d..."
            ]
          },
          "metadata": {
            "tags": []
          },
          "execution_count": 3
        }
      ]
    },
    {
      "cell_type": "code",
      "metadata": {
        "colab": {
          "base_uri": "https://localhost:8080/"
        },
        "id": "l7HSp7xmqyEa",
        "outputId": "19eaaf1d-735a-4f23-9029-3b0bc2c32175"
      },
      "source": [
        "print(npr['Article'][100])"
      ],
      "execution_count": 4,
      "outputs": [
        {
          "output_type": "stream",
          "text": [
            "There are more than 80, 000 educational apps in Apple’s app store. It seems like a great way to encourage brain development and make your little one the smartest baby genius. But just sticking a tablet in your kid’s hands might not be as helpful. Sure, use the app. But it’s not a babysitter  —   you’ve got to help them use it, too. Several recent studies have looked at how young children learn from touchscreens. One study, published in Child Development, compared how   and    learned to build a   puzzle. Some children learned how to assemble the puzzle from a ”ghost demonstration”  —   meaning that, initially, the pieces moved by themselves on the tablet to show how it works. A lot of apps that are intended for young children often have some element of this ghost demonstration: Pieces move on their own or objects will move them. Other children had a person sitting next to them to move the puzzle pieces on the tablet. After they watched the demonstration, both groups of children were asked to complete the task on either a touchscreen tablet or a real puzzle that looked identical to the one they saw. The   and    who saw the ghost demonstration had a hard time replicating the task  —   but did well after they saw the human hand. Researchers concluded that having a human guide  —   often referred to as having social scaffolding  —   helped these young children learn. ”Simply having someone show them how to put that puzzle together, rather than the app showing it to them, allowed them to put that puzzle together themselves” explains Rachel Barr, a professor at Georgetown and one of the authors of the study. ”But taking away that person  —   taking away that scaffold  —   made their performance just look like they had never even seen it before.” Previous research from Barr found that the presence of a parent  —   more social scaffolding  —   increased a child’s ability to transfer knowledge from the tablet to a real object. I spoke with Barr and Laura Zimmermann, the study’s lead author who is now at the University of Delaware, about the takeaways for parents, teachers and app developers. Should we be surprised that   and    learn better from a real person than from a screen?  Rachel Barr: Learning from apps and connecting it to the real world is challenging for a really young child. When we watch children play with touchscreens, it seems so intuitive to them. It’s very easy for us to forget that they are just like any other tool. And just like any other tool, children are going to need to learn how to learn from them. The ease with which we use technology makes us forget that this is really a fairly complex tool. If we think about how many hours each of us as adults spend with technology each day, and if you just add that up over at least 10 years, this is thousands of hours that we spent learning how to use this technology. These babies are only 2 years old, so their amount of experience using the tools is relatively limited. The fact that they don’t just learn everything like magic from these tools means that they require someone to help them with this experience. Is this a plea to have adults interact with the apps their kids are using? Laura Zimmermann: In an ideal world, we would love for there to be joint media engagement. So: Having a scenario in which a parent or a teacher or a sibling or peer is   with the child, interacting, teaching and showing new things to each other. This is an optimal way to promote learning and that should not be downplayed at all. Typically, having another person present during these interactions with touch screens or while viewing television is really beneficial. The parent or teacher can take into consideration what their child knows and build on that  —   something that’s too complex for an app to be able to do. So rather than children interacting with a touch screen on their own, parents can provide support, to then boost their learning or help them transfer what they learned to the real world. They could also connect that information to something else that they have in their home. Barr: With   [it’s] giving the child a little bit of support. That can really help them to process. It’s no different than other learning situations. Technology seems to be able to do everything. But for a very young child, it’s just a tool just like any other. And they need to learn how to do it and the best person to help them may be a parent or older siblings. Can you give me a concrete example? What would this look like?  Barr: Let’s say there’s a show or an app game about a cat and you have a cat living in your house. When that image of the cat is on the screen, the parent can simply say, ”Oh that’s a cat just like ours.” So it’s not sort of   and guiding every single piece of the experience, but it’s providing that information at the key point. ”Here’s the cat. It’s like the cat in our real world.” Or, if they’re playing a game putting together pieces of a puzzle on an app, then afterward, the parent can say, ”Oh let’s get out a real puzzle and switch that out.” Or if they’re building a block tower on an app program, building it with them. And now, ”Let’s build some real blocks.” So it’s just really helping them make those connections that seem obvious to us, but really are more difficult for young children. It doesn’t have to be a whole lot, but the trick is to think about apps and the television more like you think about picture books.  That’s the ideal world. But that doesn’t always happen. Barr: Right. We want to be realistic. Zimmermann: There is going to be interaction without humans. That’s just the nature of our world. Kids are spending time using touchscreens. And if we want to promote the best possible learning, then we have to think about ways that we can provide this social scaffolding in some other form. That’s the way I approach it. I definitely agree that having a parent show a child something would be the gold standard. Very early in life, infants are capable of imitating different facial expressions or sounds, just by observing their parents. This isn’t a new idea, right?  Zimmermann: We know, from decades of work looking at social learning, that kids learn best from a human. Compared to a touch screen, compared to video. There’s real importance in terms of the social scaffolding. Barr: Exactly. It’s the same with books. There’s been a number of studies where we find the same thing. Parental support around   is highly beneficial for later literacy. Around television: Some support around the content, helping them bridge that gap between the 2D world and the 3D world is really helpful. And now these latest findings suggesting the same thing is happening with apps. So, if there’s not a human around, are there things that app developers can incorporate into tablet games to help replace or mimic the social scaffolding?  Zimmermann: App developers could provide information in the app that teaches children or gives them feedback if they’re right or wrong to help improve their learning. Maybe a special sound or other haptic feedback  —   which is a form of touch information, such as vibration. This addition is something that would allow kids to learn, ”Oh I’m doing something right, or I’m doing something wrong,” to help them achieve some type of goal. In our study we did not provide this feedback in the app. We also know from previous work that different factors like repetition can help facilitate learning and encoding of information. So building in things like repetition can be useful for young children. Barr: The really nice thing about technology is that it will repeat. So we know that if babies are able to see the same show again, or the same task, this does help them learn. Zimmermann: There could also be adaptive play  —   things like leveling and scaling. It may be the case that with the       in our study, this puzzle was pretty complex for them. So maybe we should have started with a   puzzle. And depending on either the age of the kids or their previous performance, the app could present information accordingly. So as the kid succeeds on a   puzzle, the app could move on to a   puzzle. The task could get increasingly more complex based on the kid’s individual performance. I also want to be clear that this leveling is not something we manipulated in this particular study, but it’s something that I think future work should look at. When making educational apps, we need to be careful, to go back to the basics. It should be the starting point for developers to ask: ”What do we know about learning and early childhood?” and then use that information to design new technologies. All this is not to say that there aren’t exceptional educational apps out there, but there’s a lot for parents and teachers to sift through. How could this apply to the classroom? Laura Zimmermann: Early educators often require children to transfer knowledge from a task that they learned in one context to another. One example of transfer learning is a teacher showing their students something online or in a video, and then asking them to do an activity in real life or with some   test. Another example, in a preschool or an early elementary school classroom, is children learning basic addition and subtraction with blocks from their teacher. Then later, being asked to transfer their learning to a math activity on a touchscreen for a   assessment. Touchscreen assessments can be very useful tools, but it may be important to consider how their children learn a new skill  —   on a touchscreen or with concrete toys  —   as it may influence how they demonstrate what they have learned. \n"
          ],
          "name": "stdout"
        }
      ]
    },
    {
      "cell_type": "code",
      "metadata": {
        "id": "XC3QHPC4q3qX"
      },
      "source": [
        "from sklearn.feature_extraction.text import CountVectorizer"
      ],
      "execution_count": 5,
      "outputs": []
    },
    {
      "cell_type": "code",
      "metadata": {
        "id": "UeQOFvgwq_9k"
      },
      "source": [
        "cv = CountVectorizer(max_df=0.9, min_df=2, stop_words='english')"
      ],
      "execution_count": 6,
      "outputs": []
    },
    {
      "cell_type": "code",
      "metadata": {
        "id": "r7IImTrQrKZq"
      },
      "source": [
        "dtm = cv.fit_transform(npr['Article'])"
      ],
      "execution_count": 7,
      "outputs": []
    },
    {
      "cell_type": "code",
      "metadata": {
        "colab": {
          "base_uri": "https://localhost:8080/"
        },
        "id": "msQnEMyvrRhe",
        "outputId": "4f0cda8f-360a-4e92-db44-140b30a6510b"
      },
      "source": [
        "dtm"
      ],
      "execution_count": 8,
      "outputs": [
        {
          "output_type": "execute_result",
          "data": {
            "text/plain": [
              "<11992x54777 sparse matrix of type '<class 'numpy.int64'>'\n",
              "\twith 3033388 stored elements in Compressed Sparse Row format>"
            ]
          },
          "metadata": {
            "tags": []
          },
          "execution_count": 8
        }
      ]
    },
    {
      "cell_type": "code",
      "metadata": {
        "id": "c0T7RklyrSPj"
      },
      "source": [
        "from sklearn.decomposition import LatentDirichletAllocation"
      ],
      "execution_count": 9,
      "outputs": []
    },
    {
      "cell_type": "code",
      "metadata": {
        "id": "SjPajBFArdZs"
      },
      "source": [
        "LDA = LatentDirichletAllocation(n_components=7, random_state=42)"
      ],
      "execution_count": 10,
      "outputs": []
    },
    {
      "cell_type": "code",
      "metadata": {
        "colab": {
          "base_uri": "https://localhost:8080/"
        },
        "id": "TbsyN0ZysG0v",
        "outputId": "66ce1005-418a-48f6-8d52-6919133f5a8f"
      },
      "source": [
        "LDA.fit(dtm)"
      ],
      "execution_count": 11,
      "outputs": [
        {
          "output_type": "execute_result",
          "data": {
            "text/plain": [
              "LatentDirichletAllocation(batch_size=128, doc_topic_prior=None,\n",
              "                          evaluate_every=-1, learning_decay=0.7,\n",
              "                          learning_method='batch', learning_offset=10.0,\n",
              "                          max_doc_update_iter=100, max_iter=10,\n",
              "                          mean_change_tol=0.001, n_components=7, n_jobs=None,\n",
              "                          perp_tol=0.1, random_state=42, topic_word_prior=None,\n",
              "                          total_samples=1000000.0, verbose=0)"
            ]
          },
          "metadata": {
            "tags": []
          },
          "execution_count": 11
        }
      ]
    },
    {
      "cell_type": "code",
      "metadata": {
        "colab": {
          "base_uri": "https://localhost:8080/"
        },
        "id": "ClEuzxDOsJdJ",
        "outputId": "453a2914-06f8-43eb-d736-45ae0d1d3522"
      },
      "source": [
        "len(cv.get_feature_names())"
      ],
      "execution_count": 13,
      "outputs": [
        {
          "output_type": "execute_result",
          "data": {
            "text/plain": [
              "54777"
            ]
          },
          "metadata": {
            "tags": []
          },
          "execution_count": 13
        }
      ]
    },
    {
      "cell_type": "code",
      "metadata": {
        "colab": {
          "base_uri": "https://localhost:8080/"
        },
        "id": "yJIXc9jLMJHq",
        "outputId": "2daf3bf3-3b42-490f-8192-d920ac7972cd"
      },
      "source": [
        "import random\n",
        "for i in range(10):\n",
        "    random_word_id = random.randint(0,54776)\n",
        "    print(cv.get_feature_names()[random_word_id])"
      ],
      "execution_count": 14,
      "outputs": [
        {
          "output_type": "stream",
          "text": [
            "effervescent\n",
            "stassen\n",
            "overtakes\n",
            "rosenstiel\n",
            "gunny\n",
            "banter\n",
            "subs\n",
            "sonically\n",
            "251\n",
            "kwa\n"
          ],
          "name": "stdout"
        }
      ]
    },
    {
      "cell_type": "code",
      "metadata": {
        "colab": {
          "base_uri": "https://localhost:8080/"
        },
        "id": "4NEqZ4eiMVXp",
        "outputId": "6ca07475-b74c-4a1b-8a3c-d8edcee6bf8b"
      },
      "source": [
        "len(LDA.components_)"
      ],
      "execution_count": 15,
      "outputs": [
        {
          "output_type": "execute_result",
          "data": {
            "text/plain": [
              "7"
            ]
          },
          "metadata": {
            "tags": []
          },
          "execution_count": 15
        }
      ]
    },
    {
      "cell_type": "code",
      "metadata": {
        "colab": {
          "base_uri": "https://localhost:8080/"
        },
        "id": "hiybME93McDG",
        "outputId": "179fe3da-4466-4c24-a302-94bfbd37e91c"
      },
      "source": [
        "LDA.components_"
      ],
      "execution_count": 16,
      "outputs": [
        {
          "output_type": "execute_result",
          "data": {
            "text/plain": [
              "array([[8.64332806e+00, 2.38014333e+03, 1.42900522e-01, ...,\n",
              "        1.43006821e-01, 1.42902042e-01, 1.42861626e-01],\n",
              "       [2.76191749e+01, 5.36394437e+02, 1.42857148e-01, ...,\n",
              "        1.42861973e-01, 1.42857147e-01, 1.42906875e-01],\n",
              "       [7.22783888e+00, 8.24033986e+02, 1.42857148e-01, ...,\n",
              "        6.14236247e+00, 2.14061364e+00, 1.42923753e-01],\n",
              "       ...,\n",
              "       [3.11488651e+00, 3.50409655e+02, 1.42857147e-01, ...,\n",
              "        1.42859912e-01, 1.42857146e-01, 1.42866614e-01],\n",
              "       [4.61486388e+01, 5.14408600e+01, 3.14281373e+00, ...,\n",
              "        1.43107628e-01, 1.43902481e-01, 2.14271779e+00],\n",
              "       [4.93991422e-01, 4.18841042e+02, 1.42857151e-01, ...,\n",
              "        1.42857146e-01, 1.43760101e-01, 1.42866201e-01]])"
            ]
          },
          "metadata": {
            "tags": []
          },
          "execution_count": 16
        }
      ]
    },
    {
      "cell_type": "code",
      "metadata": {
        "colab": {
          "base_uri": "https://localhost:8080/"
        },
        "id": "fcwnGI3RMfmq",
        "outputId": "c02cce59-ee73-4f6c-f6b2-9e827b5b91b0"
      },
      "source": [
        "len(LDA.components_[0])"
      ],
      "execution_count": 17,
      "outputs": [
        {
          "output_type": "execute_result",
          "data": {
            "text/plain": [
              "54777"
            ]
          },
          "metadata": {
            "tags": []
          },
          "execution_count": 17
        }
      ]
    },
    {
      "cell_type": "code",
      "metadata": {
        "id": "2rOHxKSZMjFi"
      },
      "source": [
        "single_topic = LDA.components_[0]"
      ],
      "execution_count": 18,
      "outputs": []
    },
    {
      "cell_type": "code",
      "metadata": {
        "colab": {
          "base_uri": "https://localhost:8080/"
        },
        "id": "8xc3kwPVMl9K",
        "outputId": "97daf79e-b2b2-45f0-dcd3-4ba91b1d7f5a"
      },
      "source": [
        "# Returns the indices that would sort this array.\n",
        "single_topic.argsort()"
      ],
      "execution_count": 19,
      "outputs": [
        {
          "output_type": "execute_result",
          "data": {
            "text/plain": [
              "array([ 2475, 18302, 35285, ..., 22673, 42561, 42993])"
            ]
          },
          "metadata": {
            "tags": []
          },
          "execution_count": 19
        }
      ]
    },
    {
      "cell_type": "code",
      "metadata": {
        "colab": {
          "base_uri": "https://localhost:8080/"
        },
        "id": "bOVuHiLwMpok",
        "outputId": "dd95fb3d-b87a-43bb-b6a8-69af3e00206c"
      },
      "source": [
        "# Top 10 words for this topic:\n",
        "single_topic.argsort()[-10:]"
      ],
      "execution_count": 20,
      "outputs": [
        {
          "output_type": "execute_result",
          "data": {
            "text/plain": [
              "array([33390, 36310, 21228, 10425, 31464,  8149, 36283, 22673, 42561,\n",
              "       42993])"
            ]
          },
          "metadata": {
            "tags": []
          },
          "execution_count": 20
        }
      ]
    },
    {
      "cell_type": "code",
      "metadata": {
        "id": "E_8DkS7YMvx4"
      },
      "source": [
        "top_word_indices = single_topic.argsort()[-10:]"
      ],
      "execution_count": 21,
      "outputs": []
    },
    {
      "cell_type": "code",
      "metadata": {
        "colab": {
          "base_uri": "https://localhost:8080/"
        },
        "id": "jVWe-PwYMywV",
        "outputId": "ca8587cc-c666-4f65-d22c-aa55ca17485e"
      },
      "source": [
        "for index in top_word_indices:\n",
        "    print(cv.get_feature_names()[index])"
      ],
      "execution_count": 22,
      "outputs": [
        {
          "output_type": "stream",
          "text": [
            "new\n",
            "percent\n",
            "government\n",
            "company\n",
            "million\n",
            "care\n",
            "people\n",
            "health\n",
            "said\n",
            "says\n"
          ],
          "name": "stdout"
        }
      ]
    },
    {
      "cell_type": "code",
      "metadata": {
        "colab": {
          "base_uri": "https://localhost:8080/"
        },
        "id": "E5b6wBGAM1cx",
        "outputId": "5bc2f671-91ef-476f-d585-ec125d509c58"
      },
      "source": [
        "for index,topic in enumerate(LDA.components_):\n",
        "    print(f'THE TOP 15 WORDS FOR TOPIC #{index}')\n",
        "    print([cv.get_feature_names()[i] for i in topic.argsort()[-15:]])\n",
        "    print('\\n')"
      ],
      "execution_count": 23,
      "outputs": [
        {
          "output_type": "stream",
          "text": [
            "THE TOP 15 WORDS FOR TOPIC #0\n",
            "['companies', 'money', 'year', 'federal', '000', 'new', 'percent', 'government', 'company', 'million', 'care', 'people', 'health', 'said', 'says']\n",
            "\n",
            "\n",
            "THE TOP 15 WORDS FOR TOPIC #1\n",
            "['military', 'house', 'security', 'russia', 'government', 'npr', 'reports', 'says', 'news', 'people', 'told', 'police', 'president', 'trump', 'said']\n",
            "\n",
            "\n",
            "THE TOP 15 WORDS FOR TOPIC #2\n",
            "['way', 'world', 'family', 'home', 'day', 'time', 'water', 'city', 'new', 'years', 'food', 'just', 'people', 'like', 'says']\n",
            "\n",
            "\n",
            "THE TOP 15 WORDS FOR TOPIC #3\n",
            "['time', 'new', 'don', 'years', 'medical', 'disease', 'patients', 'just', 'children', 'study', 'like', 'women', 'health', 'people', 'says']\n",
            "\n",
            "\n",
            "THE TOP 15 WORDS FOR TOPIC #4\n",
            "['voters', 'vote', 'election', 'party', 'new', 'obama', 'court', 'republican', 'campaign', 'people', 'state', 'president', 'clinton', 'said', 'trump']\n",
            "\n",
            "\n",
            "THE TOP 15 WORDS FOR TOPIC #5\n",
            "['years', 'going', 've', 'life', 'don', 'new', 'way', 'music', 'really', 'time', 'know', 'think', 'people', 'just', 'like']\n",
            "\n",
            "\n",
            "THE TOP 15 WORDS FOR TOPIC #6\n",
            "['student', 'years', 'data', 'science', 'university', 'people', 'time', 'schools', 'just', 'education', 'new', 'like', 'students', 'school', 'says']\n",
            "\n",
            "\n"
          ],
          "name": "stdout"
        }
      ]
    },
    {
      "cell_type": "code",
      "metadata": {
        "colab": {
          "base_uri": "https://localhost:8080/"
        },
        "id": "STQ385E3M9iF",
        "outputId": "9a338564-0624-4b7e-b8ec-94dd7ec35af4"
      },
      "source": [
        "dtm"
      ],
      "execution_count": 24,
      "outputs": [
        {
          "output_type": "execute_result",
          "data": {
            "text/plain": [
              "<11992x54777 sparse matrix of type '<class 'numpy.int64'>'\n",
              "\twith 3033388 stored elements in Compressed Sparse Row format>"
            ]
          },
          "metadata": {
            "tags": []
          },
          "execution_count": 24
        }
      ]
    },
    {
      "cell_type": "code",
      "metadata": {
        "colab": {
          "base_uri": "https://localhost:8080/"
        },
        "id": "VUctJGzANCya",
        "outputId": "c9fc5705-3d11-455f-a255-1242b168ec6e"
      },
      "source": [
        "len(npr)"
      ],
      "execution_count": 25,
      "outputs": [
        {
          "output_type": "execute_result",
          "data": {
            "text/plain": [
              "11992"
            ]
          },
          "metadata": {
            "tags": []
          },
          "execution_count": 25
        }
      ]
    },
    {
      "cell_type": "code",
      "metadata": {
        "id": "xYmy80KYNGEf"
      },
      "source": [
        "topic_results = LDA.transform(dtm)"
      ],
      "execution_count": 26,
      "outputs": []
    },
    {
      "cell_type": "code",
      "metadata": {
        "colab": {
          "base_uri": "https://localhost:8080/"
        },
        "id": "5f_I32BeNJnh",
        "outputId": "02700ddc-cc28-4937-f4a4-0b4ef898bde1"
      },
      "source": [
        "topic_results.shape"
      ],
      "execution_count": 27,
      "outputs": [
        {
          "output_type": "execute_result",
          "data": {
            "text/plain": [
              "(11992, 7)"
            ]
          },
          "metadata": {
            "tags": []
          },
          "execution_count": 27
        }
      ]
    },
    {
      "cell_type": "code",
      "metadata": {
        "colab": {
          "base_uri": "https://localhost:8080/"
        },
        "id": "RjNWdDroNQwL",
        "outputId": "ee9c742a-7dde-4a54-ff15-71a171f16138"
      },
      "source": [
        "topic_results[0]\n",
        "topic_results[0].round(2)"
      ],
      "execution_count": 28,
      "outputs": [
        {
          "output_type": "execute_result",
          "data": {
            "text/plain": [
              "array([0.02, 0.68, 0.  , 0.  , 0.3 , 0.  , 0.  ])"
            ]
          },
          "metadata": {
            "tags": []
          },
          "execution_count": 28
        }
      ]
    },
    {
      "cell_type": "code",
      "metadata": {
        "colab": {
          "base_uri": "https://localhost:8080/"
        },
        "id": "JhVdLhkyNXfB",
        "outputId": "8148d9c9-663c-45e3-c219-b18a7a3874df"
      },
      "source": [
        "topic_results[0].argmax()"
      ],
      "execution_count": 29,
      "outputs": [
        {
          "output_type": "execute_result",
          "data": {
            "text/plain": [
              "1"
            ]
          },
          "metadata": {
            "tags": []
          },
          "execution_count": 29
        }
      ]
    },
    {
      "cell_type": "code",
      "metadata": {
        "colab": {
          "base_uri": "https://localhost:8080/",
          "height": 195
        },
        "id": "moJ9CYOLNaZX",
        "outputId": "c6832b42-54b1-4889-a2b5-25e88db9ebb0"
      },
      "source": [
        "npr.head()"
      ],
      "execution_count": 30,
      "outputs": [
        {
          "output_type": "execute_result",
          "data": {
            "text/html": [
              "<div>\n",
              "<style scoped>\n",
              "    .dataframe tbody tr th:only-of-type {\n",
              "        vertical-align: middle;\n",
              "    }\n",
              "\n",
              "    .dataframe tbody tr th {\n",
              "        vertical-align: top;\n",
              "    }\n",
              "\n",
              "    .dataframe thead th {\n",
              "        text-align: right;\n",
              "    }\n",
              "</style>\n",
              "<table border=\"1\" class=\"dataframe\">\n",
              "  <thead>\n",
              "    <tr style=\"text-align: right;\">\n",
              "      <th></th>\n",
              "      <th>Article</th>\n",
              "    </tr>\n",
              "  </thead>\n",
              "  <tbody>\n",
              "    <tr>\n",
              "      <th>0</th>\n",
              "      <td>In the Washington of 2016, even when the polic...</td>\n",
              "    </tr>\n",
              "    <tr>\n",
              "      <th>1</th>\n",
              "      <td>Donald Trump has used Twitter  —   his prefe...</td>\n",
              "    </tr>\n",
              "    <tr>\n",
              "      <th>2</th>\n",
              "      <td>Donald Trump is unabashedly praising Russian...</td>\n",
              "    </tr>\n",
              "    <tr>\n",
              "      <th>3</th>\n",
              "      <td>Updated at 2:50 p. m. ET, Russian President Vl...</td>\n",
              "    </tr>\n",
              "    <tr>\n",
              "      <th>4</th>\n",
              "      <td>From photography, illustration and video, to d...</td>\n",
              "    </tr>\n",
              "  </tbody>\n",
              "</table>\n",
              "</div>"
            ],
            "text/plain": [
              "                                             Article\n",
              "0  In the Washington of 2016, even when the polic...\n",
              "1    Donald Trump has used Twitter  —   his prefe...\n",
              "2    Donald Trump is unabashedly praising Russian...\n",
              "3  Updated at 2:50 p. m. ET, Russian President Vl...\n",
              "4  From photography, illustration and video, to d..."
            ]
          },
          "metadata": {
            "tags": []
          },
          "execution_count": 30
        }
      ]
    },
    {
      "cell_type": "code",
      "metadata": {
        "colab": {
          "base_uri": "https://localhost:8080/"
        },
        "id": "tJaDPVCENedG",
        "outputId": "7916bda7-060e-4ca5-b674-fa505773ecd8"
      },
      "source": [
        "topic_results.argmax(axis=1)"
      ],
      "execution_count": 31,
      "outputs": [
        {
          "output_type": "execute_result",
          "data": {
            "text/plain": [
              "array([1, 1, 1, ..., 3, 4, 0])"
            ]
          },
          "metadata": {
            "tags": []
          },
          "execution_count": 31
        }
      ]
    },
    {
      "cell_type": "code",
      "metadata": {
        "id": "Xe_muwzBNh4_"
      },
      "source": [
        "npr['Topic'] = topic_results.argmax(axis=1)"
      ],
      "execution_count": 32,
      "outputs": []
    },
    {
      "cell_type": "code",
      "metadata": {
        "colab": {
          "base_uri": "https://localhost:8080/",
          "height": 343
        },
        "id": "leav7hLlNmti",
        "outputId": "510aa529-8db9-4faa-f4df-98ab5fc86ffe"
      },
      "source": [
        "npr.head(10)"
      ],
      "execution_count": 33,
      "outputs": [
        {
          "output_type": "execute_result",
          "data": {
            "text/html": [
              "<div>\n",
              "<style scoped>\n",
              "    .dataframe tbody tr th:only-of-type {\n",
              "        vertical-align: middle;\n",
              "    }\n",
              "\n",
              "    .dataframe tbody tr th {\n",
              "        vertical-align: top;\n",
              "    }\n",
              "\n",
              "    .dataframe thead th {\n",
              "        text-align: right;\n",
              "    }\n",
              "</style>\n",
              "<table border=\"1\" class=\"dataframe\">\n",
              "  <thead>\n",
              "    <tr style=\"text-align: right;\">\n",
              "      <th></th>\n",
              "      <th>Article</th>\n",
              "      <th>Topic</th>\n",
              "    </tr>\n",
              "  </thead>\n",
              "  <tbody>\n",
              "    <tr>\n",
              "      <th>0</th>\n",
              "      <td>In the Washington of 2016, even when the polic...</td>\n",
              "      <td>1</td>\n",
              "    </tr>\n",
              "    <tr>\n",
              "      <th>1</th>\n",
              "      <td>Donald Trump has used Twitter  —   his prefe...</td>\n",
              "      <td>1</td>\n",
              "    </tr>\n",
              "    <tr>\n",
              "      <th>2</th>\n",
              "      <td>Donald Trump is unabashedly praising Russian...</td>\n",
              "      <td>1</td>\n",
              "    </tr>\n",
              "    <tr>\n",
              "      <th>3</th>\n",
              "      <td>Updated at 2:50 p. m. ET, Russian President Vl...</td>\n",
              "      <td>1</td>\n",
              "    </tr>\n",
              "    <tr>\n",
              "      <th>4</th>\n",
              "      <td>From photography, illustration and video, to d...</td>\n",
              "      <td>2</td>\n",
              "    </tr>\n",
              "    <tr>\n",
              "      <th>5</th>\n",
              "      <td>I did not want to join yoga class. I hated tho...</td>\n",
              "      <td>3</td>\n",
              "    </tr>\n",
              "    <tr>\n",
              "      <th>6</th>\n",
              "      <td>With a   who has publicly supported the debunk...</td>\n",
              "      <td>3</td>\n",
              "    </tr>\n",
              "    <tr>\n",
              "      <th>7</th>\n",
              "      <td>I was standing by the airport exit, debating w...</td>\n",
              "      <td>2</td>\n",
              "    </tr>\n",
              "    <tr>\n",
              "      <th>8</th>\n",
              "      <td>If movies were trying to be more realistic, pe...</td>\n",
              "      <td>3</td>\n",
              "    </tr>\n",
              "    <tr>\n",
              "      <th>9</th>\n",
              "      <td>Eighteen years ago, on New Year’s Eve, David F...</td>\n",
              "      <td>2</td>\n",
              "    </tr>\n",
              "  </tbody>\n",
              "</table>\n",
              "</div>"
            ],
            "text/plain": [
              "                                             Article  Topic\n",
              "0  In the Washington of 2016, even when the polic...      1\n",
              "1    Donald Trump has used Twitter  —   his prefe...      1\n",
              "2    Donald Trump is unabashedly praising Russian...      1\n",
              "3  Updated at 2:50 p. m. ET, Russian President Vl...      1\n",
              "4  From photography, illustration and video, to d...      2\n",
              "5  I did not want to join yoga class. I hated tho...      3\n",
              "6  With a   who has publicly supported the debunk...      3\n",
              "7  I was standing by the airport exit, debating w...      2\n",
              "8  If movies were trying to be more realistic, pe...      3\n",
              "9  Eighteen years ago, on New Year’s Eve, David F...      2"
            ]
          },
          "metadata": {
            "tags": []
          },
          "execution_count": 33
        }
      ]
    },
    {
      "cell_type": "code",
      "metadata": {
        "id": "xJ_wZCEfNohz"
      },
      "source": [
        ""
      ],
      "execution_count": null,
      "outputs": []
    }
  ]
}