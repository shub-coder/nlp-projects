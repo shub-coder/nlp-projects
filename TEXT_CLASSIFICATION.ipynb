{
  "nbformat": 4,
  "nbformat_minor": 0,
  "metadata": {
    "colab": {
      "name": "TEXT CLASSIFICATION.ipynb",
      "provenance": []
    },
    "kernelspec": {
      "name": "python3",
      "display_name": "Python 3"
    },
    "language_info": {
      "name": "python"
    }
  },
  "cells": [
    {
      "cell_type": "code",
      "metadata": {
        "id": "JRHs9HIpE_Rw"
      },
      "source": [
        "import numpy as np\n",
        "import pandas as pd"
      ],
      "execution_count": 1,
      "outputs": []
    },
    {
      "cell_type": "code",
      "metadata": {
        "id": "OypVPIZzFLeU"
      },
      "source": [
        "df = pd.read_csv('/content/moviereviews.tsv', sep = '\\t')"
      ],
      "execution_count": 2,
      "outputs": []
    },
    {
      "cell_type": "code",
      "metadata": {
        "colab": {
          "base_uri": "https://localhost:8080/"
        },
        "id": "doaRXHmSFmH9",
        "outputId": "0b7a70bc-bbec-4e48-ffc1-bd006ea6f52f"
      },
      "source": [
        "len(df)"
      ],
      "execution_count": 3,
      "outputs": [
        {
          "output_type": "execute_result",
          "data": {
            "text/plain": [
              "1088"
            ]
          },
          "metadata": {
            "tags": []
          },
          "execution_count": 3
        }
      ]
    },
    {
      "cell_type": "code",
      "metadata": {
        "colab": {
          "base_uri": "https://localhost:8080/"
        },
        "id": "ynJUlUk3G5A2",
        "outputId": "565d44e6-29e2-4660-e7e6-cd713c91fd35"
      },
      "source": [
        "print(df['review'][2])"
      ],
      "execution_count": 4,
      "outputs": [
        {
          "output_type": "stream",
          "text": [
            "this has been an extraordinary year for australian films . \r\n",
            " \" shine \" has just scooped the pool at the australian film institute awards , picking up best film , best actor , best director etc . to that we can add the gritty \" life \" ( the anguish , courage and friendship of a group of male prisoners in the hiv-positive section of a jail ) and \" love and other catastrophes \" ( a low budget gem about straight and gay love on and near a university campus ) . \r\n",
            "i can't recall a year in which such a rich and varied celluloid library was unleashed from australia . \r\n",
            " \" shine \" was one bookend . \r\n",
            "stand by for the other one : \" dead heart \" . \r\n",
            ">from the opening credits the theme of division is established . \r\n",
            "the cast credits have clear and distinct lines separating their first and last names . \r\n",
            "bryan | brown . \r\n",
            "in a desert settlement , hundreds of kilometres from the nearest town , there is an uneasy calm between the local aboriginals and the handful of white settlers who live nearby . \r\n",
            "the local police officer has the task of enforcing \" white man's justice \" to the aboriginals . \r\n",
            "these are people with a proud 40 , 000 year heritage behind them . \r\n",
            "naturally , this includes their own system of justice ; key to which is \" payback \" . \r\n",
            "an eye for an eye . \r\n",
            "revenge . \r\n",
            "usually extracted by the spearing through of the recipient's thigh . \r\n",
            "brown , as the officer , manages quite well to keep the balance . \r\n",
            "he admits that he has to 'bend the rules' a bit , including actively encouraging at least one brutal \" payback \" . \r\n",
            " ( be warned that this scene , near the start , is not for the squeamish ) . \r\n",
            "the local priest - an aboriginal , but in the \" white fellas \" church - has a foot on either side of the line . \r\n",
            "he is , figuratively and literally , in both camps . \r\n",
            "ernie dingo brings a great deal of understanding to this role as the man in the middle . \r\n",
            "he is part churchman and part politician . \r\n",
            "however the tension , like the heat , flies and dust , is always there . \r\n",
            "whilst her husband - the local teacher - is in church , white lady kate ( milliken ) and her aborginal friend tony , ( pedersen ) have gone off into the hills . \r\n",
            "he takes her to a sacred site , even today strictly men-only . \r\n",
            "she appears to not know this . \r\n",
            "tony tells her that this is a special place , an initiation place . \r\n",
            "he then makes love to her , surrounded by ancient rock art . \r\n",
            "the community finds out about this sacrilegious act and it's payback time . \r\n",
            "the fuse is lit and the brittle inter-racial peace is shattered . \r\n",
            "everyone is affected in the fall out . \r\n",
            "to say more is to give away the details of this finely crafted film . \r\n",
            "suffice to say it's a rewarding experience . \r\n",
            "bryan brown , acting and co-producing , is the pivotal character . \r\n",
            "his officer is real , human and therefore flawed . \r\n",
            "brown comments that he expects audiences to feel warmth towards the man , then suddenly feel angry about him . \r\n",
            "it wasn't long ago that i visited central australia - ayers rock ( uluru ) and alice springs - for the first time . \r\n",
            "the wide-screen cinematography shows the dead heart of australia in a way that captures it's vicious beauty , but never deteriorates into a moving slide show , in which the gorgeous background dominates those pesky actors in the foreground . \r\n",
            "the cultural clash has provided the thesis for many a film ; from the western to the birdcage . \r\n",
            "at least three excellent australian films have covered the aboriginal people and the line between them and we anglo-saxon 'invaders' : \" jedda \" , \" the chant of jimmie blacksmith \" and \" the last wave \" . \r\n",
            "in a year when the race 'debate' has reared up in australia , it is nourishing to see such an intelligent , non-judgemental film as \" dead heart \" . \r\n",
            "the aboriginal priest best sums this up . \r\n",
            "he is asked to say if he is a \" black fella or white fella \" . \r\n",
            "\n"
          ],
          "name": "stdout"
        }
      ]
    },
    {
      "cell_type": "code",
      "metadata": {
        "colab": {
          "base_uri": "https://localhost:8080/"
        },
        "id": "zK45jjJpG-gy",
        "outputId": "022efd69-2b04-4e76-ae62-ebd5cfad8037"
      },
      "source": [
        "df.isnull().sum()"
      ],
      "execution_count": 5,
      "outputs": [
        {
          "output_type": "execute_result",
          "data": {
            "text/plain": [
              "label      0\n",
              "review    16\n",
              "dtype: int64"
            ]
          },
          "metadata": {
            "tags": []
          },
          "execution_count": 5
        }
      ]
    },
    {
      "cell_type": "code",
      "metadata": {
        "id": "NDUlFs7lHLM9"
      },
      "source": [
        "df.dropna(inplace=True)"
      ],
      "execution_count": 6,
      "outputs": []
    },
    {
      "cell_type": "code",
      "metadata": {
        "id": "iAbZwAlWHQUh"
      },
      "source": [
        "  blanks = []\n",
        "\n",
        "  for i, lb, rv in df.itertuples():\n",
        "    if rv.isspace():\n",
        "      blanks.append(i)"
      ],
      "execution_count": 8,
      "outputs": []
    },
    {
      "cell_type": "code",
      "metadata": {
        "colab": {
          "base_uri": "https://localhost:8080/"
        },
        "id": "PQWBqj3wH8Ne",
        "outputId": "0e36ef34-9eb4-43e6-ce4b-da86a4f66462"
      },
      "source": [
        " blanks"
      ],
      "execution_count": 9,
      "outputs": [
        {
          "output_type": "execute_result",
          "data": {
            "text/plain": [
              "[57,\n",
              " 71,\n",
              " 147,\n",
              " 151,\n",
              " 283,\n",
              " 307,\n",
              " 313,\n",
              " 323,\n",
              " 343,\n",
              " 351,\n",
              " 427,\n",
              " 501,\n",
              " 633,\n",
              " 675,\n",
              " 815,\n",
              " 851,\n",
              " 977,\n",
              " 1079,\n",
              " 1087]"
            ]
          },
          "metadata": {
            "tags": []
          },
          "execution_count": 9
        }
      ]
    },
    {
      "cell_type": "code",
      "metadata": {
        "id": "h9n21Rx2IHk1"
      },
      "source": [
        "df.drop(blanks,inplace=True)"
      ],
      "execution_count": 11,
      "outputs": []
    },
    {
      "cell_type": "code",
      "metadata": {
        "colab": {
          "base_uri": "https://localhost:8080/"
        },
        "id": "DjSoAV5vIM_8",
        "outputId": "a6d29478-8b0b-442b-f2cc-209763cf294f"
      },
      "source": [
        "len(df)"
      ],
      "execution_count": 12,
      "outputs": [
        {
          "output_type": "execute_result",
          "data": {
            "text/plain": [
              "1053"
            ]
          },
          "metadata": {
            "tags": []
          },
          "execution_count": 12
        }
      ]
    },
    {
      "cell_type": "code",
      "metadata": {
        "id": "wTuTJDgjIQGB"
      },
      "source": [
        "from sklearn.model_selection import train_test_split\n",
        "X = df['review']\n",
        "y = df['label']\n",
        "X_train,X_test, y_train,y_test = train_test_split(X,y,test_size = 0.3, random_state = 42)\n"
      ],
      "execution_count": 13,
      "outputs": []
    },
    {
      "cell_type": "code",
      "metadata": {
        "id": "biIw0A8ZIu6r"
      },
      "source": [
        "from sklearn.pipeline import Pipeline\n",
        "from sklearn.feature_extraction.text import TfidfVectorizer\n",
        "from sklearn.svm import LinearSVC"
      ],
      "execution_count": 14,
      "outputs": []
    },
    {
      "cell_type": "code",
      "metadata": {
        "id": "h6DI-OSdI_ZG"
      },
      "source": [
        "text_clf = Pipeline([('tfidf', TfidfVectorizer()), ('clf', LinearSVC() )])"
      ],
      "execution_count": 19,
      "outputs": []
    },
    {
      "cell_type": "code",
      "metadata": {
        "colab": {
          "base_uri": "https://localhost:8080/"
        },
        "id": "aDh2-iqDKSZ8",
        "outputId": "d71bfb19-5c30-4bd7-a4f7-e0a5e4d7e3e0"
      },
      "source": [
        "text_clf.fit(X_train,y_train)"
      ],
      "execution_count": 20,
      "outputs": [
        {
          "output_type": "execute_result",
          "data": {
            "text/plain": [
              "Pipeline(memory=None,\n",
              "         steps=[('tfidf',\n",
              "                 TfidfVectorizer(analyzer='word', binary=False,\n",
              "                                 decode_error='strict',\n",
              "                                 dtype=<class 'numpy.float64'>,\n",
              "                                 encoding='utf-8', input='content',\n",
              "                                 lowercase=True, max_df=1.0, max_features=None,\n",
              "                                 min_df=1, ngram_range=(1, 1), norm='l2',\n",
              "                                 preprocessor=None, smooth_idf=True,\n",
              "                                 stop_words=None, strip_accents=None,\n",
              "                                 sublinear_tf=False,\n",
              "                                 token_pattern='(?u)\\\\b\\\\w\\\\w+\\\\b',\n",
              "                                 tokenizer=None, use_idf=True,\n",
              "                                 vocabulary=None)),\n",
              "                ('clf',\n",
              "                 LinearSVC(C=1.0, class_weight=None, dual=True,\n",
              "                           fit_intercept=True, intercept_scaling=1,\n",
              "                           loss='squared_hinge', max_iter=1000,\n",
              "                           multi_class='ovr', penalty='l2', random_state=None,\n",
              "                           tol=0.0001, verbose=0))],\n",
              "         verbose=False)"
            ]
          },
          "metadata": {
            "tags": []
          },
          "execution_count": 20
        }
      ]
    },
    {
      "cell_type": "code",
      "metadata": {
        "id": "NHWPv_hMJ9Lm"
      },
      "source": [
        "prediction = text_clf.predict(X_test)"
      ],
      "execution_count": 21,
      "outputs": []
    },
    {
      "cell_type": "code",
      "metadata": {
        "colab": {
          "base_uri": "https://localhost:8080/"
        },
        "id": "jvLAB7GLKDVU",
        "outputId": "f6c1be59-ec31-43e5-bd25-7d81ade89009"
      },
      "source": [
        "from sklearn.metrics import confusion_matrix, accuracy_score, classification_report\n",
        "print(confusion_matrix(y_test, prediction))\n",
        "print(classification_report(y_test,prediction)) "
      ],
      "execution_count": 23,
      "outputs": [
        {
          "output_type": "stream",
          "text": [
            "[[136  33]\n",
            " [ 13 134]]\n",
            "              precision    recall  f1-score   support\n",
            "\n",
            "         neg       0.91      0.80      0.86       169\n",
            "         pos       0.80      0.91      0.85       147\n",
            "\n",
            "    accuracy                           0.85       316\n",
            "   macro avg       0.86      0.86      0.85       316\n",
            "weighted avg       0.86      0.85      0.85       316\n",
            "\n"
          ],
          "name": "stdout"
        }
      ]
    },
    {
      "cell_type": "code",
      "metadata": {
        "colab": {
          "base_uri": "https://localhost:8080/"
        },
        "id": "gvAADZjDK297",
        "outputId": "0d8e38d1-e49e-4fa9-9305-e6aefba3535e"
      },
      "source": [
        "print(accuracy_score(y_test,prediction))"
      ],
      "execution_count": 25,
      "outputs": [
        {
          "output_type": "stream",
          "text": [
            "0.8544303797468354\n"
          ],
          "name": "stdout"
        }
      ]
    },
    {
      "cell_type": "code",
      "metadata": {
        "id": "PcCmSmvRLr4N"
      },
      "source": [
        ""
      ],
      "execution_count": null,
      "outputs": []
    }
  ]
}